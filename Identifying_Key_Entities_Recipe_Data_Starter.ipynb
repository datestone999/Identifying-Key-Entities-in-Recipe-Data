{
  "nbformat": 4,
  "nbformat_minor": 0,
  "metadata": {
    "colab": {
      "provenance": [],
      "collapsed_sections": [
        "hJm2nUw0998s"
      ],
      "include_colab_link": true
    },
    "kernelspec": {
      "name": "python3",
      "display_name": "Python 3"
    },
    "language_info": {
      "name": "python"
    }
  },
  "cells": [
    {
      "cell_type": "markdown",
      "metadata": {
        "id": "view-in-github",
        "colab_type": "text"
      },
      "source": [
        "<a href=\"https://colab.research.google.com/github/datestone999/Identifying-Key-Entities-in-Recipe-Data/blob/main/Identifying_Key_Entities_Recipe_Data_Starter.ipynb\" target=\"_parent\"><img src=\"https://colab.research.google.com/assets/colab-badge.svg\" alt=\"Open In Colab\"/></a>"
      ]
    },
    {
      "cell_type": "markdown",
      "source": [
        "# **Identifying Key Entities in Recipe Data**"
      ],
      "metadata": {
        "id": "42UBKEnat_xo"
      }
    },
    {
      "cell_type": "markdown",
      "source": [
        "\n",
        "**Business Objective**:\n",
        "The goal of this assignment is to train a Named Entity Recognition (NER) model using Conditional Random Fields (CRF) to extract key entities from recipe data. The model will classify words into predefined categories such as ingredients, quantities and units, enabling the creation of a structured database of recipes and ingredients that can be used to power advanced features in recipe management systems, dietary tracking apps, or e-commerce platforms."
      ],
      "metadata": {
        "id": "Pme3h_fduOKh"
      }
    },
    {
      "cell_type": "markdown",
      "source": [
        "### **Data Description**\n",
        "The given data is in JSON format, representing a **structured recipe ingredient list** with **Named Entity Recognition (NER) labels**. Below is a breakdown of the data fields:\n",
        "\n",
        "```json\n",
        "[\n",
        "    {\n",
        "        \"input\": \"6 Karela Bitter Gourd Pavakkai Salt 1 Onion 3 tablespoon Gram flour besan 2 teaspoons Turmeric powder Haldi Red Chilli Cumin seeds Jeera Coriander Powder Dhania Amchur Dry Mango Sunflower Oil\",\n",
        "        \"pos\": \"quantity ingredient ingredient ingredient ingredient ingredient quantity ingredient quantity unit ingredient ingredient ingredient quantity unit ingredient ingredient ingredient ingredient ingredient ingredient ingredient ingredient ingredient ingredient ingredient ingredient ingredient ingredient ingredient ingredient\"\n",
        "    },\n",
        "    {\n",
        "      \"input\": \"2-1/2 cups rice cooked 3 tomatoes teaspoons BC Belle Bhat powder 1 teaspoon chickpea lentils 1/2 cumin seeds white urad dal mustard green chilli dry red 2 cashew or peanuts 1-1/2 tablespoon oil asafoetida\",\n",
        "      \"pos\": \"quantity unit ingredient ingredient quantity ingredient unit ingredient ingredient ingredient ingredient quantity unit ingredient ingredient quantity ingredient ingredient ingredient ingredient ingredient ingredient ingredient ingredient ingredient ingredient quantity ingredient ingredient ingredient quantity unit ingredient ingredient\"\n",
        "    }\n",
        "]\n"
      ],
      "metadata": {
        "id": "FXzoAs8evNG0"
      }
    },
    {
      "cell_type": "markdown",
      "source": [
        "| **Key**  | **Description**  |\n",
        "|----------|-----------------|\n",
        "| `input`  | Contains a raw ingredient list from a recipe. |\n",
        "| `pos`    | Represents the corresponding part-of-speech (POS) tags or NER labels, identifying quantities, ingredients, and units. |\n"
      ],
      "metadata": {
        "id": "LSDcNvJlwC6N"
      }
    },
    {
      "cell_type": "markdown",
      "source": [
        "## **1** Import libraries"
      ],
      "metadata": {
        "id": "phenosA4se1c"
      }
    },
    {
      "cell_type": "markdown",
      "source": [
        "#### **1.1** Installation of sklearn-crfsuite"
      ],
      "metadata": {
        "id": "Br-jQHin3kQX"
      }
    },
    {
      "cell_type": "markdown",
      "source": [
        "sklearn-crfsuite is a Python wrapper for CRFsuite, a fast and efficient implementation of Conditional Random Fields (CRFs). It is designed to integrate seamlessly with scikit-learn for structured prediction tasks such as Named Entity Recognition (NER), Part-of-Speech (POS) tagging, and chunking."
      ],
      "metadata": {
        "id": "DPhaJSfCwpfa"
      }
    },
    {
      "cell_type": "code",
      "source": [
        "# installation of sklearn_crfsuite\n",
        "!pip install sklearn_crfsuite==0.5.0"
      ],
      "metadata": {
        "id": "_QawokgQXAMO",
        "colab": {
          "base_uri": "https://localhost:8080/"
        },
        "outputId": "d02aca8f-cea5-43af-e4d5-2adf293586e3"
      },
      "execution_count": 1,
      "outputs": [
        {
          "output_type": "stream",
          "name": "stdout",
          "text": [
            "Collecting sklearn_crfsuite==0.5.0\n",
            "  Downloading sklearn_crfsuite-0.5.0-py2.py3-none-any.whl.metadata (4.9 kB)\n",
            "Collecting python-crfsuite>=0.9.7 (from sklearn_crfsuite==0.5.0)\n",
            "  Downloading python_crfsuite-0.9.11-cp311-cp311-manylinux_2_17_x86_64.manylinux2014_x86_64.whl.metadata (4.3 kB)\n",
            "Requirement already satisfied: scikit-learn>=0.24.0 in /usr/local/lib/python3.11/dist-packages (from sklearn_crfsuite==0.5.0) (1.6.1)\n",
            "Requirement already satisfied: tabulate>=0.4.2 in /usr/local/lib/python3.11/dist-packages (from sklearn_crfsuite==0.5.0) (0.9.0)\n",
            "Requirement already satisfied: tqdm>=2.0 in /usr/local/lib/python3.11/dist-packages (from sklearn_crfsuite==0.5.0) (4.67.1)\n",
            "Requirement already satisfied: numpy>=1.19.5 in /usr/local/lib/python3.11/dist-packages (from scikit-learn>=0.24.0->sklearn_crfsuite==0.5.0) (2.0.2)\n",
            "Requirement already satisfied: scipy>=1.6.0 in /usr/local/lib/python3.11/dist-packages (from scikit-learn>=0.24.0->sklearn_crfsuite==0.5.0) (1.15.3)\n",
            "Requirement already satisfied: joblib>=1.2.0 in /usr/local/lib/python3.11/dist-packages (from scikit-learn>=0.24.0->sklearn_crfsuite==0.5.0) (1.5.1)\n",
            "Requirement already satisfied: threadpoolctl>=3.1.0 in /usr/local/lib/python3.11/dist-packages (from scikit-learn>=0.24.0->sklearn_crfsuite==0.5.0) (3.6.0)\n",
            "Downloading sklearn_crfsuite-0.5.0-py2.py3-none-any.whl (10 kB)\n",
            "Downloading python_crfsuite-0.9.11-cp311-cp311-manylinux_2_17_x86_64.manylinux2014_x86_64.whl (1.3 MB)\n",
            "\u001b[2K   \u001b[90m━━━━━━━━━━━━━━━━━━━━━━━━━━━━━━━━━━━━━━━━\u001b[0m \u001b[32m1.3/1.3 MB\u001b[0m \u001b[31m14.6 MB/s\u001b[0m eta \u001b[36m0:00:00\u001b[0m\n",
            "\u001b[?25hInstalling collected packages: python-crfsuite, sklearn_crfsuite\n",
            "Successfully installed python-crfsuite-0.9.11 sklearn_crfsuite-0.5.0\n"
          ]
        }
      ]
    },
    {
      "cell_type": "markdown",
      "source": [
        "#### **1.2** Import necessary libraries"
      ],
      "metadata": {
        "id": "svqZwrHT3rzV"
      }
    },
    {
      "cell_type": "code",
      "source": [
        "# Import warnings\n",
        "import warnings\n",
        "warnings.filterwarnings('ignore')"
      ],
      "metadata": {
        "id": "v2zLbaB0w1ZH"
      },
      "execution_count": 2,
      "outputs": []
    },
    {
      "cell_type": "code",
      "execution_count": 3,
      "metadata": {
        "id": "0hlp-Ln4WsaV"
      },
      "outputs": [],
      "source": [
        "# Import necessary libraries\n",
        "import json  # For handling JSON data\n",
        "import pandas as pd  # For data manipulation and analysis\n",
        "import re  # For regular expressions (useful for text preprocessing)\n",
        "import matplotlib.pyplot as plt  # For visualisation\n",
        "import seaborn as sns  # For advanced data visualisation\n",
        "import sklearn_crfsuite  # CRF (Conditional Random Fields) implementation for sequence modeling\n",
        "import numpy as np  # For numerical computations\n",
        "# Saving and loading machine learning models\n",
        "import joblib\n",
        "import random\n",
        "import spacy\n",
        "from IPython.display import display, Markdown # For displaying well-formatted output\n",
        "\n",
        "from fractions import Fraction  # For handling fractional values in numerical data\n",
        "# Importing tools for feature engineering and model training\n",
        "from collections import Counter  # For counting occurrences of elements in a list\n",
        "from sklearn.model_selection import train_test_split  # For splitting dataset into train and test sets\n",
        "from sklearn_crfsuite import metrics  # For evaluating CRF models\n",
        "from sklearn_crfsuite.metrics import flat_classification_report\n",
        "from sklearn.utils.class_weight import compute_class_weight\n",
        "from collections import Counter\n",
        "from sklearn.metrics import confusion_matrix"
      ]
    },
    {
      "cell_type": "code",
      "source": [
        "# Ensure pandas displays full content\n",
        "pd.set_option('display.max_colwidth', None)\n",
        "pd.set_option('display.expand_frame_repr', False)"
      ],
      "metadata": {
        "id": "k3_LR6N_2cli"
      },
      "execution_count": 4,
      "outputs": []
    },
    {
      "cell_type": "markdown",
      "source": [
        "## **2** Data Ingestion and Preparation <font color = red>[25 marks]</font> <br>"
      ],
      "metadata": {
        "id": "fUOu_u0fyMfh"
      }
    },
    {
      "cell_type": "markdown",
      "source": [
        "#### **2.1** *Read Recipe Data from Dataframe and prepare the data for analysis* <font color = red>[12 marks]</font> <br>\n",
        "Read the data from JSON file, print first five rows and describe the dataframe"
      ],
      "metadata": {
        "id": "-ksMVNgeyiLN"
      }
    },
    {
      "cell_type": "markdown",
      "source": [
        "##### **2.1.1** **Define a *load_json_dataframe* function** <font color = red>[7 marks]</font> <br>\n",
        "\n",
        "Define a function that takes path of the ingredient_and_quantity.json file and reads it, convert it into dataframe - df and return it."
      ],
      "metadata": {
        "id": "kxn28jL3z4GY"
      }
    },
    {
      "cell_type": "code",
      "source": [
        "import json\n",
        "\n",
        "def load_json_file(file_path):\n",
        "\n",
        "\n",
        "    try:\n",
        "        with open(file_path, 'r') as file:\n",
        "            data = json.load(file)\n",
        "            print(\"JSON data successfully loaded!\")\n",
        "            return data\n",
        "    except FileNotFoundError:\n",
        "        print(f\"❌ File not found at path: {file_path}\")\n",
        "    except json.JSONDecodeError as e:\n",
        "        print(f\"❌ Error decoding JSON: {e}\")\n"
      ],
      "metadata": {
        "id": "dq6UgUYcPyOL"
      },
      "execution_count": 5,
      "outputs": []
    },
    {
      "cell_type": "markdown",
      "source": [
        "##### **2.1.2** **Execute the *load_json_dataframe* function** <font color = red>[2 marks]</font> <br>"
      ],
      "metadata": {
        "id": "1NlhkH_605IA"
      }
    },
    {
      "cell_type": "code",
      "source": [
        "# read the json file by giving the file path and create a dataframe\n",
        "# Provide the path to your JSON file\n",
        "json_path = 'ingredient_and_quantity.json'\n",
        "\n",
        "# Load the JSON data\n",
        "df = load_json_file(json_path)\n",
        "\n",
        "# Optionally inspect the data\n",
        "print(df)\n",
        "\n"
      ],
      "metadata": {
        "id": "UONMkMsrxdxB",
        "colab": {
          "base_uri": "https://localhost:8080/"
        },
        "outputId": "6aa1e04d-733c-4e9c-b981-e2e08e45f7e6"
      },
      "execution_count": 6,
      "outputs": [
        {
          "output_type": "stream",
          "name": "stdout",
          "text": [
            "JSON data successfully loaded!\n",
            "[{'input': '6 Karela Bitter Gourd Pavakkai Salt 1 Onion 3 tablespoon Gram flour besan 2 teaspoons Turmeric powder Haldi Red Chilli Cumin seeds Jeera Coriander Powder Dhania Amchur Dry Mango Sunflower Oil', 'pos': 'quantity ingredient ingredient ingredient ingredient ingredient quantity ingredient quantity unit ingredient ingredient ingredient quantity unit ingredient ingredient ingredient ingredient ingredient ingredient ingredient ingredient ingredient ingredient ingredient ingredient ingredient ingredient ingredient ingredient'}, {'input': '2-1/2 cups rice cooked 3 tomatoes teaspoons BC Belle Bhat powder 1 teaspoon chickpea lentils 1/2 cumin seeds white urad dal mustard green chilli dry red 2 cashew or peanuts 1-1/2 tablespoon oil asafoetida', 'pos': 'quantity unit ingredient ingredient quantity ingredient unit ingredient ingredient ingredient ingredient quantity unit ingredient ingredient quantity ingredient ingredient ingredient ingredient ingredient ingredient ingredient ingredient ingredient ingredient quantity ingredient ingredient ingredient quantity unit ingredient ingredient'}, {'input': '1-1/2 cups Rice Vermicelli Noodles Thin 1 Onion sliced 1/2 cup Carrots Gajjar chopped 1/3 Green peas Matar 2 Chillies 1/4 teaspoon Asafoetida hing Mustard seeds White Urad Dal Split Ghee sprig Curry leaves Salt Lemon juice', 'pos': 'quantity unit ingredient ingredient ingredient ingredient quantity ingredient ingredient quantity unit ingredient ingredient ingredient quantity ingredient ingredient ingredient quantity ingredient quantity unit ingredient ingredient ingredient ingredient ingredient ingredient ingredient ingredient ingredient unit ingredient ingredient ingredient ingredient ingredient'}, {'input': '500 grams Chicken 2 Onion chopped 1 Tomato 4 Green Chillies slit inch Ginger finely 6 cloves Garlic 1/2 teaspoon Turmeric powder Haldi Garam masala tablespoon Sesame Gingelly Oil 1/4 Methi Seeds Fenugreek Coriander Dhania Dry Red Fennel seeds Saunf cups Sorrel Leaves Gongura picked and', 'pos': 'quantity unit ingredient quantity ingredient ingredient quantity ingredient quantity ingredient ingredient ingredient unit ingredient ingredient quantity unit ingredient quantity unit ingredient ingredient ingredient ingredient ingredient unit ingredient ingredient ingredient quantity ingredient ingredient ingredient ingredient ingredient ingredient ingredient ingredient ingredient ingredient unit ingredient ingredient ingredient ingredient ingredient'}, {'input': '1 tablespoon chana dal white urad 2 red chillies coriander seeds 3 inches ginger onion tomato Teaspoon mustard asafoetida sprig curry', 'pos': 'quantity unit ingredient ingredient ingredient ingredient quantity ingredient ingredient ingredient ingredient quantity unit ingredient ingredient ingredient unit ingredient ingredient unit ingredient'}, {'input': '1 cup Rice 1/2 Yellow Moong Dal Mint Leaves 1/4 Coriander Dhania Green Chilli inch Ginger teaspoon Cumin seeds 5 cups Water Sunflower Oil Salt 2 tablespoons Ghee 8 Cashew nuts halved Whole Black Peppercorns sprig Curry leaves pinch Asafoetida hing', 'pos': 'quantity unit ingredient quantity ingredient ingredient ingredient ingredient ingredient quantity ingredient ingredient ingredient ingredient unit ingredient unit ingredient ingredient quantity unit ingredient ingredient ingredient ingredient quantity unit ingredient quantity ingredient ingredient ingredient ingredient ingredient ingredient unit ingredient ingredient unit ingredient ingredient'}, {'input': '500 grams Vellai Poosanikai 1/2 teaspoon Turmeric powder Salt Sunflower Oil 4 Dry Red Chillies cup Fresh coconut grated 30 Tamarind Water Methi Seeds Cumin seeds 2 teaspoons Coriander Dhania Sesame 3 tablespoons Jaggery 1 Mustard sprig Curry leaves', 'pos': 'quantity unit ingredient ingredient quantity unit ingredient ingredient ingredient ingredient ingredient quantity ingredient ingredient ingredient unit ingredient ingredient ingredient quantity ingredient ingredient ingredient ingredient ingredient ingredient quantity unit ingredient ingredient ingredient quantity unit ingredient quantity ingredient unit ingredient ingredient'}, {'input': '4 Tortillas 1/4 cup Black beans 6 to 8 Spinach Leaves 1 Onion chopped Tomato 2 cloves Garlic sprig Coriander Dhania Rice or brown rice Lemon juice Spring Greens tablespoons Cheddar cheese tablespoon Hung Curd Greek Yogurt', 'pos': 'quantity ingredient quantity unit ingredient ingredient quantity quantity quantity ingredient ingredient quantity ingredient ingredient ingredient quantity unit ingredient unit ingredient ingredient ingredient ingredient ingredient ingredient ingredient ingredient ingredient ingredient unit ingredient ingredient unit ingredient ingredient ingredient ingredient'}, {'input': '10 Idli 1 cup Green Bell Pepper Capsicum Tomato 2 Chillies 1/4 teaspoon Red Chilli powder 1/2 Turmeric 3 tablespoons Ketchup teaspoons Sunflower Oil Salt', 'pos': 'quantity ingredient quantity unit ingredient ingredient ingredient ingredient ingredient quantity ingredient quantity unit ingredient ingredient ingredient quantity ingredient quantity unit ingredient unit ingredient ingredient ingredient'}, {'input': '1 cup cabbage leaves 3/4 tomatoes 18 grams tamarind 2 tablespoons white urad dal 4 red chillies 3 cloves garlic big Spoon oil teaspoon Rye 1/2 Cumin seeds sprig Curry', 'pos': 'quantity unit ingredient ingredient quantity ingredient quantity unit ingredient quantity unit ingredient ingredient ingredient quantity ingredient ingredient quantity ingredient ingredient ingredient unit ingredient unit ingredient quantity ingredient ingredient unit ingredient'}, {'input': '250 grams Dry beans 1 teaspoon Extra Virgin Olive Oil Onion finely chopped clove Garlic grated 500 Tomatoes pureed tablespoon Honey Cumin powder Jeera Dried oregano 1/4 Red Chilli cayenne pepper Salt and Pepper', 'pos': 'quantity unit ingredient ingredient quantity unit ingredient ingredient ingredient ingredient ingredient ingredient ingredient unit ingredient ingredient quantity ingredient ingredient unit ingredient ingredient ingredient ingredient ingredient ingredient quantity ingredient ingredient ingredient ingredient ingredient ingredient ingredient'}, {'input': '2 Burger buns 5 Pickled Jalapenos sliced Cheese Slices Potatoes Aloo pressure cooked 1 Onion chopped tablespoon Red Chilli powder Salt Whole Egg 1/2 cup Wheat Bread crumbs 4 cloves Garlic Onions Tomatoes Homemade tomato puree Green Bell Pepper Capsicum Soy granules teaspoon flakes Cumin Jeera Dried oregano Tabasco Original Hot Sauce Honey Sunflower Oil', 'pos': 'quantity ingredient ingredient quantity ingredient ingredient ingredient ingredient ingredient ingredient ingredient ingredient ingredient quantity ingredient ingredient unit ingredient ingredient ingredient ingredient ingredient ingredient quantity unit ingredient ingredient ingredient quantity unit ingredient ingredient ingredient ingredient ingredient ingredient ingredient ingredient ingredient ingredient ingredient ingredient unit ingredient ingredient ingredient ingredient ingredient ingredient ingredient ingredient ingredient ingredient ingredient ingredient'}, {'input': '2 cup Tamarind Water 1/2 Arhar dal Split Toor Dal 1 teaspoon Asafoetida hing Salt Mustard seeds Cumin Jeera Methi Seeds Fenugreek sprig Curry leaves pinch Sunflower Oil for cooking', 'pos': 'quantity unit ingredient ingredient quantity ingredient ingredient ingredient ingredient ingredient quantity unit ingredient ingredient ingredient ingredient ingredient ingredient ingredient ingredient ingredient ingredient unit ingredient ingredient unit ingredient ingredient ingredient ingredient'}, {'input': '600 grams Aar Maach rohu katla 1 Tomato 2 Bay leaves 1-1/2 tablespoons Ginger paste 4 Green Chillies teaspoon Cumin powder Coriander Powder Salt 1/2 seeds Turmeric slit lengthwise 1-1/4 cups Water Sugar tablespoon Leaves', 'pos': 'quantity unit ingredient ingredient ingredient ingredient quantity ingredient quantity ingredient ingredient quantity unit ingredient ingredient quantity ingredient ingredient unit ingredient ingredient ingredient ingredient ingredient quantity ingredient ingredient ingredient ingredient quantity unit ingredient ingredient unit ingredient'}, {'input': '5 Potatoes Aloo 2 teaspoon Fennel seeds Saunf Red Chilli powder 1 Turmeric Haldi 1/4 cup Fresh cream or 1/2 4 sprig Coriander Dhania Leaves', 'pos': 'quantity ingredient ingredient quantity unit ingredient ingredient ingredient ingredient ingredient ingredient quantity ingredient ingredient quantity unit ingredient ingredient ingredient quantity quantity unit ingredient ingredient ingredient'}, {'input': '2 onions 1 teaspoon cumin seeds tablespoons black urad dal split tamarind paste 3 dry red chillies 1/2 jaggery teaspoons oil salt sprig curry leaves', 'pos': 'quantity ingredient quantity unit ingredient ingredient unit ingredient ingredient ingredient ingredient ingredient ingredient quantity ingredient ingredient ingredient quantity ingredient unit ingredient ingredient unit ingredient ingredient'}, {'input': '4 Whole Eggs 1 Cinnamon Stick Dalchini Bay leaf tej patta 2 Cloves Laung tablespoon Sunflower Oil teaspoons Coriander Powder Dhania teaspoon Garam masala powder tablespoons Fresh cream cups Leaves tightly packed cup Mint Pudina chopped Green Chillies Onion roughly inch Ginger cloves Garlic', 'pos': 'quantity ingredient ingredient quantity ingredient ingredient ingredient ingredient ingredient ingredient ingredient quantity ingredient ingredient unit ingredient ingredient unit ingredient ingredient ingredient unit ingredient ingredient ingredient unit ingredient ingredient unit ingredient ingredient ingredient unit ingredient ingredient ingredient ingredient ingredient ingredient ingredient unit ingredient unit ingredient'}, {'input': '2 cups curd 1 cup gourd cucumber green cor coriander 1/2 teaspoon cumin powder salt', 'pos': 'quantity unit ingredient quantity unit ingredient ingredient ingredient ingredient quantity unit ingredient ingredient ingredient'}, {'input': '10 Potatoes 1 teaspoon Garlic powder Onion Dried oregano tablespoon Coriander Leaves finely chopped Red Chilli flakes 2 All Purpose Flour Maida Rice flour Salt Sunflower Oil for deep frying the tater tots', 'pos': 'quantity ingredient quantity unit ingredient ingredient ingredient ingredient ingredient unit ingredient ingredient ingredient ingredient ingredient ingredient ingredient quantity ingredient ingredient ingredient ingredient ingredient ingredient ingredient ingredient ingredient ingredient ingredient ingredient ingredient ingredient ingredient'}, {'input': '1 cup rice 12 small onions 2 cloves garlic inch ginger green chillies bay leaf tsp red chilli powder turmeric carrot beans potatoes ghee cinnamon fennel whole pepper coriander seeds 1/4 peas mint leaves', 'pos': 'quantity unit ingredient quantity unit ingredient quantity ingredient ingredient unit ingredient unit ingredient ingredient ingredient unit ingredient ingredient ingredient ingredient ingredient ingredient ingredient ingredient ingredient ingredient ingredient ingredient ingredient ingredient quantity ingredient ingredient ingredient'}, {'input': '8 amla 6 small onions 10 bud garlic 2 green chillies 1/2 cup mint coriander 1 tsp oil rye 1/4 urad chana dal sprig curry leaves cashew nuts', 'pos': 'quantity ingredient quantity unit ingredient quantity unit ingredient quantity unit ingredient quantity unit ingredient ingredient quantity unit ingredient ingredient quantity ingredient ingredient ingredient unit ingredient ingredient ingredient ingredient'}, {'input': '1/2 cup Gram flour besan Whole Wheat Flour 1/4 Rice 1 Cucumber peeled and grated teaspoon Turmeric powder Haldi Cumin Jeera Coriander Powder Dhania Red Chilli 2 Green Chillies finely chopped Leaves 5 cloves Garlic Salt Ghee for smearing on thalipeeth', 'pos': 'quantity unit ingredient ingredient ingredient ingredient ingredient ingredient quantity ingredient quantity ingredient ingredient ingredient ingredient unit ingredient ingredient ingredient ingredient ingredient ingredient ingredient ingredient ingredient ingredient quantity ingredient ingredient ingredient ingredient ingredient quantity ingredient ingredient ingredient ingredient ingredient ingredient ingredient ingredient'}, {'input': '2 Submarine Bread 1/2 cup Green Moong Sprouts 1 Beetroot cloves Garlic Hung Curd Greek Yogurt tablespoon Coriander Dhania Leaves Tomatoes Stalks Spring Onion Bulb Greens Tabasco Original Hot Sauce Salt and Pepper', 'pos': 'quantity ingredient ingredient quantity unit ingredient ingredient ingredient quantity ingredient unit ingredient ingredient ingredient ingredient ingredient unit ingredient ingredient ingredient ingredient unit ingredient ingredient ingredient ingredient ingredient ingredient ingredient ingredient ingredient ingredient ingredient'}, {'input': '5 Drumstick cut into 3 inch pieces 1/2 cup Fresh coconut grated 2 Green Chillies slit 1 sprig Curry leaves teaspoon Mustard seeds teaspoons Coconut Oil Dry Red Turmeric powder (Haldi) Salt Water', 'pos': 'quantity ingredient ingredient ingredient quantity unit ingredient quantity unit ingredient ingredient ingredient quantity ingredient ingredient ingredient quantity unit ingredient ingredient unit ingredient ingredient unit ingredient ingredient ingredient ingredient ingredient ingredient ingredient ingredient ingredient'}, {'input': '3/4 cup Mango Pulp Puree 1 Curd Dahi Yogurt tablespoon Sugar honey 2 pinch Saffron strands 3 tablespoons Badam Almond Milk luke warm more cold milk Ice cubes a few', 'pos': 'quantity unit ingredient ingredient ingredient quantity ingredient ingredient ingredient unit ingredient ingredient quantity unit ingredient ingredient quantity unit ingredient ingredient ingredient ingredient ingredient ingredient ingredient ingredient ingredient ingredient quantity ingredient'}, {'input': '1 cup idli dosa mixture 4 tablespoons rice rava 1/3 jaggery 3 coconut grated tablespoon cardamom powder salt water oil', 'pos': 'quantity unit ingredient ingredient ingredient quantity unit ingredient ingredient quantity ingredient quantity ingredient ingredient unit ingredient ingredient ingredient ingredient ingredient'}, {'input': '3 Cardamom Elaichi Pods Seeds 6 Whole Black Peppercorns 1/2 inch Cinnamon Stick Dalchini cloves Cloves Laung 1 Mace Javitri Bay leaf tej patta cardamom Badi teaspoon Kasuri Methi Dried Fenugreek Leaves Kashmiri Red Chilli Powder Turmeric powder Haldi Coriander Dhania Garam masala Samosas mini 15 Cashew nuts Green Onion roughly chopped 2 Tomato Ginger Sugar tablespoon Fresh cream tablespoons Sunflower Oil', 'pos': 'quantity ingredient ingredient ingredient ingredient quantity ingredient ingredient ingredient quantity unit ingredient ingredient ingredient ingredient ingredient ingredient quantity ingredient ingredient ingredient ingredient ingredient ingredient ingredient ingredient unit ingredient ingredient ingredient ingredient ingredient ingredient ingredient ingredient ingredient ingredient ingredient ingredient ingredient ingredient ingredient ingredient ingredient ingredient quantity ingredient ingredient ingredient ingredient ingredient ingredient quantity ingredient ingredient ingredient unit ingredient ingredient unit ingredient ingredient'}, {'input': '1 Baguette sliced 1 1/2 tablespoon Butter 1/2 Garlic minced cup Spinach Leaves Palak Red Bell pepper Capsicum Tomato finely chopped Onion Black powder Italian seasoning teaspoon Fresh cream Cheddar cheese grated Salt Roasted tomato pasta sauce', 'pos': 'quantity ingredient ingredient quantity unit ingredient quantity ingredient ingredient unit ingredient ingredient ingredient ingredient ingredient ingredient ingredient ingredient ingredient ingredient ingredient ingredient ingredient ingredient ingredient unit ingredient ingredient ingredient ingredient ingredient ingredient ingredient ingredient ingredient ingredient'}, {'input': '1 cup Whole Wheat Flour All Purpose Maida teaspoon Ajwain Carom seeds Cumin Jeera 2 tablespoons Ghee Salt Chana dal Bengal Gram Dal 1/2 Turmeric powder Haldi Garam masala 1/4 Red Chilli Amchur Dry Mango Powder Sugar tablespoon Asafoetida hing Green Chillies slit sprig Curry leaves Sweet Chutney Date Tamarind Coriander Mint Onion finely chopped Fresh Pomegranate Fruit Kernels Sev', 'pos': 'quantity unit ingredient ingredient ingredient ingredient ingredient ingredient unit ingredient ingredient ingredient ingredient ingredient quantity unit ingredient ingredient ingredient ingredient ingredient ingredient ingredient quantity ingredient ingredient ingredient ingredient ingredient quantity ingredient ingredient ingredient ingredient ingredient ingredient ingredient unit ingredient ingredient ingredient ingredient ingredient unit ingredient ingredient ingredient ingredient ingredient ingredient ingredient ingredient ingredient ingredient ingredient ingredient ingredient ingredient ingredient ingredient'}, {'input': '300 grams Green beans 3 cloves Garlic 1 tablespoon Soy sauce 2 Thai Sweet Chilli Sauce Lemon Rice Wine Vinegar 1/4 cup Roasted Peanuts Salt Sesame Gingelly Oil', 'pos': 'quantity unit ingredient ingredient quantity unit ingredient quantity unit ingredient ingredient quantity ingredient ingredient ingredient ingredient ingredient ingredient ingredient ingredient quantity unit ingredient ingredient ingredient ingredient ingredient ingredient'}, {'input': '1 tablespoon Sunflower Oil All Purpose Flour Maida 1/4 teaspoon Baking powder Water 2 Honey Sugar Sesame seeds Til 1/2 Vanilla Extract', 'pos': 'quantity unit ingredient ingredient ingredient ingredient ingredient ingredient quantity unit ingredient ingredient ingredient quantity ingredient ingredient ingredient ingredient ingredient quantity ingredient ingredient'}, {'input': '1/2 cup Sundkai 1/4 fenugreek Arhar dal boiled mashed Tomato 1 Tamarind tsp Turmeric Powder 2 Sambar Coriander teaspoon mustard cumin seeds dry red chili asafoetida oil salt water', 'pos': 'quantity unit ingredient quantity ingredient ingredient ingredient ingredient ingredient ingredient quantity ingredient unit ingredient ingredient quantity ingredient ingredient unit ingredient ingredient ingredient ingredient ingredient ingredient ingredient ingredient ingredient ingredient'}, {'input': '1 cup Cabbage Patta Gobi Muttaikose Spinach Fresh Pomegranate Fruit Kernels 2 Lemon juice tablespoons Extra Virgin Olive Oil Salt and Pepper', 'pos': 'quantity unit ingredient ingredient ingredient ingredient ingredient ingredient ingredient ingredient ingredient quantity ingredient ingredient unit ingredient ingredient ingredient ingredient ingredient ingredient ingredient'}, {'input': '1 cup All Purpose Flour Maida 2 tablespoons Ghee 1/2 teaspoon Salt Sunflower Oil for deep frying Cumin seeds Jeera Green Chilli Sauce Cinnamon Powder Dalchini Garam masala powder 1/4 Red Amchur Dry Mango 1-1/2 cups peas Matar steamed and mashed Water', 'pos': 'quantity unit ingredient ingredient ingredient ingredient quantity unit ingredient quantity unit ingredient ingredient ingredient ingredient ingredient ingredient ingredient ingredient ingredient ingredient ingredient ingredient ingredient ingredient ingredient ingredient ingredient ingredient quantity ingredient ingredient ingredient ingredient quantity unit ingredient ingredient ingredient ingredient ingredient ingredient'}, {'input': '1 cup All Purpose Flour Maida 1/2 Sugar Dark chocolate Cocoa Powder Salted butter 3/4 Milk tablespoon Baking powder teaspoon soda Vanilla Extract Britannia Cream Cheese Caster 8 Fresh raspberries', 'pos': 'quantity unit ingredient ingredient ingredient ingredient quantity ingredient ingredient ingredient ingredient ingredient ingredient ingredient quantity ingredient unit ingredient ingredient unit ingredient ingredient ingredient ingredient ingredient ingredient ingredient quantity ingredient ingredient'}, {'input': '1 cup Ada 2 liter Milk 3/4 Sugar tablespoon Ghee 1/2 teaspoon Cardamom Powder Elaichi', 'pos': 'quantity unit ingredient quantity unit ingredient quantity ingredient unit ingredient quantity unit ingredient ingredient ingredient'}, {'input': '1 cup Tindora Dondakaya Kovakkai teaspoon Red Chilli powder 1/4 Split Methi Seeds Kuria 1/2 Mustard Rai Turmeric Haldi Asafoetida hing tablespoon Sunflower Oil Lemon juice extracted Salt', 'pos': 'quantity unit ingredient ingredient ingredient unit ingredient ingredient ingredient quantity ingredient ingredient ingredient ingredient quantity ingredient ingredient ingredient ingredient ingredient ingredient unit ingredient ingredient ingredient ingredient ingredient ingredient'}, {'input': '1 Chicken legs 1/4 cup Hung Curd (Greek Yogurt) 1/2 teaspoon Turmeric powder (Haldi) Salt Sunflower Oil Onion - sliced 4 cloves Garlic inch Ginger 2 tablespoon Fresh coconut grated Cumin seeds (Jeera) teaspoons Coriander (Dhania) Seeds Methi (Fenugreek Seeds) Kalonji (Onion Nigella Whole Black Peppercorns Dry Red Chillies Fennel (Saunf) Cinnamon Stick (Dalchini) Cloves (Laung) Cardamom (Elaichi) Pods/Seeds Mustard Ghee Tamarind Paste Jaggery sprig Curry leaves', 'pos': 'quantity ingredient ingredient quantity unit ingredient ingredient ingredient ingredient quantity unit ingredient ingredient ingredient ingredient ingredient ingredient ingredient ingredient ingredient quantity unit ingredient unit ingredient quantity unit ingredient ingredient ingredient ingredient ingredient ingredient unit ingredient ingredient ingredient ingredient ingredient ingredient ingredient ingredient ingredient ingredient ingredient ingredient ingredient ingredient ingredient ingredient ingredient ingredient ingredient ingredient ingredient ingredient ingredient ingredient ingredient ingredient ingredient ingredient ingredient ingredient unit ingredient ingredient'}, {'input': '1 cup jackfruit seeds tamarind water 8 cloves garlic 1/2 teaspoon mustard cumin curry leaves 1/4 turmeric powder red chilli 2 teaspoons sambar asafoetida coriander sunflower oil fresh coconut 10 whole black peppercorns dry chillies onion chopped tomato', 'pos': 'quantity unit ingredient ingredient ingredient ingredient quantity unit ingredient quantity unit ingredient ingredient ingredient ingredient quantity ingredient ingredient ingredient ingredient quantity unit ingredient ingredient ingredient ingredient ingredient ingredient ingredient quantity unit ingredient ingredient ingredient ingredient ingredient ingredient ingredient'}, {'input': '1 eggplant 2 inch ginger onion tomato green chillies teaspoon turmeric powder garam masala coriander tablespoon butter red chili oil sprigs of', 'pos': 'quantity ingredient quantity unit ingredient ingredient ingredient ingredient ingredient unit ingredient ingredient ingredient ingredient ingredient unit ingredient ingredient ingredient ingredient unit ingredient'}, {'input': '2 cups Water 1 teaspoon Tea leaves 1/4 Milk 10 Saffron strands', 'pos': 'quantity unit ingredient quantity unit ingredient ingredient quantity ingredient quantity ingredient ingredient'}, {'input': '1 raw mango cup tamarind water tablespoon jaggery sambar powder teaspoon turmeric 1/2 salt mustard asafoetida Sprig Curry leaves 2 dry red chillies oil', 'pos': 'quantity ingredient ingredient unit ingredient ingredient unit ingredient ingredient ingredient unit ingredient quantity ingredient ingredient ingredient unit ingredient ingredient quantity ingredient ingredient ingredient ingredient'}, {'input': '10 Jackfruit Seeds 1 cup Kala Chana teaspoon Mustard seeds 1/2 Cumin sprig Curry leaves Tomato Tamarind Water Turmeric powder 4 Dry Red Chillies Coriander (Dhania) 2 Cloves (Laung) inch Cinnamon Stick (Dalchini) Fresh coconut Ginger cloves Garlic', 'pos': 'quantity ingredient ingredient quantity unit ingredient ingredient unit ingredient ingredient quantity ingredient unit ingredient ingredient ingredient ingredient ingredient ingredient ingredient quantity ingredient ingredient ingredient ingredient ingredient quantity ingredient ingredient unit ingredient ingredient ingredient ingredient ingredient ingredient unit ingredient'}, {'input': '1 cup Whole Wheat Flour pinch Salt teaspoon Italian seasoning 1/4 Cheese spread flavoured Broccoli cut into florets Onion thinly sliced Red Bell pepper Capsicum diced 2 sprig Parsley leaves roughly chopped', 'pos': 'quantity unit ingredient ingredient ingredient unit ingredient unit ingredient ingredient quantity ingredient ingredient ingredient ingredient ingredient ingredient ingredient ingredient ingredient ingredient ingredient ingredient ingredient ingredient ingredient quantity unit ingredient ingredient ingredient ingredient'}, {'input': '2 cups Makki Ka Atta Yellow Corn Meal Flour 1 1/2 Methi Leaves Fenugreek chopped Green Chillies tablespoon Ajwain Carom seeds Kashmiri Red Chilli Powder Salt', 'pos': 'quantity unit ingredient ingredient ingredient ingredient ingredient ingredient ingredient quantity quantity ingredient ingredient ingredient ingredient ingredient ingredient unit ingredient ingredient ingredient ingredient ingredient ingredient ingredient ingredient'}, {'input': '3 Carrots Gajjar cups Cabbage Patta Gobi Muttaikose 1 Green Bell Pepper Capsicum 1/2 teaspoon Turmeric powder Haldi Sugar Lemon juice Salt Sunflower Oil Mustard seeds 1/4 Asafoetida hing sprig Curry leaves Chillies slit lengthwise', 'pos': 'quantity ingredient ingredient unit ingredient ingredient ingredient ingredient quantity ingredient ingredient ingredient ingredient quantity unit ingredient ingredient ingredient ingredient ingredient ingredient ingredient ingredient ingredient ingredient ingredient quantity ingredient ingredient unit ingredient ingredient ingredient ingredient ingredient'}, {'input': '1-1/2 cups All Purpose Flour Maida whole Wheat 2 teaspoons Active dry yeast 1/2 Salt Sugar 1-1/4 Lukewarm Water tablespoons Extra Virgin Olive Oil', 'pos': 'quantity unit ingredient ingredient ingredient ingredient ingredient ingredient quantity unit ingredient ingredient ingredient quantity ingredient ingredient quantity ingredient ingredient unit ingredient ingredient ingredient ingredient'}, {'input': '1 kg Tomatoes 8 Dry Red Chillies teaspoon Tamarind Paste 2 teaspoons Chilli powder 1/2 Turmeric Haldi tablespoon Mustard seeds Methi Seeds Fenugreek cloves Garlic Sunflower Oil Salt', 'pos': 'quantity unit ingredient quantity ingredient ingredient ingredient unit ingredient ingredient quantity unit ingredient ingredient quantity ingredient ingredient unit ingredient ingredient ingredient ingredient ingredient unit ingredient ingredient ingredient ingredient'}, {'input': '1-1/2 cup brown rice 2 onions finely chopped 4 long garlic 3 tsp oregano rosemary red chilli flakes salt oil water', 'pos': 'quantity unit ingredient ingredient quantity ingredient ingredient ingredient quantity ingredient ingredient quantity unit ingredient ingredient ingredient ingredient ingredient ingredient ingredient ingredient'}, {'input': '3 cups Mango Ripe cut into pieces 1/4 Water Sugar optional', 'pos': 'quantity unit ingredient ingredient ingredient ingredient ingredient quantity ingredient ingredient ingredient'}, {'input': '1 cup Whole Wheat Flour Salt Water Ghee', 'pos': 'quantity unit ingredient ingredient ingredient ingredient ingredient ingredient'}, {'input': '2 cups Ridge Gourd Skin Turai Peerkangai teaspoons White Urad Dal 5 Methi Seeds Fenugreek 3 Dry Red Chillies 10 Curry leaves 30 grams Tamarind 1/4 Mustard seeds Sunflower Oil Salt', 'pos': 'quantity unit ingredient ingredient ingredient ingredient ingredient unit ingredient ingredient ingredient quantity ingredient ingredient ingredient quantity ingredient ingredient ingredient quantity ingredient ingredient quantity unit ingredient quantity ingredient ingredient ingredient ingredient ingredient'}, {'input': '1 cup Broken Wheat Dalia Godumai Rava Salt 1/2 teaspoon Sunflower Oil 1/3 Gram flour besan Onion finely chopped 1/4 Coriander Dhania Leaves Green Chilli Turmeric powder Haldi Cumin seeds Jeera Ajwain Carom tablespoon Water Enos fruit salt', 'pos': 'quantity unit ingredient ingredient ingredient ingredient ingredient ingredient quantity unit ingredient ingredient quantity ingredient ingredient ingredient ingredient ingredient ingredient quantity ingredient ingredient ingredient ingredient ingredient ingredient ingredient ingredient ingredient ingredient ingredient ingredient ingredient unit ingredient ingredient ingredient ingredient'}, {'input': '2 cups Whole Wheat Flour Salt Ghee 1 tablespoon 200 grams Paneer Homemade Cottage Cheese 1/4 Hung Curd Greek Yogurt inch Ginger 4 cloves Garlic Kasuri Methi Dried Fenugreek Leaves 1/2 teaspoon Turmeric powder Chaat Masala Powder Garam masala Mint Pudina Coal Onion Lemon juice', 'pos': 'quantity unit ingredient ingredient ingredient ingredient ingredient quantity unit quantity unit ingredient ingredient ingredient ingredient quantity ingredient ingredient ingredient ingredient unit ingredient quantity unit ingredient ingredient ingredient ingredient ingredient ingredient quantity unit ingredient ingredient ingredient ingredient ingredient ingredient ingredient ingredient ingredient ingredient ingredient ingredient ingredient'}, {'input': '2 tablespoon Extra Virgin Olive Oil Butter unsalted 1 Onion finely chopped cups Jasmine Rice teaspoon Salt cup Sweet corn 1/4 Parsley leaves Parmesan cheese grated Mozzarella cut into small cubes All Purpose Flour Maida 3 Whole Eggs beaten with a fork Wheat Bread crumbs Sunflower for deep frying', 'pos': 'quantity unit ingredient ingredient ingredient ingredient ingredient ingredient quantity ingredient ingredient ingredient unit ingredient ingredient unit ingredient unit ingredient ingredient quantity ingredient ingredient ingredient ingredient ingredient ingredient ingredient ingredient ingredient ingredient ingredient ingredient ingredient ingredient quantity ingredient ingredient ingredient ingredient ingredient ingredient ingredient ingredient ingredient ingredient ingredient ingredient ingredient'}, {'input': '250 grams Fish fillet basa Prawns 15 Clamps 5 Baby Potatoes 2 Carrots Gajjar 1 Onion Tomato Fresh Red chillies cloves Garlic teaspoon Cumin powder Jeera Paprika Salt tablespoon Lemon juice Black pepper 4 Coriander Dhania Leaves Extra Virgin Olive Oil cup Chicken stock 1/4 Coconut milk', 'pos': 'quantity unit ingredient ingredient ingredient ingredient quantity ingredient quantity ingredient ingredient quantity ingredient ingredient quantity ingredient ingredient ingredient ingredient ingredient ingredient ingredient unit ingredient ingredient ingredient ingredient ingredient unit ingredient ingredient ingredient ingredient quantity ingredient ingredient ingredient ingredient ingredient ingredient ingredient unit ingredient ingredient quantity ingredient ingredient'}, {'input': '500 grams Hakka Noodles 1/2 teaspoon Salt 1 tablespoon Sunflower Oil Onion Green Bell Pepper Capsicum 15 cloves Garlic Soy sauce Red Chilli White vinegar Tomato Ketchup 3 Dry Chillies crushed Black pepper powder', 'pos': 'quantity unit ingredient ingredient quantity unit ingredient quantity unit ingredient ingredient ingredient ingredient ingredient ingredient ingredient quantity unit ingredient ingredient ingredient ingredient ingredient ingredient ingredient ingredient ingredient quantity ingredient ingredient ingredient ingredient ingredient ingredient'}, {'input': '200 grams Paneer Homemade Cottage Cheese 2 Potato Aloo Bay leaf tej patta Dry Red Chilli 1 tablespoon Panch Phoran Masala roasted and powdered Tomato big sized teaspoon Turmeric powder Haldi Cumin seeds Jeera Ginger grated Salt 1/2 Sugar Sunflower Oil', 'pos': 'quantity unit ingredient ingredient ingredient ingredient quantity ingredient ingredient ingredient ingredient ingredient ingredient ingredient ingredient ingredient quantity unit ingredient ingredient ingredient ingredient ingredient ingredient ingredient ingredient ingredient unit ingredient ingredient ingredient ingredient ingredient ingredient ingredient ingredient ingredient quantity ingredient ingredient ingredient'}, {'input': '1-1/2 cups Broccoli florets 1/2 cup Mozzarella cheese 1 tablespoon Nutralite Cheesy Garlic Mayo 2 tablespoons Corn flour 1/4 Whole Wheat Bread crumbs Salt & Oregano Spread', 'pos': 'quantity unit ingredient ingredient quantity unit ingredient ingredient quantity unit ingredient ingredient ingredient ingredient quantity unit ingredient ingredient quantity ingredient ingredient ingredient ingredient ingredient ingredient ingredient ingredient'}, {'input': '3 Mooli Mullangi Radish 2 Potato Aloo 1 Onion Green Chilli tablespoons Kasundi mustard sauce teaspoon Red powder 1/2 Turmeric Haldi Mustard seeds Cumin Jeera Kalonji Nigella Seeds tablespoon oil Sugar Salt', 'pos': 'quantity ingredient ingredient ingredient quantity ingredient ingredient quantity ingredient ingredient ingredient unit ingredient ingredient ingredient unit ingredient ingredient quantity ingredient ingredient ingredient ingredient ingredient ingredient ingredient ingredient ingredient unit ingredient ingredient ingredient'}, {'input': '1 chakundar cup arhar dal 1-1/2 tamarind water tablespoon sambar powder teaspoon mustard asafoetida 5 curry leaves dry red chili sesame oil 4 sprig coriander salt', 'pos': 'quantity ingredient unit ingredient ingredient quantity ingredient ingredient unit ingredient ingredient unit ingredient ingredient quantity ingredient ingredient ingredient ingredient ingredient ingredient ingredient quantity unit ingredient ingredient'}, {'input': '1 cup Whole Wheat Flour Spinach chopped Kaddu Parangikai Pumpkin grated teaspoon Red Chilli powder 1/2 Turmeric Haldi Coriander Powder Dhania Cumin seeds Jeera 1/4 Salt Water Sunflower Oil', 'pos': 'quantity unit ingredient ingredient ingredient ingredient ingredient ingredient ingredient ingredient ingredient unit ingredient ingredient ingredient quantity ingredient ingredient ingredient ingredient ingredient ingredient ingredient ingredient quantity ingredient ingredient ingredient ingredient'}, {'input': '4 Whole Egg 1 Onion chopped tablespoon Jaggery Salt Sunflower Oil sprig Coriander Dhania Leaves 1/4 cup Fresh coconut grated 2 Seeds 3 Dry Red Chilli Sesame seeds Til Poppy inch Ginger 5 cloves Garlic 8 Badam Almond', 'pos': 'quantity ingredient ingredient quantity ingredient ingredient unit ingredient ingredient ingredient ingredient unit ingredient ingredient ingredient quantity unit ingredient ingredient ingredient quantity ingredient quantity ingredient ingredient ingredient ingredient ingredient ingredient ingredient unit ingredient quantity unit ingredient quantity ingredient ingredient'}, {'input': '1 cup Gram flour besan 1/2 Coconut milk 3/4 Water inch Ginger grated 2 cloves Garlic teaspoon Ajwain Carom seeds 1/4 Asafoetida hing Turmeric powder Baking soda 2-3 Green Chillies finely chopped Onion Tomato Coriander Dhania Leaves A handful Salt Sunflower Oil', 'pos': 'quantity unit ingredient ingredient ingredient quantity ingredient ingredient quantity ingredient unit ingredient ingredient quantity unit ingredient unit ingredient ingredient ingredient quantity ingredient ingredient ingredient ingredient ingredient ingredient quantity ingredient ingredient ingredient ingredient ingredient ingredient ingredient ingredient ingredient quantity unit ingredient ingredient ingredient'}, {'input': '1 cup Rice flour Water teaspoon Sunflower Oil 1/4 Salt cups White Urad Dal Whole 2 Green Chillies inch Ginger Asafoetida hing Sesame Gingelly Mustard seeds sprig Curry leaves', 'pos': 'quantity unit ingredient ingredient ingredient unit ingredient ingredient quantity ingredient unit ingredient ingredient ingredient ingredient quantity ingredient ingredient unit ingredient ingredient ingredient ingredient ingredient ingredient ingredient unit ingredient ingredient'}, {'input': '300 grams Boneless chicken 2 Spring Onion Greens finely chopped Green Chillies 1 teaspoon Garlic minced tablespoons Soy sauce tablespoon Lemon juice Black pepper powder 1/2 Red Chilli Cumin (Jeera) Sweet and Spicy Sauce (Tomato Sauce) Salt 3 teaspoons Sunflower Oil cups Rice soaked for 10 minutes crushed Ginger slit roasted Bell Pepper (Capsicum) sliced (Bulb & Greens) Onions cubed Carrots (Gajjar) Chinese 5 Spice Powder White 250 Egg noodles boiled tossed in a oil cup Classic Mayonnaise (With Egg) Tomato Ketchup Vinegar', 'pos': 'quantity unit ingredient ingredient quantity ingredient ingredient ingredient ingredient ingredient ingredient ingredient quantity unit ingredient ingredient unit ingredient ingredient unit ingredient ingredient ingredient ingredient ingredient quantity ingredient ingredient ingredient ingredient ingredient ingredient ingredient ingredient ingredient ingredient ingredient quantity unit ingredient ingredient unit ingredient ingredient ingredient quantity ingredient ingredient ingredient ingredient ingredient ingredient ingredient ingredient ingredient ingredient ingredient ingredient ingredient ingredient ingredient ingredient ingredient ingredient ingredient ingredient ingredient quantity ingredient ingredient ingredient ingredient ingredient ingredient ingredient unit ingredient ingredient ingredient ingredient ingredient ingredient ingredient'}, {'input': '1 cup rice 2 tablespoons ghee teaspoon cumin seeds bay leaf lentil sugar 3 long green chillies tablespoon ginger garlic paste onions tomatoes 1/2 capsicum red chilli powder turmeric coriander garam masala tofu cut salt garnish', 'pos': 'quantity unit ingredient quantity unit ingredient unit ingredient ingredient ingredient ingredient ingredient ingredient quantity ingredient ingredient ingredient unit ingredient ingredient ingredient ingredient ingredient quantity ingredient ingredient ingredient ingredient ingredient ingredient ingredient ingredient ingredient ingredient ingredient ingredient'}, {'input': '100 grams Paneer Homemade Cottage Cheese 2 Potatoes Aloo 1 Onion julienned inch Ginger grated cloves Garlic Green Bell Pepper Capsicum 3 Tomatoes finely chopped Pav bhaji masala tablespoons Coriander Dhania Leaves French bread or rye to make sandwiches Rocket leaves salad for the sandwich', 'pos': 'quantity unit ingredient ingredient ingredient ingredient quantity ingredient ingredient quantity ingredient ingredient unit ingredient ingredient unit ingredient ingredient ingredient ingredient ingredient quantity ingredient ingredient ingredient ingredient ingredient ingredient unit ingredient ingredient ingredient ingredient ingredient ingredient ingredient ingredient ingredient ingredient ingredient ingredient ingredient ingredient ingredient ingredient'}, {'input': '2 cups Tomatoes chopped 1/2 Onion finely cup Red Wine Vinaigrette Dried oregano cloves Garlic minced Black pepper powder Dijon Mustard 3 tablespoon Cane sugar to tablespoons Extra Virgin Olive Oil Salt', 'pos': 'quantity unit ingredient ingredient quantity ingredient ingredient unit ingredient ingredient ingredient ingredient ingredient unit ingredient ingredient ingredient ingredient ingredient ingredient ingredient quantity unit ingredient ingredient quantity unit ingredient ingredient ingredient ingredient ingredient'}, {'input': '2 Onions finely chopped 4 cloves Garlic 1/4 cup Fresh coconut grated 1/2 Coriander (Dhania) Leaves 1 teaspoon Cumin seeds (Jeera) tablespoon Red Chilli powder Turmeric (Haldi) 3 Garam masala Gram flour (besan) Salt', 'pos': 'quantity ingredient unit ingredient quantity unit ingredient quantity unit ingredient ingredient ingredient quantity ingredient ingredient ingredient quantity unit ingredient ingredient ingredient unit ingredient ingredient ingredient ingredient ingredient quantity ingredient ingredient ingredient ingredient ingredient ingredient'}, {'input': '8 Mooli Mullangi Radish purple 2 cups Water 1/4 teaspoon Garam masala powder 1/2 Salt Black pepper slices Coriander Dhania Leaves chopped', 'pos': 'quantity ingredient ingredient ingredient ingredient quantity unit ingredient quantity unit ingredient ingredient ingredient quantity ingredient ingredient ingredient ingredient ingredient ingredient ingredient ingredient'}, {'input': '1-1/2 cups Vivatta Maida 3/4 Mango Pulp (Puree) teaspoons Baking powder 1/4 soda Sunflower Oil Sugar Salt 1 teaspoon Vanilla Extract 150 grams Dark chocolate - chopped Fresh cream 2 tablespoons Cocoa Powder 3 powdered', 'pos': 'quantity unit ingredient ingredient quantity ingredient ingredient ingredient unit ingredient ingredient quantity ingredient ingredient ingredient ingredient ingredient quantity unit ingredient ingredient quantity unit ingredient ingredient ingredient ingredient ingredient ingredient quantity unit ingredient ingredient quantity ingredient'}, {'input': '1 cup All Purpose Flour Maida 2 tablespoons Sunflower Oil 1/2 teaspoons Ajwain Carom seeds Green peas Matar Paneer Homemade Cottage Cheese crumbled teaspoon Coriander Powder Dhania Red Chilli Amchur Dry Mango Turmeric powder Haldi Onion chopped tomato puree Ginger Garlic Paste 12 Whole cashews Curd Dahi Yogurt Cloves Laung Mace Javitri Cardamom Elaichi Pods Seeds inch Cinnamon Stick Dalchini Cumin Jeera Garam masala Kasuri Methi Dried Fenugreek Leaves Sugar', 'pos': 'quantity unit ingredient ingredient ingredient ingredient quantity unit ingredient ingredient quantity unit ingredient ingredient ingredient ingredient ingredient ingredient ingredient ingredient ingredient ingredient ingredient unit ingredient ingredient ingredient ingredient ingredient ingredient ingredient ingredient ingredient ingredient ingredient ingredient ingredient ingredient ingredient ingredient ingredient ingredient quantity ingredient ingredient ingredient ingredient ingredient ingredient ingredient ingredient ingredient ingredient ingredient ingredient ingredient unit ingredient ingredient ingredient ingredient ingredient ingredient ingredient ingredient ingredient ingredient ingredient ingredient ingredient'}, {'input': '3 Green zucchini Salt Extra Virgin Olive Oil 1/2 cup Mozzarella cheese 1-1/2 finely chopped Red Bell pepper Onion 4 cloves Garlic diced 1 teaspoon Dried Thyme Leaves Rosemary Chilli flakes 500 grams Tomatoes 8 2 teaspoons Black corns crushed Sugar 1/4 Basil leaves', 'pos': 'quantity ingredient ingredient ingredient ingredient ingredient ingredient ingredient quantity unit ingredient ingredient quantity ingredient ingredient ingredient ingredient ingredient ingredient quantity unit ingredient ingredient quantity unit ingredient ingredient ingredient ingredient ingredient ingredient quantity unit ingredient quantity quantity unit ingredient ingredient ingredient ingredient quantity ingredient ingredient'}, {'input': '1 cup Fresh coconut grated 2-1/2 cups Cooked rice teaspoon Mustard seeds 2 teaspoons White Urad Dal Split Chana dal Bengal Gram Raw Peanuts Moongphali fistful sprig Curry leaves 3 or 4 Green Chillies finely chopped Ginger tablespoon Coconut Oil Salt', 'pos': 'quantity unit ingredient ingredient ingredient quantity unit ingredient ingredient unit ingredient ingredient quantity unit ingredient ingredient ingredient ingredient ingredient ingredient ingredient ingredient ingredient ingredient ingredient unit unit ingredient ingredient quantity unit quantity ingredient ingredient ingredient ingredient ingredient unit ingredient ingredient ingredient'}, {'input': '5 Hog Plum Amtekai Ambade 3/4 cup Fresh coconut grated 1/4 teaspoon Turmeric powder Haldi 1 tablespoon Coriander Dhania Seeds Black Urad Dal Split Rice raw Methi Fenugreek 6 Whole Peppercorns 4 Dry Red Chilli 2 tablespoons Jaggery pinch Asafoetida hing Karela Bitter Gourd Pavakkai Small teaspoons Sunflower Oil 1/2 Mustard seeds', 'pos': 'quantity ingredient ingredient ingredient ingredient quantity unit ingredient ingredient ingredient quantity unit ingredient ingredient ingredient quantity unit ingredient ingredient ingredient ingredient ingredient ingredient ingredient ingredient ingredient ingredient ingredient quantity ingredient ingredient quantity ingredient ingredient ingredient quantity unit ingredient unit ingredient ingredient ingredient ingredient ingredient ingredient ingredient unit ingredient ingredient quantity ingredient ingredient'}, {'input': '2 cups Cauliflower gobi 4 Garlic sliced teaspoon Cumin seeds Jeera roasted and crushed 1 Coriander Powder Dhania Black pepper powder or red chilli 3 tablespoon Extra Virgin Olive Oil 1/4 Anardana Pomegranate Seed tablespoons molasses honey Fresh Herbs Handful of herbs choice like basil Salt', 'pos': 'quantity unit ingredient ingredient quantity ingredient ingredient unit ingredient ingredient ingredient ingredient ingredient ingredient quantity ingredient ingredient ingredient ingredient ingredient ingredient ingredient ingredient ingredient quantity unit ingredient ingredient ingredient ingredient quantity ingredient ingredient ingredient unit ingredient ingredient ingredient ingredient ingredient ingredient ingredient ingredient ingredient ingredient ingredient'}, {'input': '325 ml Lukewarm Water 14 grams Active dry yeast 2 tablespoons Sugar 30 Milk Powder 500 Vivatta Maida or half of bread flour 1 Salt 3 Butter (unsalted) Egg white for brushing (or milk)', 'pos': 'quantity unit ingredient ingredient quantity unit ingredient ingredient ingredient quantity unit ingredient quantity ingredient ingredient quantity ingredient ingredient ingredient ingredient ingredient ingredient ingredient quantity ingredient quantity ingredient ingredient ingredient ingredient ingredient ingredient ingredient ingredient'}, {'input': '2 cups Basmati rice 1 Yellow Bell Pepper Capsicum Red Green Chillies finely chopped inch Ginger grated teaspoon Butter Sesame seeds Til Salt', 'pos': 'quantity unit ingredient ingredient quantity ingredient ingredient ingredient ingredient ingredient ingredient ingredient quantity ingredient unit ingredient ingredient unit ingredient ingredient ingredient ingredient ingredient'}, {'input': '1/2 cup Poha Flattened rice 2 tablespoons Rice flour 2 1/2 liter Milk 1 Nolen Gur or brown sugar Cardamom Elaichi Pods/Seeds 8-10 Mixed nuts almonds/cashews tablespoon Raisins pinch Saffron strands and a little more for garnish Salt', 'pos': 'quantity unit ingredient ingredient ingredient quantity unit ingredient ingredient quantity unit ingredient quantity ingredient ingredient ingredient ingredient ingredient ingredient ingredient ingredient quantity ingredient ingredient ingredient unit ingredient unit ingredient ingredient ingredient ingredient ingredient ingredient ingredient ingredient ingredient'}, {'input': '2 cups Fresh cream 1 cup Water', 'pos': 'quantity unit ingredient ingredient quantity unit ingredient'}, {'input': '1 cup Rice flour Salt Sunflower Oil Bok Choy sliced Carrot Gajjar thinly 1/2 Cabbage Patta Gobi Muttaikose Button mushrooms quartered 2 tablespoons Corn tablespoon Dark soy sauce Bean Paste teaspoon Red Chilli Sugar', 'pos': 'quantity unit ingredient ingredient ingredient ingredient ingredient ingredient ingredient ingredient ingredient ingredient ingredient quantity ingredient ingredient ingredient ingredient ingredient ingredient ingredient quantity unit ingredient unit ingredient ingredient ingredient ingredient ingredient unit ingredient ingredient ingredient'}, {'input': '1-1/2 cups Curd Dahi Yogurt thick 1/2 Fresh coconut 1 cup Vellai Poosanikai Ash gourd White Pumpkin cubed 4 Green Chillies 1/4 teaspoon Black pepper powder 1/3 Water Turmeric Haldi Salt Coconut Oil Mustard seeds Methi Seeds Fenugreek sprig Curry leaves Dry Red Chilli', 'pos': 'quantity unit ingredient ingredient ingredient ingredient quantity ingredient ingredient quantity unit ingredient ingredient ingredient ingredient ingredient ingredient ingredient quantity ingredient ingredient quantity unit ingredient ingredient ingredient quantity ingredient ingredient ingredient ingredient ingredient ingredient ingredient ingredient ingredient ingredient ingredient unit ingredient ingredient ingredient ingredient ingredient'}, {'input': '1/2 cup green peas 1 cheese inch ginger chili tsp turmeric powder 2 red mango coriander wheat flour water lukewarm', 'pos': 'quantity unit ingredient ingredient quantity ingredient unit ingredient ingredient unit ingredient ingredient quantity ingredient ingredient ingredient ingredient ingredient ingredient ingredient'}, {'input': '250 grams Elephant yam 1/2 green chilli 1 inch ginger 3 tablespoons coriander chopped cup curd teaspoon oil asafetida 1-1/2 Rye Kali Urad Dal Split', 'pos': 'quantity unit ingredient ingredient quantity ingredient ingredient quantity unit ingredient quantity unit ingredient ingredient unit ingredient unit ingredient ingredient quantity ingredient ingredient ingredient ingredient ingredient'}, {'input': '200 grams rice noodles 1/2 cup baby corn 1/4 capsicum red yellow green Thai Basil leaves 1/3 onions 6 cloves garlic 1 inch ginger tbsp brown sugar Tbsp honey soy sauce fish Sriracha', 'pos': 'quantity unit ingredient ingredient quantity unit ingredient ingredient quantity ingredient ingredient ingredient ingredient ingredient ingredient ingredient quantity ingredient quantity unit ingredient quantity unit ingredient unit ingredient ingredient unit ingredient ingredient ingredient ingredient ingredient'}, {'input': '200 grams Shrimps prawns 1 1-1/2 cups Basmati rice 4-5 Shallots tablespoon Ginger paste Garlic 3 tablespoons Fresh coconut grated teaspoon Green Chilli 1/2 cup Hung Curd (Greek Yogurt) 2 sprig Curry leaves Sunflower Oil Ghee Coriander Powder (Dhania) Red powder Turmeric (Haldi) Garam masala 5-6 Whole Black Peppercorns 4 Cardamom (Elaichi) Pods/Seeds cardamom (Badi Elaichi) inch Cinnamon Stick (Dalchini) Bay (tej patta) 2-3 Dry Cumin seeds (Jeera)', 'pos': 'quantity unit ingredient ingredient quantity quantity unit ingredient ingredient quantity ingredient unit ingredient ingredient ingredient quantity unit ingredient ingredient ingredient unit ingredient ingredient quantity unit ingredient ingredient ingredient ingredient quantity unit ingredient ingredient ingredient ingredient ingredient ingredient ingredient ingredient ingredient ingredient ingredient ingredient ingredient ingredient quantity ingredient ingredient ingredient quantity ingredient ingredient ingredient ingredient ingredient ingredient unit ingredient ingredient ingredient ingredient ingredient ingredient quantity ingredient ingredient ingredient ingredient'}, {'input': '1 cup Walnuts Dried Figs 1/3 Flax seeds Honey 1/2 Roasted Peanuts (Moongphali) teaspoon Cinnamon Powder (Dalchini)', 'pos': 'quantity unit ingredient ingredient ingredient quantity ingredient ingredient ingredient quantity ingredient ingredient ingredient unit ingredient ingredient ingredient'}, {'input': '500 gram Chicken cut into pieces 2 teaspoon Ginger paste 1 Garlic tablespoon Fresh cream Badam Almond 1/2 Lemon juice 1/4 Black pepper powder Salt Onion sliced cup Milk Cardamom Powder Elaichi inch Cinnamon Stick Dalchini Bay leaf tej patta Kasuri Methi Dried Fenugreek Leaves 4 Ghee', 'pos': 'quantity unit ingredient ingredient ingredient ingredient quantity unit ingredient ingredient quantity ingredient unit ingredient ingredient ingredient ingredient quantity ingredient ingredient quantity ingredient ingredient ingredient ingredient ingredient ingredient unit ingredient ingredient ingredient ingredient unit ingredient ingredient ingredient ingredient ingredient ingredient ingredient ingredient ingredient ingredient ingredient ingredient quantity ingredient'}, {'input': '1/2 cup Sooji Semolina Rava teaspoon Ghee 3 cups Milk 3/4 Sugar 5 Saffron strands 1 Cardamom Elaichi Pods Seeds Cashew nuts Raisins Mixed dry fruits chopped', 'pos': 'quantity unit ingredient ingredient ingredient unit ingredient quantity unit ingredient quantity ingredient quantity ingredient ingredient quantity ingredient ingredient ingredient ingredient ingredient ingredient ingredient ingredient ingredient ingredient ingredient'}, {'input': '1 Chicken breasts Red Bell pepper Capsicum Onion Lemon juice teaspoon Dried Thyme Leaves Chilli flakes Black powder 2 tablespoon Extra Virgin Olive Oil Salt', 'pos': 'quantity ingredient ingredient ingredient ingredient ingredient ingredient ingredient ingredient ingredient unit ingredient ingredient ingredient ingredient ingredient ingredient ingredient quantity unit ingredient ingredient ingredient ingredient ingredient'}, {'input': '1 cup rice 2 water tsp ghee cardamom long star anise 1/2 inch cinnamon whole black pepper bay leaf 1/4 onion sprig green coriander mint 200 grams cottage cheese tomatoes tablespoons cream ginger 3 cloves garlic chili powder cumin garam masala red chilli kasoori methi honey tbsp cashews', 'pos': 'quantity unit ingredient quantity ingredient unit ingredient ingredient ingredient ingredient ingredient quantity unit ingredient ingredient ingredient ingredient ingredient ingredient quantity ingredient unit ingredient ingredient ingredient quantity unit ingredient ingredient ingredient unit ingredient ingredient quantity ingredient ingredient ingredient ingredient ingredient ingredient ingredient ingredient ingredient ingredient ingredient ingredient unit ingredient'}, {'input': '150 grams Goond Edible Gum 350 Ghee 400 Whole Wheat Flour Sugar powdered 50 Dry coconut kopra Badam Almond chopped Cashew nuts', 'pos': 'quantity unit ingredient ingredient ingredient quantity ingredient quantity ingredient ingredient ingredient ingredient ingredient quantity ingredient ingredient ingredient ingredient ingredient ingredient ingredient ingredient'}, {'input': '1 cup Sooji Semolina Rava 3 tablespoon All Purpose Flour Maida Milk +1/3 extra Sugar 3/4 Ghee', 'pos': 'quantity unit ingredient ingredient ingredient quantity unit ingredient ingredient ingredient ingredient ingredient quantity ingredient ingredient quantity ingredient'}, {'input': '2-1 cups coconut milk 1 cup water 1/4 roasted chana lentils 6 green chillies teaspoon oil 1/2 mustard small spoon turmeric powder cumin seeds curry leaves salt coriander', 'pos': 'quantity unit ingredient ingredient quantity unit ingredient quantity ingredient ingredient ingredient quantity ingredient ingredient unit ingredient quantity ingredient unit unit ingredient ingredient ingredient ingredient ingredient ingredient ingredient ingredient'}, {'input': '2 cups Water 1 Tulsi holy basil 1/2 teaspoon Black pepper powder Dry ginger Palm sugar Panakalkandu', 'pos': 'quantity unit ingredient quantity ingredient ingredient ingredient quantity unit ingredient ingredient ingredient ingredient ingredient ingredient ingredient ingredient'}, {'input': '2 Carrot Gajjar 3/4 cup Sweet corn 1 Whole Wheat Flour Onion finely chopped 5 tablespoons Del Monte Sandwich Spread 1/4 Coriander Dhania Leaves 3 Eggs teaspoon Baking powder soda Green Chillies', 'pos': 'quantity ingredient ingredient quantity unit ingredient ingredient quantity ingredient ingredient ingredient ingredient ingredient ingredient quantity unit ingredient ingredient ingredient ingredient quantity ingredient ingredient ingredient quantity ingredient unit ingredient ingredient ingredient ingredient ingredient'}, {'input': '2 Whole Eggs 3 tablespoons Roasted Gram Dal Pottukadalai Dry Red Chillies 1 inch Ginger chopped 4 cloves Garlic tablespoon Black Peppercorns Salt', 'pos': 'quantity ingredient ingredient quantity unit ingredient ingredient ingredient ingredient ingredient ingredient ingredient quantity unit ingredient ingredient quantity unit ingredient unit ingredient ingredient ingredient'}, {'input': '2 cups Fresh coconut grated 1 cup Palm jaggery use date Poha Flattened rice 1/2 All Purpose Flour Maida 1/4 Sooji Semolina Rava 4 tablespoons Milk warm liter 3/4 palm', 'pos': 'quantity unit ingredient ingredient ingredient quantity unit ingredient ingredient ingredient ingredient ingredient ingredient ingredient quantity ingredient ingredient ingredient ingredient quantity ingredient ingredient ingredient quantity unit ingredient ingredient unit quantity ingredient'}, {'input': '1 tablespoon Gingelly oil 1/4 teaspoon Mustard seeds Methi Seeds Fenugreek 3 Dry Red Chillies 1/2 cup Pearl onions Sambar Onions halved sprig Curry leaves Urad dal papad broken in to quarters Tamarind Water Powder Jaggery Turmeric powder Haldi cups Salt as needed', 'pos': 'quantity unit ingredient ingredient quantity unit ingredient ingredient ingredient ingredient ingredient quantity ingredient ingredient ingredient quantity unit ingredient ingredient ingredient ingredient ingredient unit ingredient ingredient ingredient ingredient ingredient ingredient ingredient ingredient ingredient ingredient ingredient ingredient ingredient ingredient ingredient ingredient unit ingredient ingredient ingredient'}, {'input': '1 cup Basmati rice 3 Cinnamon Stick 2 Cloves Laung Cardamom Pods Seeds 3/4 Milk 1-1/2 Water pinch Saffron strands teaspoon Cumin powder Jeera Sunflower Oil Salt 1/2 Anardana Powder Pomegranate Seed Cashew nuts Badam Almond 2-5 Raisins 4 Dates pitted sliced Ghee', 'pos': 'quantity unit ingredient ingredient quantity ingredient ingredient quantity ingredient ingredient ingredient ingredient ingredient quantity ingredient quantity ingredient unit ingredient ingredient unit ingredient ingredient ingredient ingredient ingredient ingredient quantity ingredient ingredient ingredient ingredient ingredient ingredient ingredient ingredient quantity ingredient quantity ingredient ingredient ingredient ingredient'}, {'input': '1 cup Button mushrooms chopped Green peas Matar boiled 1/2 teaspoon Cumin seeds Jeera Mustard Asafoetida hing Onion paste Tomato tablespoon Ginger Garlic Paste Chilli Red powder Turmeric Haldi Coriander Powder Dhania 1/4 Garam masala 2 sprig Leaves', 'pos': 'quantity unit ingredient ingredient ingredient ingredient ingredient ingredient ingredient quantity unit ingredient ingredient ingredient ingredient ingredient ingredient ingredient ingredient ingredient unit ingredient ingredient ingredient ingredient ingredient ingredient ingredient ingredient ingredient ingredient ingredient quantity ingredient ingredient quantity unit ingredient'}, {'input': '1/2 cup Coriander Dhania Leaves chopped 4 Green Chillies 1 inch Ginger Salt Lemon juice extracted 2 cups Kabuli Chana White Chickpeas soaked overnight tablespoon Ghee Onion finely 3 cloves Garlic Cinnamon Stick Dalchini Bay leaf tej patta Brown cardamom Badi Elaichi teaspoon Black Kala Namak 1/4 Garam masala powder Powder', 'pos': 'quantity unit ingredient ingredient ingredient ingredient quantity ingredient ingredient quantity unit ingredient ingredient ingredient ingredient ingredient quantity unit ingredient ingredient ingredient ingredient ingredient ingredient unit ingredient ingredient ingredient quantity unit ingredient ingredient ingredient ingredient ingredient ingredient ingredient ingredient ingredient ingredient ingredient ingredient unit ingredient ingredient ingredient quantity ingredient ingredient ingredient ingredient'}, {'input': '1 teaspoon oil mustard capsicum yellow cut red green onion curry leaves little Salt as per taste 1/2 cup peanuts roast tablespoon coconut 4 dry chillies 3 cloves garlic unpeeled cumin seeds sprig coridander chopped', 'pos': 'quantity unit ingredient ingredient ingredient ingredient ingredient ingredient ingredient ingredient ingredient ingredient quantity ingredient quantity quantity quantity quantity unit ingredient ingredient unit ingredient quantity ingredient ingredient quantity ingredient ingredient ingredient ingredient ingredient unit ingredient ingredient'}, {'input': '1/2 cup raw banana chopped suran black gram teaspoon turmeric powder red chili 2 tsp cumin seeds 1 coconut grated 1/4 whole pepper 3 cloves garlic green oil mustard', 'pos': 'quantity unit ingredient ingredient ingredient ingredient ingredient ingredient unit ingredient ingredient ingredient ingredient quantity unit ingredient ingredient quantity ingredient ingredient quantity ingredient ingredient quantity unit ingredient ingredient ingredient ingredient'}, {'input': '4 Potatoes Aloo 50 grams Mozzarella cheese 1 teaspoon Mustard seeds inch Ginger grated Onion finely chopped 2 Green Chillies 1/4 Asafoetida hing 1/2 Turmeric powder Haldi Coriander Dhania Leaves small bunch Sunflower Oil cup Gram flour besan Salt', 'pos': 'quantity ingredient ingredient quantity unit ingredient ingredient quantity unit ingredient ingredient unit ingredient ingredient ingredient ingredient ingredient quantity ingredient ingredient quantity ingredient ingredient quantity ingredient ingredient ingredient ingredient ingredient ingredient ingredient ingredient ingredient ingredient unit ingredient ingredient ingredient ingredient'}, {'input': '400 grams Paneer Homemade Cottage Cheese 3 cloves Garlic chopped 2 inch Ginger Fresh Red chillies 1 teaspoon Bell pepper Capsicum Cumin powder Jeera Coriander Powder Dhania tablespoon Garam masala 100 gram Curd Dahi Yogurt Butter Onions sliced tablespoons tomato puree Whole cashews almonds paste 50 cream Leaves to garnish Lemon juice 1/4 Turmeric Haldi', 'pos': 'quantity unit ingredient ingredient ingredient ingredient quantity unit ingredient ingredient quantity unit ingredient ingredient ingredient ingredient quantity unit ingredient ingredient ingredient ingredient ingredient ingredient ingredient ingredient ingredient unit ingredient ingredient quantity unit ingredient ingredient ingredient ingredient ingredient ingredient unit ingredient ingredient ingredient ingredient ingredient ingredient quantity ingredient ingredient ingredient ingredient ingredient ingredient quantity ingredient ingredient'}, {'input': '1 cup Whole Wheat Flour Spinach Leaves Palak 3 Potatoes Aloo boiled mashed 1/2 Paneer Homemade Cottage Cheese crumbled grated tablespoon Coriander Dhania teaspoon Garam masala powder Salt Cumin Jeera Red Chilli 2 chopped green chillies 1-1/2 Mixed nuts Raisins Ghee to smear', 'pos': 'quantity unit ingredient ingredient ingredient ingredient ingredient ingredient quantity ingredient ingredient ingredient ingredient quantity ingredient ingredient ingredient ingredient ingredient ingredient unit ingredient ingredient unit ingredient ingredient ingredient ingredient ingredient ingredient ingredient ingredient quantity ingredient ingredient ingredient quantity ingredient ingredient ingredient ingredient ingredient ingredient'}, {'input': '4 Hard taco shells 1 cup Hariyali Chicken Tikka 1/2 Summer Salad Refried beans 2 tablespoons Nutralite Cheesy Garlic Mayo 1/4 Tomato Salsa', 'pos': 'quantity ingredient ingredient ingredient quantity unit ingredient ingredient ingredient quantity ingredient ingredient ingredient ingredient quantity unit ingredient ingredient ingredient ingredient quantity ingredient ingredient'}, {'input': '2 trumpet 1/2 teaspoon mustard cumin seeds 1 ginger tomatoes turmeric powder red chilli small Spoon coriander jaggery tablespoon oil 1/4 cup water', 'pos': 'quantity ingredient quantity unit ingredient ingredient ingredient quantity ingredient ingredient ingredient ingredient ingredient ingredient unit unit ingredient ingredient unit ingredient quantity unit ingredient'}, {'input': '1-1/2 cups Basmati rice 1 cup Button mushrooms Soy Chunks Onion sliced inch Ginger 1/2 Curd Dahi Yogurt 2 tablespoons Biryani Masala 3 cloves Garlic teaspoon Turmeric powder Haldi Garam masala Red Chilli 1/4 Mint Leaves Pudina Ghee Green Chillies Ajwain Carom seeds Bay leaf tej patta Star anise Cardamom Pods Seeds Cloves Laung Cinnamon Stick Dalchini', 'pos': 'quantity unit ingredient ingredient quantity unit ingredient ingredient ingredient ingredient ingredient ingredient unit ingredient quantity ingredient ingredient ingredient quantity unit ingredient ingredient quantity unit ingredient unit ingredient ingredient ingredient ingredient ingredient ingredient ingredient quantity ingredient ingredient ingredient ingredient ingredient ingredient ingredient ingredient ingredient ingredient ingredient ingredient ingredient ingredient ingredient ingredient ingredient ingredient ingredient ingredient ingredient ingredient ingredient'}, {'input': '1 Carrot Gajjar chopped 7 Potatoes Aloo 2 cups Cauliflower gobi cut to small florets Onion tablespoon Ginger Garlic Paste Salt teaspoons Sunflower Oil 1/2 cup Fresh coconut grated teaspoon Whole Black Peppercorns Green Chillies Fennel seeds Saunf Poppy 6 Cashew nuts inch Cinnamon Stick Dalchini Star anise 3 Cloves Laung Cardamom Elaichi Pods/Seeds Cumin Jeera', 'pos': 'quantity ingredient ingredient ingredient quantity ingredient ingredient quantity unit ingredient ingredient ingredient ingredient ingredient ingredient ingredient unit ingredient ingredient ingredient ingredient unit ingredient ingredient quantity unit ingredient ingredient ingredient unit ingredient ingredient ingredient ingredient ingredient ingredient ingredient ingredient ingredient quantity ingredient ingredient unit ingredient ingredient ingredient ingredient ingredient quantity ingredient ingredient ingredient ingredient ingredient ingredient ingredient'}, {'input': '500 grams Cabbage Patta Gobi Muttaikose 1 teaspoon Mustard seeds 1-1/2 White Urad Dal Split sprig Curry leaves Green Chilli 1/4 cup Fresh coconut Salt', 'pos': 'quantity unit ingredient ingredient ingredient ingredient quantity unit ingredient ingredient quantity ingredient ingredient ingredient ingredient unit ingredient ingredient ingredient ingredient quantity unit ingredient ingredient ingredient'}, {'input': '1 Brinjal Baingan Eggplant 4 Tomatoes 2 Onions tablespoon Ginger Garlic Paste 20 grams Tamarind teaspoon Mustard seeds Whole Black Peppercorns 1/2 Jaggery 1/4 Turmeric powder Red Chilli teaspoons Sunflower Oil Salt Coriander Dhania Leaves', 'pos': 'quantity ingredient ingredient ingredient quantity ingredient quantity ingredient unit ingredient ingredient ingredient quantity unit ingredient unit ingredient ingredient ingredient ingredient ingredient quantity ingredient quantity ingredient ingredient ingredient ingredient unit ingredient ingredient ingredient ingredient ingredient ingredient'}, {'input': '1 Iceberg lettuce Chicken breasts cut into cm cubes 2 teaspoons Sunflower Oil teaspoon Black pepper powder Garlic finely chopped 1/4 cup Button mushrooms Spring Onion Bulb Greens Chilli vinegar Soy sauce Red Sweet and Spicy Sauce (Tomato Sauce)', 'pos': 'quantity ingredient ingredient ingredient ingredient unit unit unit ingredient quantity unit ingredient ingredient unit ingredient ingredient ingredient ingredient unit ingredient quantity unit ingredient ingredient ingredient ingredient ingredient ingredient ingredient ingredient ingredient ingredient ingredient ingredient unit ingredient ingredient ingredient ingredient'}, {'input': '1/4 cup Lemon juice 500 grams Curd Dahi Yogurt Sugar powdered 2 tablespoons Fresh cream 1/8 teaspoon Turmeric powder Vanilla Extract few drops 1 Orange Zest Rind two wedges', 'pos': 'quantity unit ingredient ingredient quantity unit ingredient ingredient ingredient ingredient ingredient quantity unit ingredient ingredient quantity unit ingredient ingredient ingredient ingredient quantity unit quantity ingredient ingredient ingredient quantity unit'}, {'input': '8 Whole Wheat Brown Bread 200 grams Paneer Homemade Cottage Cheese grated 1 Green Bell Pepper Capsicum finely chopped Chilli teaspoon Chaat Masala Powder 1/2 Black pepper powder 2 tablespoons Butter Salt', 'pos': 'quantity ingredient ingredient ingredient ingredient quantity unit ingredient ingredient ingredient ingredient ingredient quantity ingredient ingredient ingredient ingredient ingredient ingredient ingredient unit ingredient ingredient ingredient quantity ingredient ingredient ingredient quantity unit ingredient ingredient'}, {'input': '250 grams Elephant yam Suran Senai Ratalu 1 Onion 2 Green Chillies teaspoon Ginger Garlic sprig Curry leaves 1/2 Cumin seeds Jeera Turmeric powder Haldi Coriander Powder Dhania Red Chilli Black pepper Garam masala Salt teaspoons Sunflower Oil', 'pos': 'quantity unit ingredient ingredient ingredient ingredient ingredient quantity ingredient quantity ingredient ingredient unit ingredient ingredient unit ingredient ingredient quantity ingredient ingredient ingredient ingredient ingredient ingredient ingredient ingredient ingredient ingredient ingredient ingredient ingredient ingredient ingredient ingredient unit ingredient ingredient'}, {'input': '1 tsp coconut oil sprig curry leaves 4 long garlic inch ginger onion 2 tomatoes 1/2 turmeric powder teaspoon garam masala red chilli coriander 300 grams chicken breast cups water', 'pos': 'quantity unit ingredient ingredient unit ingredient ingredient quantity unit ingredient unit ingredient ingredient quantity ingredient quantity ingredient ingredient unit ingredient ingredient ingredient ingredient ingredient quantity unit ingredient ingredient unit ingredient'}, {'input': '500 grams bottle gourd 1 onion 6 cloves garlic inch ginger 4 green chillies teaspoon cumin seeds 1/2 mustard 1/4 methi fenugreek turmeric powder red chilli tablespoon coriander 2 cup tamarind water tomatoes 3 sprig leaves tablespoons roasted peanuts sesame fresh coconut', 'pos': 'quantity unit ingredient ingredient quantity ingredient quantity unit ingredient unit ingredient quantity ingredient ingredient unit ingredient ingredient quantity ingredient quantity ingredient ingredient ingredient ingredient ingredient ingredient unit ingredient quantity unit ingredient ingredient ingredient quantity unit ingredient unit ingredient ingredient ingredient ingredient ingredient'}, {'input': '1 cup Arhar dal 5 cups Water teaspoon Turmeric powder Green Chillies 30 grams Tamarind 1/2 Lemon juice tablespoon Ghee Mustard seeds 1/4 Asafoetida hing Curry leaves Handful Coriander Dhania Leaves', 'pos': 'quantity unit ingredient ingredient quantity unit ingredient unit ingredient ingredient ingredient ingredient quantity unit ingredient quantity ingredient ingredient unit ingredient ingredient ingredient quantity ingredient ingredient ingredient ingredient ingredient ingredient ingredient ingredient'}, {'input': '1 Chicken breasts cut into thin strips 2 tablespoon Coriander Powder (Dhania) 2-1 Red Chilli powder teaspoon Cumin Black pepper 1/4 Turmeric Haldi Ginger Garlic Paste Extra Virgin Olive Oil Salt cup Whole Wheat Flour Active dry yeast 1/2 Milk Sugar Cucumber julienne Carrot (Gajjar) Tomato pulp removed vinegar Homemade Hummus Tzatziki Onion chopped', 'pos': 'quantity ingredient ingredient ingredient ingredient ingredient ingredient quantity unit ingredient ingredient ingredient quantity ingredient ingredient ingredient unit ingredient ingredient ingredient quantity ingredient ingredient ingredient ingredient ingredient ingredient ingredient ingredient ingredient ingredient unit ingredient ingredient ingredient ingredient ingredient ingredient quantity ingredient ingredient ingredient ingredient ingredient ingredient ingredient ingredient ingredient ingredient ingredient ingredient ingredient ingredient ingredient'}, {'input': '1 cup Whole Wheat Flour 2 teaspoons Sunflower Oil Salt 250 grams Button mushrooms Onion finely chopped teaspoon Cumin seeds Jeera Garam masala powder Green Chillies 1/4 Turmeric Haldi Ghee or oil for cooking', 'pos': 'quantity unit ingredient ingredient ingredient quantity unit ingredient ingredient ingredient quantity unit ingredient ingredient ingredient ingredient ingredient unit ingredient ingredient ingredient ingredient ingredient ingredient ingredient ingredient quantity ingredient ingredient ingredient ingredient ingredient ingredient ingredient'}, {'input': '1 cup Chana dal 200 grams Spinach Leaves 3 Water teaspoon Turmeric powder 2 tablespoons Ghee 1/4 Asafoetida hing Cumin seeds Dry Red Chillies Ginger Garlic Paste Onion Green Tomato 1/2 Chilli', 'pos': 'quantity unit ingredient ingredient quantity unit ingredient ingredient quantity ingredient unit ingredient ingredient quantity unit ingredient quantity ingredient ingredient ingredient ingredient ingredient ingredient ingredient ingredient ingredient ingredient ingredient ingredient ingredient quantity ingredient'}, {'input': '1/2 cup Yellow Moong Dal 1 Cucumber finely chopped Carrot Gajjar grated 1/4 Fresh coconut 2 tablespoon Lemon juice teaspoon Sunflower Oil Mustard seeds Green Chillies slit Asafoetida hing sprig Curry leaves roughly torn Coriander Dhania Leaves', 'pos': 'quantity unit ingredient ingredient ingredient quantity ingredient ingredient ingredient ingredient ingredient ingredient quantity ingredient ingredient quantity unit ingredient ingredient unit ingredient ingredient ingredient ingredient ingredient ingredient ingredient ingredient ingredient unit ingredient ingredient ingredient ingredient ingredient ingredient ingredient'}, {'input': '1 cup Sooji Semolina Rava Curd Dahi Yogurt 5 Saffron strands 1/2 teaspoon Cardamom Powder Elaichi Baking powder 3 teaspoons Caster Sugar 10 Cashew nuts Raisins 2 Ghee', 'pos': 'quantity unit ingredient ingredient ingredient ingredient ingredient ingredient quantity ingredient ingredient quantity unit ingredient ingredient ingredient ingredient ingredient quantity unit ingredient ingredient quantity ingredient ingredient ingredient quantity ingredient'}, {'input': '2 cups Ragi Flour Finger Millet Nagli 1 Onion finely chopped Green Chillies Carrot Gajjar grated 1/2 cup Dill leaves 1/4 Coriander Dhania Leaves teaspoon Cumin seeds Salt Ghee', 'pos': 'quantity unit ingredient ingredient ingredient ingredient ingredient quantity ingredient ingredient ingredient ingredient ingredient ingredient ingredient ingredient quantity unit ingredient ingredient quantity ingredient ingredient ingredient unit ingredient ingredient ingredient ingredient'}, {'input': '2 Sweet Potatoes medium 1 Onion 1/2 teaspoon Rasam Powder Turmeric powder Haldi a pinch Asafoetida hing Salt teaspoons Sunflower Oil Mustard seeds White Urad Dal Split sprig Curry leaves', 'pos': 'quantity ingredient ingredient unit quantity ingredient quantity unit ingredient ingredient ingredient ingredient ingredient unit unit ingredient ingredient ingredient unit ingredient ingredient ingredient ingredient ingredient ingredient ingredient ingredient unit ingredient ingredient'}, {'input': '8 Oreo biscuits 1/2 cup Vanilla Ice cream 2 scoops 1/4 Milk 1 tablespoon Chocolate sauce Heavy whipping', 'pos': 'quantity ingredient ingredient quantity unit ingredient ingredient ingredient quantity unit quantity ingredient quantity unit ingredient ingredient ingredient ingredient'}, {'input': '4 Sweet corn 3 tablespoons Butter 1 Paprika powder Del Monte Cheesy Garlic Mayo 1/2 Lemon wedged Coriander Dhania Leaves Parmesan cheese grated', 'pos': 'quantity ingredient ingredient quantity unit ingredient quantity ingredient ingredient ingredient ingredient ingredient ingredient ingredient quantity ingredient ingredient ingredient ingredient ingredient ingredient ingredient ingredient'}, {'input': '1-1/2 cups Paneer Homemade Cottage Cheese cubed Sunflower Oil 1/2 cup Green peas Matar Salt 1 teaspoon Sugar Red Chilli powder 1/4 Milk Kasuri Methi Dried Fenugreek Leaves Onion red 2 Tomatoes finely chopped inch Ginger clove Garlic peeled and tablespoons Ghee or clarified butter Dry Chillies 3 Cardamom Elaichi Pods/Seeds Cinnamon Stick Dalchini 4 Whole Black Peppercorns Coriander Dhania Seeds Cashew nuts broken into small pieces', 'pos': 'quantity unit ingredient ingredient ingredient ingredient ingredient ingredient ingredient quantity unit ingredient ingredient ingredient ingredient quantity unit ingredient ingredient ingredient ingredient quantity ingredient ingredient ingredient ingredient ingredient ingredient ingredient ingredient quantity ingredient ingredient ingredient unit ingredient ingredient ingredient ingredient ingredient unit ingredient ingredient ingredient ingredient ingredient ingredient quantity ingredient ingredient ingredient ingredient ingredient ingredient quantity ingredient ingredient ingredient ingredient ingredient ingredient ingredient ingredient ingredient ingredient ingredient ingredient'}, {'input': '1 eggplant 2 cups yogurt green chilli chopped tsp cumin powder 1/2 Kashmiri red garam masala onion thin and straight cut salt tbsp ghee coriander', 'pos': 'quantity ingredient quantity unit ingredient ingredient ingredient ingredient unit ingredient ingredient quantity ingredient ingredient ingredient ingredient ingredient ingredient ingredient ingredient ingredient ingredient unit ingredient ingredient'}, {'input': '1 cup Gram flour besan 1/2 teaspoon Ajwain Carom seeds 1/4 Red Chilli powder 2 tablespoons Curd Dahi Yogurt Sunflower Oil Green Bell Pepper Capsicum Cumin Asafoetida hing Turmeric Garam masala Amchur Dry Mango Powder Coriander Dhania 4 sprig Leaves chopped', 'pos': 'quantity unit ingredient ingredient ingredient quantity unit ingredient ingredient ingredient quantity ingredient ingredient ingredient quantity unit ingredient ingredient ingredient ingredient ingredient ingredient ingredient ingredient ingredient ingredient ingredient ingredient ingredient ingredient ingredient ingredient ingredient ingredient ingredient ingredient ingredient quantity unit ingredient ingredient'}, {'input': '250 grams Chicken Sunflower Oil 2 tablespoons Garlic minced 1 Ginger Green Chillies slit Onion sliced Bell Pepper Capsicum Soy sauce 1/2 teaspoon Vinegar Black pepper powder Red Chilli Sauce Roasted tomato pasta Corn flour Water 1-1/2 tablespoon 2-1/2 All Purpose Flour Maida', 'pos': 'quantity unit ingredient ingredient ingredient quantity unit ingredient ingredient quantity ingredient ingredient ingredient ingredient ingredient ingredient ingredient ingredient ingredient ingredient ingredient quantity unit ingredient ingredient ingredient ingredient ingredient ingredient ingredient ingredient ingredient ingredient ingredient ingredient ingredient quantity unit quantity ingredient ingredient ingredient ingredient'}, {'input': '1 Aar Maach Tomato Bay leaf 2 tablespoons Ginger Garlic Paste 3 Green Chillies teaspoon Cumin seeds Jeera Coriander Powder Dhania Red Chilli powder 1/2 Turmeric Haldi Mustard oil Salt Water Leaves Few sprigs', 'pos': 'quantity ingredient ingredient ingredient ingredient ingredient quantity unit ingredient ingredient ingredient quantity ingredient ingredient unit ingredient ingredient ingredient ingredient ingredient ingredient ingredient ingredient ingredient quantity ingredient ingredient ingredient ingredient ingredient ingredient ingredient quantity ingredient'}, {'input': '1 cup Green Amaranth Leaves 20 grams Tamarind Onion Tomato 10 cloves Garlic teaspoon Mustard seeds 1/4 Asafoetida hing sprig Curry leaves 2 teaspoons Sambar Powder Methi Fenugreek tablespoon Sesame Gingelly Oil Salt', 'pos': 'quantity unit ingredient ingredient ingredient quantity unit ingredient ingredient ingredient quantity unit ingredient unit ingredient ingredient quantity ingredient ingredient unit ingredient ingredient quantity unit ingredient ingredient ingredient ingredient unit ingredient ingredient ingredient ingredient'}, {'input': '1 cup Raw Peanuts Moongphali 2 tablespoons Gram flour besan tablespoon Rice 1/2 teaspoon Red Chilli powder Coriander Powder Dhania pinch Chaat Masala 1/4 Water Black pepper Sunflower Oil Salt to fry', 'pos': 'quantity unit ingredient ingredient ingredient quantity unit ingredient ingredient ingredient unit ingredient quantity unit ingredient ingredient ingredient ingredient ingredient ingredient unit ingredient ingredient quantity ingredient ingredient ingredient ingredient ingredient ingredient ingredient ingredient'}, {'input': '1 cup black urad dal split tablespoon kidney beans 4 tomatoes chopped inch ginger grated ghee teaspoon cumin seeds Kashmiri red chilli powder coriander 1/2 garam masala salt', 'pos': 'quantity unit ingredient ingredient ingredient ingredient unit ingredient ingredient quantity ingredient ingredient unit ingredient ingredient ingredient unit ingredient ingredient ingredient ingredient ingredient ingredient ingredient quantity ingredient ingredient ingredient'}, {'input': '200 grams Button mushrooms quartered 500 Spinach Leaves Palak washed and chopped 1 Tomato or pureed 2 cloves Garlic finely inch Ginger Green Chillies slit 1/2 teaspoon Cumin seeds Jeera Cinnamon Stick Dalchini powder 1/4 Turmeric Haldi Garam masala tablespoons Fresh cream tablespoon Ghee Salt', 'pos': 'quantity unit ingredient ingredient ingredient quantity ingredient ingredient ingredient ingredient ingredient ingredient quantity ingredient ingredient ingredient quantity unit ingredient ingredient unit ingredient ingredient ingredient ingredient quantity unit ingredient ingredient ingredient ingredient ingredient ingredient ingredient quantity ingredient ingredient ingredient ingredient unit ingredient ingredient unit ingredient ingredient'}, {'input': '4 Curd Vada 1 cup Papdi puris Sweet Chutney Date Tamarind Green Coriander Mint 2 Onions finely chopped Carrot Gajjar grated Anardana Powder Pomegranate Seed 1/4 Raw Peanuts Moongphali roasted and halved Boondi or sev sprig Dhania Leaves', 'pos': 'quantity ingredient ingredient quantity unit ingredient ingredient ingredient ingredient ingredient ingredient ingredient ingredient ingredient quantity ingredient ingredient ingredient ingredient ingredient ingredient ingredient ingredient ingredient ingredient quantity ingredient ingredient ingredient ingredient ingredient ingredient ingredient ingredient ingredient unit ingredient ingredient'}, {'input': '50 grams Wheat Grass Powder 1/2 teaspoon Black pepper powder 1 Cumin Jeera Lemon juiced', 'pos': 'quantity unit ingredient ingredient ingredient quantity unit ingredient ingredient ingredient quantity ingredient ingredient ingredient ingredient'}, {'input': '1 cup Kabuli Channa teaspoon cumin seeds 1/4 ginger paste 2 teaspoons chana masala powder red chilli Amchoor turmeric tablespoon Coriander salt', 'pos': 'quantity unit ingredient ingredient unit ingredient ingredient quantity ingredient ingredient quantity unit ingredient ingredient ingredient ingredient ingredient ingredient ingredient unit ingredient ingredient'}, {'input': '6 kachris 12 cloves garlic 4 dry red chillies 1 tablespoon cumin seeds 3 tablespoons curd tsp ghee', 'pos': 'quantity ingredient quantity unit ingredient quantity unit unit ingredient quantity unit ingredient ingredient quantity unit ingredient unit ingredient'}, {'input': '7 Potatoes 350 gms Cheese 5 Tomatoes 2 inch Ginger Grated Green Chillies 1 teaspoon Red Chilli Powder Coriander Cumin Salt oil coriander Finely chopped', 'pos': 'quantity ingredient quantity unit ingredient quantity ingredient quantity unit ingredient ingredient ingredient ingredient quantity unit ingredient ingredient ingredient ingredient ingredient ingredient ingredient ingredient ingredient ingredient'}, {'input': '2 cups lentil water 1 cup 3 long whole black peppers teaspoon cumin mustard bay leaf 5 curry leaves Jaggery grated tamarind paste 1/2 goda masala tablespoon oil coriander salt', 'pos': 'quantity unit ingredient ingredient quantity unit quantity ingredient ingredient ingredient ingredient unit ingredient ingredient ingredient ingredient quantity ingredient ingredient ingredient ingredient ingredient ingredient quantity ingredient ingredient unit ingredient ingredient ingredient'}, {'input': '1 cup Whole Wheat Flour 1/4 All Purpose Maida Sooji Semolina Rava 2 tablespoon Curd Dahi Yogurt teaspoon Turmeric powder Haldi Salt a pinch Sunflower Oil for kneading 4 Potatoes Aloo boiled and mashed 1/2 Cumin seeds Jeera Onion finely chopped cloves Garlic crushed inch Ginger Green Chillies 5 Curry leaves sprig Coriander Dhania Leaves Red Chilli', 'pos': 'quantity unit ingredient ingredient ingredient quantity ingredient ingredient ingredient ingredient ingredient ingredient quantity unit ingredient ingredient ingredient unit ingredient ingredient ingredient ingredient quantity unit ingredient ingredient quantity ingredient quantity ingredient ingredient ingredient ingredient ingredient quantity ingredient ingredient ingredient ingredient ingredient ingredient unit ingredient ingredient unit ingredient ingredient ingredient quantity ingredient ingredient unit ingredient ingredient ingredient ingredient ingredient'}, {'input': '1 cabbage cup green peas onion finely chopped 3 chillies tomato teaspoon ginger garlic paste 1/4 turmeric powder 1/2 garam masala 1-1 2 tablespoon oil red chilli salt corriander leaves', 'pos': 'quantity ingredient unit ingredient ingredient ingredient ingredient ingredient quantity ingredient ingredient unit ingredient ingredient ingredient quantity ingredient ingredient quantity ingredient ingredient quantity quantity unit ingredient ingredient ingredient ingredient ingredient ingredient'}, {'input': '350 grams Paneer diced in cubes 1 pinch Asafoetida hing 2 inch Cinnamon Stick Dalchini Bay leaves tej patta 6 Cardamom Pods/Seeds 1/2 teaspoon Ajwain Carom seeds 3 Homemade tomato puree Kashmiri Red Chilli Powder Dry ginger powder 1/4 cup Curd Dahi Yogurt Fennel Saunf powdered Saffron strands Garam masala Salt sprig Coriander Dhania Leaves garnish', 'pos': 'quantity unit ingredient ingredient ingredient ingredient quantity unit ingredient ingredient quantity unit ingredient ingredient ingredient ingredient ingredient ingredient ingredient quantity ingredient ingredient quantity unit ingredient ingredient ingredient quantity ingredient ingredient ingredient ingredient ingredient ingredient ingredient ingredient ingredient ingredient quantity unit ingredient ingredient ingredient ingredient ingredient ingredient ingredient ingredient ingredient ingredient ingredient unit ingredient ingredient ingredient ingredient'}, {'input': '2 cups Rice 4 tablespoons Sunflower Oil 1 Onion chopped Tomato tablespoon Ginger Garlic Paste 1/4 teaspoon Red Chilli powder cup Carrots Gajjar Green peas Matar steamed Bell Pepper Capsicum Potato Aloo cut into small cubes Cardamom Elaichi Pods Seeds Cloves Laung Garam masala Star anise inch Cinnamon Stick Dalchini Coriander Dhania Leaves a bunch finely Mint Pudina few sprigs Salt', 'pos': 'quantity unit ingredient quantity unit ingredient ingredient quantity ingredient ingredient ingredient unit ingredient ingredient ingredient quantity unit ingredient ingredient ingredient unit ingredient ingredient ingredient ingredient ingredient ingredient ingredient ingredient ingredient ingredient ingredient ingredient ingredient ingredient ingredient ingredient ingredient ingredient ingredient ingredient ingredient ingredient ingredient ingredient ingredient unit ingredient ingredient ingredient ingredient ingredient ingredient quantity ingredient ingredient ingredient ingredient ingredient ingredient ingredient'}, {'input': '2 teaspoons oil 1 teaspoon cumin seeds cloves garlic grated onions finely chopped red chilli powder 1/2 turmeric cup coconut milk vegetable Stock tablespoons Dijon Mustard carrots cut round thinly 5 green beans into small pieces 1/4 peas steam potatoes boiled salt', 'pos': 'quantity unit ingredient quantity unit ingredient ingredient unit ingredient ingredient ingredient ingredient ingredient ingredient ingredient ingredient quantity ingredient unit ingredient ingredient ingredient ingredient unit ingredient ingredient ingredient ingredient ingredient ingredient quantity ingredient ingredient ingredient ingredient ingredient quantity ingredient ingredient ingredient ingredient ingredient'}, {'input': '1 cup Basmati rice 120 ml Coconut milk teaspoon Turmeric powder 10 Green beans French Beans diced small 1-1/2 cups Cauliflower gobi florets 2 Carrots Gajjar cloves Garlic grated Ginger Chillies slit Cloves Laung Cardamom Elaichi Pods/Seeds inch Cinnamon Stick Dalchini Bay leaf tej patta Salt tablespoons Ghee', 'pos': 'quantity unit ingredient ingredient quantity unit ingredient ingredient unit ingredient ingredient quantity ingredient ingredient ingredient ingredient ingredient ingredient quantity unit ingredient ingredient ingredient quantity ingredient ingredient unit ingredient ingredient ingredient ingredient ingredient ingredient ingredient ingredient ingredient ingredient unit ingredient ingredient ingredient ingredient ingredient ingredient ingredient ingredient unit ingredient'}, {'input': '200 grams small potatoes 2 tsp turmeric powder cardamom 1 inch cinnamon long bay leaf 1/2 cup tomato puree garam masala yogurt red chilli coriander sugar salt stock green onion ginger 3 cloves garlic chillies', 'pos': 'quantity unit ingredient ingredient quantity unit ingredient ingredient ingredient quantity unit ingredient ingredient ingredient ingredient quantity unit ingredient ingredient ingredient ingredient ingredient ingredient ingredient ingredient ingredient ingredient ingredient ingredient ingredient ingredient quantity ingredient ingredient ingredient'}, {'input': '2 cups Basmati rice 8 Water Salt 1/4 Soy Chunks Nuggets Carrots Gajjar Green beans French Beans peas Matar Cauliflower gobi Bell Pepper Capsicum 3 Potatoes Aloo Tomatoes 4 Onions tablespoons Ginger Garlic Paste Sunflower Oil 1 inch Cinnamon Stick Dalchini Cardamom Pods/Seeds Cloves Laung teaspoon Cumin seeds Jeera 1-1/2 Spinach Leaves Palak bunch 1/2 Coriander Dhania Mint Pudina Chillies 5 Badam Almond Elaichi Black cardamom Badi Bay leaf tej patta Ajwain Carom Mace Javitri Turmeric powder Haldi Red Chilli Powder Garam masala sliced chopped roughly torn cup Milk 7 Saffron strands Ghee', 'pos': 'quantity unit ingredient ingredient quantity ingredient ingredient quantity ingredient ingredient ingredient ingredient ingredient ingredient ingredient ingredient ingredient ingredient ingredient ingredient ingredient ingredient ingredient ingredient quantity ingredient ingredient ingredient quantity ingredient unit ingredient ingredient ingredient ingredient ingredient quantity unit ingredient ingredient ingredient ingredient ingredient ingredient ingredient unit ingredient ingredient ingredient quantity ingredient ingredient ingredient ingredient quantity ingredient ingredient ingredient ingredient ingredient quantity ingredient ingredient ingredient ingredient ingredient ingredient ingredient ingredient ingredient ingredient ingredient ingredient ingredient ingredient ingredient ingredient ingredient ingredient ingredient ingredient ingredient ingredient ingredient ingredient ingredient ingredient unit ingredient quantity ingredient ingredient ingredient'}, {'input': '100 grams Pheni one roll 300 ml Milk 1/4 cup Sugar 1 tablespoon Ghee 2 tablespoons Cashew nuts Raisins Almond Meal Badam Powder', 'pos': 'quantity unit ingredient quantity ingredient quantity unit ingredient quantity unit ingredient quantity unit ingredient quantity unit ingredient ingredient ingredient ingredient ingredient ingredient ingredient'}, {'input': '4 papad urad dal tamarind 1 tablespoon sambar powder 1/4 teaspoon turmeric horse-powder mustard 1/2 gram lentils pinch Asafoetida dry red chili curry leaves 3 teaspoons sesame oil salt', 'pos': 'quantity ingredient ingredient ingredient ingredient quantity unit ingredient ingredient quantity unit ingredient ingredient ingredient quantity ingredient ingredient unit ingredient ingredient ingredient ingredient ingredient ingredient quantity unit ingredient ingredient ingredient'}, {'input': '1/4 cup Rice Yellow Moong Dal 1 Carrot Gajjar 3 Green beans French Beans teaspoon Ghee Cumin seeds Asafoetida hing Salt a pinch', 'pos': 'quantity unit ingredient ingredient ingredient ingredient quantity ingredient ingredient quantity ingredient ingredient ingredient ingredient unit ingredient ingredient ingredient ingredient ingredient ingredient quantity unit'}, {'input': '4 Potatoes Aloo chopped 1-1/2 cups Curd Dahi Yogurt 2 tablespoons Gram flour besan 1/3 teaspoon Asafoetida hing 1 Cumin seeds Jeera sprig Curry leaves Onion finely 1/2 Ginger Garlic Green Chillies Red Chilli powder Coriander Powder Dhania Turmeric Haldi Sunflower Oil Leaves garnish', 'pos': 'quantity ingredient ingredient unit quantity unit ingredient ingredient ingredient quantity unit ingredient ingredient ingredient quantity unit ingredient ingredient quantity ingredient ingredient ingredient unit ingredient ingredient ingredient unit quantity ingredient ingredient ingredient ingredient ingredient ingredient ingredient ingredient ingredient ingredient ingredient ingredient ingredient ingredient ingredient ingredient'}, {'input': '2 cups Brown Rice cooked tablespoons Garlic chopped 1 Green Chilli 1/2 cup Carrots (Gajjar) beans (French Beans) Bell Pepper (Capsicum) Onion Cabbage (Patta Gobi/ Muttaikose) tablespoon Roasted tomato pasta sauce - or store bought Red teaspoon Soy Ginger freshly grated Spring Greens Salt Vinegar Extra Virgin Olive Oil as required', 'pos': 'quantity unit ingredient ingredient ingredient unit ingredient ingredient quantity ingredient ingredient quantity unit ingredient ingredient ingredient ingredient ingredient ingredient ingredient ingredient ingredient ingredient ingredient ingredient ingredient unit ingredient ingredient ingredient ingredient ingredient ingredient ingredient ingredient ingredient unit ingredient ingredient ingredient ingredient ingredient ingredient ingredient ingredient ingredient ingredient ingredient ingredient ingredient ingredient'}, {'input': '2 cups All Purpose Flour Maida 2/3 Cocoa Powder 1-1/2 teaspoons Baking powder 1/4 Salt 3/4 Butter softened Caster Sugar teaspoon Vanilla Extract 3 Whole Eggs Flaxmeal Egg Replacer Curd Dahi Yogurt 1/2 Red Food Color tablespoons Flax seed Chilled water 9', 'pos': 'quantity unit ingredient ingredient ingredient ingredient quantity ingredient ingredient quantity unit ingredient ingredient quantity ingredient quantity ingredient ingredient ingredient ingredient unit ingredient ingredient quantity ingredient ingredient ingredient ingredient ingredient ingredient ingredient ingredient quantity ingredient ingredient ingredient unit ingredient ingredient ingredient ingredient quantity'}, {'input': '1/2 cup Milk 1 tablespoon Sooji Semolina Rava Powder All Purpose Flour Maida 1/8 teaspoon Baking soda Caster Sugar 2 cups 2-1/2 Water Cardamom Elaichi Pistachios chopped Ghee Vegetable oil', 'pos': 'quantity unit ingredient quantity unit ingredient ingredient ingredient ingredient ingredient ingredient ingredient ingredient quantity unit ingredient ingredient ingredient ingredient quantity unit quantity ingredient ingredient ingredient ingredient ingredient ingredient ingredient ingredient'}, {'input': '400 grams Tindora Dondakaya Kovakkai 1 teaspoon Mustard seeds 1/2 White Urad Dal pinch Asafoetida hing sprig Curry leaves Dry Red Chilli tablespoon Sunflower Oil 2 tablespoons Coriander Dhania Seeds Chana dal Bengal Gram 4 Chillies 1/4', 'pos': 'quantity unit ingredient ingredient ingredient quantity unit ingredient ingredient quantity ingredient ingredient ingredient quantity ingredient ingredient unit ingredient ingredient ingredient ingredient ingredient unit ingredient ingredient quantity unit ingredient ingredient ingredient ingredient ingredient ingredient ingredient quantity ingredient quantity'}, {'input': '2 bay leaves 5 tablespoons coriander seeds whole pepper celery cumin 6 cardamom 1 large 3 mace stone flowers star anis 1/4 small Spoon Nutmeg Powder inch Cinnamon Long', 'pos': 'quantity ingredient ingredient quantity unit ingredient ingredient ingredient ingredient ingredient ingredient quantity ingredient quantity ingredient quantity ingredient ingredient ingredient ingredient ingredient quantity ingredient unit ingredient ingredient unit ingredient ingredient'}, {'input': '2 Chicken sausage 1 teaspoon Butter 250 grams Dry beans Extra Virgin Olive Oil Onion finely chopped clove Garlic grated 500 Tomatoes pureed tablespoon Honey Cumin powder Jeera Dried oregano 1/4 Red Chilli cayenne pepper Salt and Pepper cup Broccoli cut into small florets cloves Thyme Leaves Black for seasoning', 'pos': 'quantity ingredient ingredient quantity unit ingredient quantity unit ingredient ingredient ingredient ingredient ingredient ingredient ingredient ingredient ingredient unit ingredient ingredient quantity ingredient ingredient unit ingredient ingredient ingredient ingredient ingredient ingredient quantity ingredient ingredient ingredient ingredient ingredient ingredient ingredient unit ingredient ingredient ingredient ingredient ingredient unit ingredient ingredient ingredient ingredient ingredient'}, {'input': '300 grams Boneless chicken 1-1/2 teaspoons Ginger Garlic Paste Red Chilli powder 1 teaspoon Coriander Powder (Dhania) 1/2 Black pepper 2 Green Chillies - slit sprig Curry leaves Whole Egg tablespoon Gram flour (besan) Corn Salt to taste Sunflower Oil deep fry', 'pos': 'quantity unit ingredient ingredient quantity unit ingredient ingredient ingredient ingredient ingredient ingredient quantity unit ingredient ingredient ingredient quantity ingredient ingredient quantity ingredient ingredient ingredient ingredient unit ingredient ingredient ingredient ingredient unit ingredient ingredient ingredient ingredient ingredient ingredient ingredient ingredient ingredient ingredient ingredient'}, {'input': '1/2 cup All Purpose Flour Maida Whole Wheat 1/4 Hung Curd Greek Yogurt 250 grams Chicken minced 1 Spinach Leaves Palak finely chopped Onion 4 cloves Garlic Tomatoes tablespoon Cumin powder Jeera Coriander Powder Dhania 1 1/2 teaspoon Paprika Black pepper 3 sprig Mint Pudina 10 Spring Bulb & Greens 100 Feta Cheese crumbled', 'pos': 'quantity unit ingredient ingredient ingredient ingredient ingredient ingredient quantity ingredient ingredient ingredient ingredient quantity unit ingredient ingredient quantity ingredient ingredient ingredient ingredient ingredient ingredient quantity unit ingredient ingredient unit ingredient ingredient ingredient ingredient ingredient ingredient quantity unit ingredient ingredient ingredient quantity unit ingredient ingredient quantity ingredient ingredient ingredient ingredient quantity ingredient ingredient ingredient'}, {'input': '300 grams Vivatta Maida 75 Sugar 175 Butter unsalted 15 Milk Powder 1 pinch Baking powder 1/2 teaspoon Vanilla Extract', 'pos': 'quantity unit ingredient ingredient quantity ingredient quantity ingredient ingredient quantity ingredient ingredient quantity unit ingredient ingredient quantity unit ingredient ingredient'}, {'input': '10 prawns 1 tablespoon soy sauce teaspoon sesame gingelly oil cloves garlic finely chopped 2 green chillies coriander dhania leaves 1/2 whole black peppercorns crushed sunflower salt few drops lemon juice', 'pos': 'quantity ingredient quantity unit ingredient ingredient unit ingredient ingredient ingredient ingredient ingredient ingredient ingredient quantity ingredient ingredient ingredient ingredient ingredient quantity ingredient ingredient ingredient ingredient ingredient ingredient quantity ingredient ingredient ingredient'}, {'input': '2 cups fruit pineapple 1 1/2 yogurt 1/4 teaspoon turmeric powder teaspoons jaggery salt cup coconut green chillies mustard dry red peppers break oil sprig curry leaves', 'pos': 'quantity unit ingredient ingredient quantity quantity ingredient quantity unit ingredient ingredient unit ingredient ingredient unit ingredient ingredient ingredient ingredient ingredient ingredient ingredient ingredient ingredient unit ingredient ingredient'}, {'input': '1 cup Rice 1/2 Green peas 3 Potatoes Aloo Onion tablespoon Ginger Garlic Paste 2 Chillies Black cardamom Badi Elaichi Bay leaf tej patta Cardamom Pods/Seeds inch Cinnamon Stick Dalchini Cloves Laung teaspoon Cumin seeds Jeera Coriander Powder Dhania powder pepper Red Chilli Ghee Leaves finely chopped garnish', 'pos': 'quantity unit ingredient quantity ingredient ingredient quantity ingredient ingredient ingredient unit ingredient ingredient ingredient quantity ingredient ingredient ingredient ingredient ingredient ingredient ingredient ingredient ingredient ingredient ingredient unit ingredient ingredient ingredient ingredient ingredient unit ingredient ingredient ingredient ingredient ingredient ingredient ingredient ingredient ingredient ingredient ingredient ingredient ingredient ingredient ingredient'}, {'input': '1/2 cup Sooji Semolina Rava 1/4 Curd Dahi Yogurt Onion powder finely chopped Green Bell Pepper Capsicum 2 tablespoons Coriander Dhania Leaves 1 Chilli teaspoon Black pepper Salt Sunflower Oil', 'pos': 'quantity unit ingredient ingredient ingredient quantity ingredient ingredient ingredient ingredient ingredient ingredient ingredient ingredient ingredient ingredient ingredient quantity unit ingredient ingredient ingredient quantity ingredient unit ingredient ingredient ingredient ingredient ingredient'}, {'input': '12 Kashmiri dry red chillies 1/4 teaspoon Methi Seeds Fenugreek 7 Garlic cloves 4 Shallots peeled 1/2 Cumin seeds Jeera Turmeric powder Haldi 2 Vinegar 1/3 cup Water 3 Potatoes Aloo cleaned Salt tablespoon Sunflower Oil 1 Mustard 10 Curry leaves Sugar', 'pos': 'quantity ingredient ingredient ingredient ingredient quantity unit ingredient ingredient ingredient quantity ingredient ingredient quantity ingredient ingredient quantity ingredient ingredient ingredient ingredient ingredient ingredient quantity ingredient quantity unit ingredient quantity ingredient ingredient ingredient ingredient unit ingredient ingredient quantity ingredient quantity ingredient ingredient ingredient'}, {'input': '15 Pointed gourd Parval cut into wedges 3 4 Potatoes Aloo skin peeled 1/2 teaspoon Methi Seeds Fenugreek Cumin seeds Jeera 1 Fennel Saunf Cloves Laung inch Cinnamon Stick Dalchini Dry Red Chilli Ginger finely chopped cup Fresh coconut grated 2 tablespoon Poppy powder Turmeric Haldi Green Chillies Sugar Salt Mustard oil for cooking', 'pos': 'quantity ingredient ingredient ingredient ingredient ingredient ingredient quantity quantity ingredient ingredient ingredient ingredient quantity unit ingredient ingredient ingredient ingredient ingredient ingredient quantity ingredient ingredient ingredient ingredient unit ingredient ingredient ingredient ingredient ingredient ingredient ingredient ingredient ingredient unit ingredient ingredient ingredient quantity unit ingredient ingredient ingredient ingredient ingredient ingredient ingredient ingredient ingredient ingredient ingredient ingredient'}, {'input': '3 Potatoes Aloo 1 cup Lotus Stem 1/2 Homemade tomato puree teaspoon Cumin seeds Jeera 1/4 Asafoetida hing 2 teaspoons Coriander Powder Dhania Turmeric powder Haldi Red Chilli Garam masala Salt Sunflower Oil 4 sprig Leaves Onions Garlic inch Ginger Green Chillies', 'pos': 'quantity ingredient ingredient quantity unit ingredient ingredient quantity ingredient ingredient ingredient unit ingredient ingredient ingredient quantity ingredient ingredient quantity unit ingredient ingredient ingredient ingredient ingredient ingredient ingredient ingredient ingredient ingredient ingredient ingredient ingredient quantity unit ingredient ingredient ingredient unit ingredient ingredient ingredient'}, {'input': '8 Whole Wheat Brown Bread 2 Tomatoes sliced thin into rounds 1 Cucumber peeled and Salt Black pepper powder Chaat Masala Powder tablespoons Butter 4 Green Chutney (Coriander & Mint) Tomato Ketchup', 'pos': 'quantity ingredient ingredient ingredient ingredient quantity ingredient ingredient ingredient ingredient ingredient quantity ingredient ingredient ingredient ingredient ingredient ingredient ingredient ingredient ingredient ingredient unit ingredient quantity ingredient ingredient ingredient ingredient ingredient ingredient ingredient'}, {'input': '1/2 cup Instant Oats Oatmeal Wheat Flakes Cereal 3 tablespoon Pine nuts tablespoons Pumpkin seeds Dates dried ones finely chopped Dried raspberries Raisins sultana Badam Almond Walnuts teaspoon Cinnamon Powder Dalchini Nutmeg powder Vanilla Extract Sunflower Oil 1 Honey', 'pos': 'quantity unit ingredient ingredient ingredient ingredient ingredient ingredient quantity unit ingredient ingredient unit ingredient ingredient ingredient ingredient ingredient ingredient ingredient ingredient ingredient ingredient ingredient ingredient ingredient ingredient unit ingredient ingredient ingredient ingredient ingredient ingredient ingredient ingredient ingredient quantity ingredient'}, {'input': '300 grams Small Brinjal Baingan Eggplant 200 Mustard greens 1 Onion sliced 4 cloves Garlic finely chopped inch Ginger 1/2 teaspoon Cumin seeds Jeera Red Chilli powder Coriander Powder Dhania Garam masala Amchur Dry Mango Salt 3 tablespoons oil for cooking', 'pos': 'quantity unit ingredient ingredient ingredient ingredient quantity ingredient ingredient quantity ingredient ingredient quantity unit ingredient ingredient ingredient unit ingredient quantity unit ingredient ingredient ingredient ingredient ingredient ingredient ingredient ingredient ingredient ingredient ingredient ingredient ingredient ingredient ingredient quantity unit ingredient ingredient ingredient'}, {'input': '250 grams Elephant yam Suran Senai Ratalu 1/2 cup Fresh coconut grated teaspoon Mustard seeds Curry leaves few 1/4 Asafoetida (hing) 1 Red Chilli powder Coriander Powder (Dhania) Turmeric (Haldi) 2 Sambar Salt Sunflower Oil for frying', 'pos': 'quantity unit ingredient ingredient ingredient ingredient ingredient quantity unit ingredient ingredient ingredient unit ingredient ingredient ingredient ingredient ingredient quantity ingredient ingredient quantity ingredient ingredient ingredient ingredient ingredient ingredient ingredient ingredient quantity ingredient ingredient ingredient ingredient ingredient ingredient'}, {'input': '2 cups rice cooked tomatoes finely chopped 1 onion thinly sliced teaspoon red chilli powder green slit mint leaves pudina fistful coriander dhania small bunch cinnamon stick dalchini cloves laung sprig curry tablespoon ghee salt inch ginger roughly 3 to 4 garlic fennel seeds saunf', 'pos': 'quantity unit ingredient ingredient ingredient ingredient ingredient quantity ingredient ingredient ingredient unit ingredient ingredient ingredient ingredient ingredient ingredient ingredient ingredient ingredient ingredient ingredient ingredient ingredient ingredient ingredient ingredient ingredient ingredient ingredient ingredient unit ingredient ingredient ingredient ingredient ingredient quantity ingredient quantity ingredient ingredient ingredient ingredient'}, {'input': '1 tablespoon Cumin seeds Jeera Cinnamon Stick Dalchini Dry ginger powder Turmeric Haldi 2 teaspoons Red Chilli Coriander Dhania Seeds Fennel Saunf Whole Black Peppercorns 4 cloves Garlic teaspoon Cardamom Elaichi Pods Mace Javitri cups Jasmine Rice cup Coconut milk 1/2 Salt tablespoons Oil Onion diced Bell pepper Capsicum sliced thin 10 Gawar Phali Kothavarangai Cluster beans chopped into half inch Ginger minced Stalks Lemongrass fresh Lemon juice Jaggery Thai basil leaves garnish', 'pos': 'quantity unit ingredient ingredient ingredient ingredient ingredient ingredient ingredient ingredient ingredient ingredient ingredient quantity unit ingredient ingredient ingredient ingredient ingredient ingredient ingredient ingredient ingredient ingredient quantity unit ingredient unit ingredient ingredient ingredient ingredient ingredient unit ingredient ingredient unit ingredient ingredient quantity ingredient unit ingredient ingredient ingredient ingredient ingredient ingredient ingredient ingredient quantity ingredient ingredient ingredient ingredient ingredient ingredient ingredient ingredient unit ingredient ingredient unit ingredient ingredient ingredient ingredient ingredient ingredient ingredient ingredient ingredient'}, {'input': '250 grams Okra Oil 1 Onion finely chopped Tomato Grated teaspoon Ginger 2 Garlic Finely 1/2 Cumin seeds 1/4 Teaspoon asafoetida cup cottage cheese pinched coriander powder mango red chilli turmeric', 'pos': 'quantity unit ingredient ingredient quantity ingredient ingredient ingredient ingredient ingredient unit ingredient quantity ingredient ingredient quantity ingredient ingredient quantity unit ingredient unit ingredient ingredient ingredient ingredient ingredient ingredient ingredient ingredient ingredient'}, {'input': '1 Wood apple 2 tablespoons Jaggery or sugar Black Salt Kala Namak teaspoon Cumin powder Jeera Lemon juice Mint Leaves Pudina Water chilled Ice cubes', 'pos': 'quantity ingredient ingredient quantity unit ingredient ingredient ingredient ingredient ingredient ingredient ingredient unit ingredient ingredient ingredient ingredient ingredient ingredient ingredient ingredient ingredient ingredient ingredient ingredient'}, {'input': '2 Mango Ripe 1 cup Sugar teaspoon Saffron strands 1/4 Cinnamon Powder Dalchini', 'pos': 'quantity ingredient ingredient quantity unit ingredient unit ingredient ingredient quantity ingredient ingredient ingredient'}, {'input': '15 Gawar Phali Kothavarangai Cluster beans 1 inch Ginger 4 cloves Garlic 5 Green Chillies 3 tablespoons Roasted Peanuts Moongphali 1/4 teaspoon Coriander Dhania Seeds 1/2 Cumin seeds Jeera 18 grams Tamarind Salt Mustard White Urad Dal Split pinch Asafoetida hing', 'pos': 'quantity ingredient ingredient ingredient ingredient ingredient quantity unit ingredient quantity unit ingredient quantity ingredient ingredient quantity unit ingredient ingredient ingredient quantity unit ingredient ingredient ingredient quantity ingredient ingredient ingredient quantity unit ingredient ingredient ingredient ingredient ingredient ingredient ingredient unit ingredient ingredient'}, {'input': '500 grams Kataifi dough 200 Butter 2 tablespoons Sugar 1 Rose water 2-1/2 cups 1-1/2 Water teaspoon Lemon juice Saffron strands few cup Paneer (Homemade Cottage Cheese) 1/2 Mango Pulp (Puree) Icing teaspoons Thandai Masala 50 Heavy whipping cream Fresh Pistachios - crushed Dried rose petals', 'pos': 'quantity unit ingredient ingredient quantity ingredient quantity unit ingredient quantity ingredient ingredient quantity unit quantity ingredient unit ingredient ingredient ingredient ingredient quantity unit ingredient ingredient ingredient ingredient quantity ingredient ingredient ingredient ingredient unit ingredient ingredient quantity ingredient ingredient ingredient ingredient ingredient ingredient ingredient ingredient ingredient ingredient'}, {'input': '24 Whole Wheat Brown Bread 1 cup Milk 150 grams Khoya Mawa Sugar 1/4 Badam Almond finely chopped Ghee for deep frying', 'pos': 'quantity ingredient ingredient ingredient ingredient quantity unit ingredient quantity unit ingredient ingredient ingredient quantity ingredient ingredient ingredient ingredient ingredient ingredient ingredient ingredient'}, {'input': '500 grams Brinjal Baingan Eggplant 1 Onion finely chopped 1/2 teaspoon Cumin seeds Jeera Mustard inch Ginger grated 2 cloves Garlic Turmeric powder Haldi Coriander Powder Dhania Red Chilli Amchur Dry Mango Tomato Salt Leaves Fennel Saunf Kalonji Nigella Seeds Ajwain Carom 1/4 Methi Fenugreek 4-5 Chillies Sunflower Oil for cooking', 'pos': 'quantity unit ingredient ingredient ingredient quantity ingredient unit ingredient quantity unit ingredient ingredient ingredient ingredient unit ingredient ingredient quantity unit ingredient ingredient ingredient ingredient ingredient ingredient ingredient ingredient ingredient ingredient ingredient ingredient ingredient ingredient ingredient ingredient ingredient ingredient ingredient ingredient ingredient ingredient quantity ingredient ingredient quantity ingredient ingredient ingredient unit ingredient'}, {'input': '1 Snake gourd pudulangai finely chopped cup Curd Dahi Yogurt 1/2 Fresh coconut grated teaspoon Sunflower Oil 1/4 Turmeric powder Haldi Dry Red Chilli broken into pieces Cumin seeds Jeera Mustard Asafoetida hing', 'pos': 'quantity ingredient ingredient ingredient ingredient ingredient unit ingredient ingredient ingredient quantity ingredient ingredient ingredient unit ingredient ingredient quantity ingredient ingredient ingredient ingredient ingredient ingredient ingredient ingredient ingredient ingredient ingredient ingredient ingredient ingredient ingredient'}, {'input': '4 Karela Bitter Gourd Pavakkai sliced into rounds 2 teaspoons Coriander Powder Dhania 1 teaspoon Red Chilli powder pinch Asafoetida hing 1/4 cup Gram flour besan Black Salt Kala Namak Sunflower Oil Hung Curd Greek Yogurt Chaat Masala tablespoon Sweet Chutney Date Tamarind 1/2 Sev Aloo Bhujia Dates few Leaves small bunch', 'pos': 'quantity ingredient ingredient ingredient ingredient ingredient ingredient ingredient quantity unit ingredient ingredient ingredient quantity unit ingredient ingredient ingredient unit ingredient ingredient quantity unit ingredient ingredient ingredient ingredient ingredient ingredient ingredient ingredient ingredient ingredient ingredient ingredient ingredient ingredient ingredient unit ingredient ingredient ingredient ingredient quantity ingredient ingredient ingredient ingredient quantity ingredient ingredient ingredient'}, {'input': '2 cups Potatoes Aloo 1 Tomatoes finely chopped 1-1/2 tablespoon Ginger grated ground Green Chillies slit tablespoons Kasuri Methi Dried Fenugreek Leaves 1/2 teaspoon Fennel seeds Saunf Cumin Jeera Seeds Coriander Powder Dhania Red Chilli powder Turmeric Haldi Garam masala teaspoons Amchur Dry Mango Ghee Salt to taste', 'pos': 'quantity unit ingredient ingredient quantity ingredient ingredient ingredient quantity unit ingredient ingredient ingredient ingredient ingredient ingredient unit ingredient ingredient ingredient ingredient ingredient quantity unit ingredient ingredient ingredient ingredient ingredient ingredient ingredient ingredient ingredient ingredient ingredient ingredient ingredient ingredient ingredient ingredient unit ingredient ingredient ingredient ingredient ingredient ingredient ingredient'}, {'input': '1 cup Moth Sprouts Matki 1/2 White Urad Dal Split 2 Green Chillies teaspoon Fennel seeds Saunf inch Ginger Spinach Leaves Palak 1/4 Turmeric powder Haldi Sunflower Oil', 'pos': 'quantity unit ingredient ingredient ingredient quantity ingredient ingredient ingredient ingredient quantity ingredient ingredient unit ingredient ingredient ingredient unit ingredient ingredient ingredient ingredient quantity ingredient ingredient ingredient ingredient ingredient'}, {'input': '2 Banana flower Vazhaipoo 1 cup Coconut milk thick 3 thin 1/2 Rice raw Chana dal Bengal Gram 1/4 Onion Cardamom Elaichi Pods/Seeds Sugar 3/4 teaspoon Salt Water', 'pos': 'quantity ingredient ingredient ingredient quantity unit ingredient ingredient unit quantity unit quantity ingredient unit ingredient ingredient ingredient ingredient quantity ingredient ingredient ingredient ingredient ingredient quantity unit ingredient ingredient'}, {'input': '1 cup Whole Wheat Flour 1/4 teaspoon Salt tablespoon Ghee 1/2 Lukewarm Water Caster Sugar Sunflower Oil', 'pos': 'quantity unit ingredient ingredient ingredient quantity unit ingredient unit ingredient quantity ingredient ingredient ingredient ingredient ingredient ingredient'}, {'input': '1-1/2 cups Chana dal Bengal Gram Dal 1 Onion 3 cloves Garlic 2 Green Chillies 1/2 teaspoon Ajwain Carom seeds Coriander Dhania Leaves Salt', 'pos': 'quantity unit ingredient ingredient ingredient ingredient ingredient quantity ingredient quantity unit ingredient quantity ingredient ingredient quantity unit ingredient ingredient ingredient ingredient ingredient ingredient ingredient'}, {'input': '500 grams Baby Potatoes 2 Dry Red Chillies teaspoons Sesame seeds 1 teaspoon Cumin Fennel 1/4 Asafoetida hing 1/2 Turmeric powder Kashmiri Chilli Powder tablespoons flakes Amchur Mango Coriander Dhania Leaves finely chopped tablespoon Sunflower Oil Salt', 'pos': 'quantity unit ingredient ingredient quantity ingredient ingredient ingredient unit ingredient ingredient quantity unit ingredient ingredient quantity ingredient ingredient quantity ingredient ingredient ingredient ingredient ingredient unit ingredient ingredient ingredient ingredient ingredient ingredient ingredient ingredient unit ingredient ingredient ingredient'}, {'input': '500 grams Bhindi Lady Finger Okra 10 Pearl onions Sambar Onions 1/4 cup Fresh coconut 2 Green Chillies 1 sprig Curry leaves 1/2 teaspoon Mustard seeds Turmeric powder Salt Sunflower Oil', 'pos': 'quantity unit ingredient ingredient ingredient ingredient quantity ingredient ingredient ingredient ingredient quantity unit ingredient ingredient quantity ingredient ingredient quantity unit ingredient ingredient quantity unit ingredient ingredient ingredient ingredient ingredient ingredient ingredient'}, {'input': '1 cup Kabuli Chana boiled 3 Potatoes Aloo Onion finely chopped Tomato Green Chilli tablespoon Ginger Garlic Paste teaspoon Red powder 1/2 Turmeric Haldi 2 teaspoons Coriander Powder Dhania Garam masala Amchur Dry Mango Cumin seeds Jeera 4 sprig Leaves inch cut in juliennes long thin strips Sunflower Oil Salt', 'pos': 'quantity unit ingredient ingredient ingredient quantity ingredient ingredient ingredient ingredient ingredient ingredient ingredient ingredient unit ingredient ingredient ingredient unit ingredient ingredient quantity ingredient ingredient quantity unit ingredient ingredient ingredient ingredient ingredient ingredient ingredient ingredient ingredient ingredient ingredient quantity unit ingredient unit ingredient ingredient ingredient ingredient ingredient ingredient ingredient ingredient ingredient'}, {'input': '500 grams Chicken thighs 1 Onion diced 10 cloves Garlic chopped inch Ginger grated 6 Tomatoes desseded 1/3 cup Coriander (Dhania) Leaves 3 Green Chillies slit 2 teaspoon Kasuri Methi (Dried Fenugreek Leaves) 1/4 Turmeric powder (Haldi) Kashmiri Red Chilli Powder Garam masala teaspoons Sunflower Oil Salt', 'pos': 'quantity unit ingredient ingredient quantity ingredient ingredient quantity unit ingredient ingredient unit ingredient ingredient quantity ingredient ingredient quantity unit ingredient ingredient ingredient quantity ingredient ingredient ingredient quantity unit ingredient ingredient ingredient ingredient ingredient quantity ingredient ingredient ingredient ingredient ingredient ingredient ingredient ingredient ingredient unit ingredient ingredient ingredient'}, {'input': '100 grams Amla Nellikai Gooseberry 1 teaspoon Methi Seeds Fenugreek Mustard seeds oil Red Chilli powder 1/2 Asafoetida hing Salt', 'pos': 'quantity unit ingredient ingredient ingredient quantity unit ingredient ingredient ingredient ingredient ingredient ingredient ingredient ingredient ingredient quantity ingredient ingredient ingredient'}, {'input': '300 grams Brinjal chopped 200 mustard 1 onion thin and straight cut 4 cloves garlic finely inch ginger 1/2 tsp cumin red chili powder coriander garam masala mango salt 3 tbsp oil', 'pos': 'quantity unit ingredient ingredient quantity ingredient quantity ingredient ingredient ingredient ingredient ingredient quantity ingredient ingredient ingredient unit ingredient quantity unit ingredient ingredient ingredient ingredient ingredient ingredient ingredient ingredient ingredient quantity unit ingredient'}, {'input': '500 grams Colocasia root Arbi 1 Green Chilli 1/2 teaspoon Cumin powder Jeera tablespoon Coriander Powder Dhania Red Turmeric Haldi Garam masala Amchur Dry Mango Salt 2 sprig Leaves cup Whole Wheat Flour Sunflower Oil a pinch', 'pos': 'quantity unit ingredient ingredient ingredient quantity ingredient ingredient quantity unit ingredient ingredient ingredient unit ingredient ingredient ingredient ingredient ingredient ingredient ingredient ingredient ingredient ingredient ingredient ingredient quantity unit ingredient unit ingredient ingredient ingredient ingredient ingredient ingredient unit'}, {'input': '4 tomatoes 2 sprig curry leaves green chillies 1/2 tsp turmeric powder 1 coriander salt rock sugar a pinch', 'pos': 'quantity ingredient quantity unit ingredient ingredient ingredient ingredient quantity unit ingredient ingredient quantity ingredient ingredient ingredient ingredient quantity unit'}, {'input': '500 grams Gunde bird lime 1 teaspoon Methi Seeds Fenugreek 1/2 Cumin seeds Jeera Asafoetida hing Fennel Saunf Mustard Turmeric powder Haldi Red Chilli Amchur Dry Mango Powder Coriander Dhania Leaves few', 'pos': 'quantity unit ingredient ingredient ingredient quantity unit ingredient ingredient ingredient quantity ingredient ingredient ingredient ingredient ingredient ingredient ingredient ingredient ingredient ingredient ingredient ingredient ingredient ingredient ingredient ingredient ingredient ingredient ingredient ingredient ingredient'}, {'input': '200 grams Jackfruit Raw Kathal 1 Onion sliced 4 cloves Garlic chopped inch Ginger tablespoon Cumin powder Jeera teaspoon Black pepper 1/2 Cinnamon Powder Dalchini 2 Paprika Turmeric Haldi cup Rajma Large Kidney Beans soaked boiled Tomato Red Chilli Sugar 1/4 Cooked rice Dried Thyme Leaves Bell Capsicum Yellow Pepper Green Sour cream Salsa Tortillas', 'pos': 'quantity unit ingredient ingredient ingredient quantity ingredient ingredient quantity unit ingredient ingredient unit ingredient unit ingredient ingredient ingredient unit ingredient ingredient quantity ingredient ingredient ingredient quantity ingredient ingredient ingredient unit ingredient ingredient ingredient ingredient ingredient ingredient ingredient ingredient ingredient ingredient quantity ingredient ingredient ingredient ingredient ingredient ingredient ingredient ingredient ingredient ingredient ingredient ingredient ingredient ingredient'}, {'input': '1/2 cup green beans chopped steam carrots 1 cabbage steamed potatoes boiled 6 cloves garlic 2 inch ginger onion chilies cups rice wash tomato-puree curd cinnamon 4 cardamom bay leaves tsp turmeric powder red chilli Small spoon coriander salt oil cut 3 sprigs mint finely cook till it turns brown', 'pos': 'quantity unit ingredient ingredient ingredient ingredient ingredient quantity ingredient ingredient ingredient ingredient quantity unit ingredient quantity unit ingredient ingredient ingredient unit ingredient ingredient ingredient ingredient ingredient quantity ingredient ingredient ingredient unit ingredient ingredient ingredient ingredient unit unit ingredient ingredient ingredient ingredient quantity unit ingredient ingredient ingredient ingredient ingredient ingredient ingredient'}, {'input': '2 cups Whole Wheat Flour All Purpose Maida 1 cup Milk luke warm 3 teaspoons Active dry yeast tablespoons Honey 1/2 Butter softened teaspoon Salt Water Raisins 3/4 Chocolate chips dark and white 3-4 ricotta cheese or cream soft paneer Orange Zest Rind of orange Sugar to sprinkle on top', 'pos': 'quantity unit ingredient ingredient ingredient ingredient ingredient ingredient quantity unit ingredient ingredient ingredient quantity unit ingredient ingredient ingredient unit ingredient quantity ingredient ingredient unit ingredient ingredient ingredient quantity ingredient ingredient ingredient ingredient ingredient quantity ingredient ingredient ingredient ingredient ingredient ingredient ingredient ingredient ingredient ingredient ingredient ingredient ingredient ingredient ingredient ingredient'}, {'input': '10 Baby corn 3 tablespoons Whole Wheat Bread crumbs 2 Corn flour 1/2 Extra Virgin Olive Oil 1 vinegar Potato (Aloo) boiled and mashed Coriander (Dhania) Leaves chopped teaspoon Pizza seasoning Garlic paste tablespoon Red Chilli powder Green Paste Ginger Salt Sunflower for frying', 'pos': 'quantity ingredient ingredient quantity unit ingredient ingredient ingredient ingredient quantity ingredient ingredient quantity ingredient ingredient ingredient ingredient quantity ingredient ingredient ingredient ingredient ingredient ingredient ingredient ingredient ingredient ingredient unit ingredient ingredient ingredient ingredient unit ingredient ingredient ingredient ingredient ingredient ingredient ingredient ingredient ingredient ingredient'}, {'input': '1 cup Bajra Flour 1/2 Whole Wheat teaspoon Turmeric powder Black pepper inch Ginger grated Green Chilli 4 sprig Coriander Leaves Sunflower Oil', 'pos': 'quantity unit ingredient ingredient quantity ingredient ingredient unit ingredient ingredient ingredient ingredient unit ingredient ingredient ingredient ingredient quantity unit ingredient ingredient ingredient ingredient'}, {'input': '1 cup Cashew nuts Badam Almond 1 1/4 cups Sugar 1/2 Water teaspoon Cardamom Powder Ghee for greasing', 'pos': 'quantity unit ingredient ingredient ingredient ingredient quantity unit ingredient quantity ingredient unit ingredient ingredient ingredient unit ingredient'}, {'input': '400 grams Spaghetti Pasta 200 Spinach amaranth leaves 4 cloves Garlic finely chopped big size 3 tablespoons Extra Virgin Olive Oil 1/4 cup Parmesan cheese grated or powdered', 'pos': 'quantity unit ingredient ingredient quantity ingredient ingredient ingredient quantity unit ingredient ingredient ingredient ingredient ingredient quantity unit ingredient ingredient ingredient ingredient quantity unit ingredient ingredient ingredient ingredient ingredient'}, {'input': '200 grams Button mushrooms 1 Potato Aloo Onion Green Chilli inch Ginger teaspoon Sunflower Oil cup All Purpose Flour Maida', 'pos': 'quantity unit ingredient ingredient quantity ingredient ingredient ingredient ingredient ingredient unit ingredient unit ingredient ingredient unit ingredient ingredient ingredient ingredient'}, {'input': '4 Tomatoes 2 sprigs Curry leaves Green Chillies 1/2 teaspoon Turmeric powder 1 sprig Coriander Dhania pinch Sugar', 'pos': 'quantity ingredient quantity unit ingredient ingredient ingredient ingredient quantity unit ingredient ingredient quantity unit ingredient ingredient unit ingredient'}, {'input': '1 cup Whole Wheat Flour 1/2 Instant Oats Oatmeal 1/4 Extra Virgin Olive Oil teaspoon Salt Ajwain Carom seeds Water Green peas Matar Chilli sprig Coriander Dhania Leaves Amchur Dry Mango Powder Chaat Masala Red powder', 'pos': 'quantity unit ingredient ingredient ingredient quantity ingredient ingredient ingredient quantity ingredient ingredient ingredient ingredient unit ingredient ingredient ingredient ingredient ingredient ingredient ingredient ingredient ingredient unit ingredient ingredient ingredient ingredient ingredient ingredient ingredient ingredient ingredient ingredient ingredient'}, {'input': '6 Whole Wheat Brown Bread 1 cup Carrot Gajjar grated Green peas Matar boiled 5 cloves Garlic finely chopped 2 Chillies 1/2 teaspoon Black pepper powder Chaat Masala Powder 1/4 Cheese Salt', 'pos': 'quantity ingredient ingredient ingredient ingredient quantity unit ingredient ingredient ingredient ingredient ingredient ingredient ingredient quantity unit ingredient ingredient ingredient quantity ingredient quantity unit ingredient ingredient ingredient ingredient ingredient ingredient quantity ingredient ingredient'}, {'input': '20 small onions 1 tsp red chili powder turmeric mango coriander salt 6 cloves garlic finely chopped inch ginger 2 Sprig', 'pos': 'quantity ingredient ingredient quantity unit ingredient ingredient ingredient ingredient ingredient ingredient ingredient quantity ingredient ingredient ingredient ingredient unit ingredient quantity unit'}, {'input': '18 Pani Pur is 2 Potato Aloo boiled 1/4 cup Green Moong Sprouts 1 teaspoon Cumin powder Jeera Chaat Masala Powder 1/2 Red Chilli Mango Raw 10 Mint Leaves Pudina Black Salt Kala Namak pepper tablespoons Sugar', 'pos': 'quantity ingredient ingredient quantity quantity ingredient ingredient ingredient quantity unit ingredient ingredient ingredient quantity unit ingredient ingredient ingredient ingredient ingredient ingredient quantity ingredient ingredient ingredient ingredient quantity ingredient ingredient ingredient ingredient ingredient ingredient ingredient ingredient unit ingredient'}, {'input': '1 cup Quinoa 2 cups Water tablespoons Extra Virgin Olive Oil teaspoon Mustard seeds 1/2 Cumin Jeera White Urad Dal Split Chana dal Bengal Gram 6 Curry leaves Green Chillies finely chopped Shallot Tomato 4 Carrot Gajjar 1/4 Del Monte Whole Corn Kernels peas Matar beans French Beans Coriander Powder Dhania Garam masala powder Salt Leaves few', 'pos': 'quantity unit ingredient quantity unit ingredient unit ingredient ingredient ingredient ingredient unit ingredient ingredient quantity ingredient ingredient ingredient ingredient ingredient ingredient ingredient ingredient ingredient ingredient quantity ingredient ingredient ingredient ingredient ingredient ingredient ingredient ingredient quantity ingredient ingredient quantity ingredient ingredient ingredient ingredient ingredient ingredient ingredient ingredient ingredient ingredient ingredient ingredient ingredient ingredient ingredient ingredient ingredient ingredient ingredient'}, {'input': '1 cup Apricots finely chopped 3/4 Whole Wheat Flour Brown Sugar Demerara 1/2 Butter unsalted cold and cut in a small chunks teaspoon Cinnamon Powder Dalchini 4 tablespoon Pecans coarsely 1-3/4 125 grams at room temperature 1/4 Cocoa 225 Dark chocolate Coffee Decoction 2 Eggs Vanilla Extract Sour cream 1-1/2 Baking powder soda', 'pos': 'quantity unit ingredient ingredient ingredient quantity ingredient ingredient ingredient ingredient ingredient ingredient quantity ingredient ingredient ingredient ingredient ingredient ingredient ingredient ingredient ingredient unit ingredient ingredient ingredient quantity unit ingredient ingredient quantity quantity unit ingredient ingredient ingredient quantity ingredient quantity ingredient ingredient ingredient ingredient quantity ingredient ingredient ingredient ingredient ingredient quantity ingredient ingredient ingredient'}, {'input': '200 grams Basella Malabar Spinach 1 teaspoon Red Chilli powder 1/2 Turmeric Haldi Salt cup Gram flour besan Corn Cumin seeds Jeera Enos fruit salt baking for the batter Sunflower Oil frying 1/4 Water Tomato Ketchup', 'pos': 'quantity unit ingredient ingredient ingredient quantity unit ingredient ingredient ingredient quantity ingredient ingredient ingredient unit ingredient ingredient ingredient ingredient ingredient ingredient ingredient ingredient ingredient ingredient ingredient ingredient ingredient ingredient ingredient ingredient ingredient quantity ingredient ingredient ingredient'}, {'input': '500 grams Fresh Figs 1/4 cup Lemon juice 1 teaspoon zest 2 Red Chilli flakes 1/2 Honey Brown Sugar (Demerara Sugar)', 'pos': 'quantity unit ingredient ingredient quantity unit ingredient ingredient quantity unit ingredient quantity ingredient ingredient ingredient quantity ingredient ingredient ingredient ingredient ingredient'}, {'input': '1/2 cup Black Urad Dal 1-2 Green Chillies 1 inch Ginger Salt pinch Enos fruit salt 1/4 teaspoon Lemon juice 200 grams Spinach Curd Dahi Yogurt tablespoon Mustard oil Dry Red Chilli 2 Cloves Laung Cinnamon Stick Dalchini Cardamom Elaichi Pods/Seeds Bay leaf tej patta Cumin seeds Jeera Asafoetida hing Coriander Powder Dhania powder Fennel pepper freshly crushed Dill leaves', 'pos': 'quantity unit ingredient ingredient ingredient quantity ingredient ingredient quantity unit ingredient ingredient unit ingredient ingredient ingredient quantity unit ingredient ingredient quantity unit ingredient ingredient ingredient ingredient unit ingredient ingredient ingredient ingredient ingredient quantity ingredient ingredient ingredient ingredient ingredient ingredient ingredient ingredient ingredient ingredient ingredient ingredient ingredient ingredient ingredient ingredient ingredient ingredient ingredient ingredient ingredient ingredient ingredient ingredient ingredient ingredient ingredient'}, {'input': '1 cup Aam Papad pieces Mint Leaves Pudina 1/2 Coriander Dhania 2 Green Chillies tablespoon Sugar Salt Hot water cups', 'pos': 'quantity unit ingredient ingredient ingredient ingredient ingredient ingredient quantity ingredient ingredient quantity ingredient ingredient unit ingredient ingredient ingredient ingredient unit'}, {'input': '2 Carrots Gajjar diced small 10 to 12 Green beans French cut into 1 inch pieces 1/2 cup Cauliflower gobi florets Potatoes Aloo boiled Tofu Onions sliced 6 Chillies tablespoon Ginger Garlic Paste teaspoon Turmeric powder Haldi Red Chilli 3-4 Cardamom Elaichi Pods Seeds powdered Black cardamom Badi 3 Cloves Laung Coconut Yogurt optional milk thick Mint Leaves Pudina 6-8 Saffron strands Edible Silver Foil Leaf Chandi Ka Vark Pineapple few tablespoons Raisins Cashew nuts toasted Badam Almond Pistachios Garam masala Oil cold pressed 1-1/2 Poppy seeds whole 15', 'pos': 'quantity ingredient ingredient unit ingredient quantity unit quantity ingredient ingredient ingredient unit unit quantity unit ingredient quantity unit ingredient ingredient ingredient ingredient ingredient unit ingredient ingredient unit quantity ingredient unit ingredient ingredient ingredient unit ingredient ingredient ingredient ingredient ingredient quantity ingredient ingredient ingredient ingredient unit ingredient ingredient ingredient quantity ingredient ingredient ingredient ingredient ingredient ingredient ingredient ingredient ingredient ingredient quantity ingredient ingredient ingredient ingredient ingredient ingredient ingredient ingredient ingredient ingredient quantity unit ingredient ingredient ingredient unit ingredient ingredient ingredient ingredient ingredient ingredient unit unit quantity ingredient ingredient unit quantity'}, {'input': '1/4 cups Broken Wheat Dalia Godumai Rava cup Bajra seeds Jowar Seeds Chana dal Bengal Gram Dal Masoor Whole 1/2 Rice 4 cloves Garlic crushed 2 inch Ginger 2-3 Green Chilli sprigs Curry leaves Coriander Dhania Leaves 1 teaspoon Cumin powder Jeera teaspoons Red Turmeric Haldi 3 Garam masala Asafoetida hing Sunflower Oil cooking Onions finely chopped tablespoon Lemon juice Salt', 'pos': 'quantity unit ingredient ingredient ingredient ingredient ingredient unit ingredient ingredient ingredient ingredient ingredient ingredient ingredient ingredient ingredient ingredient ingredient quantity ingredient quantity unit ingredient ingredient quantity unit ingredient quantity ingredient ingredient unit ingredient ingredient ingredient ingredient ingredient quantity unit ingredient ingredient ingredient unit ingredient ingredient ingredient quantity ingredient ingredient ingredient ingredient ingredient ingredient ingredient ingredient ingredient ingredient unit ingredient ingredient ingredient'}, {'input': '1/2 cup Chana dal Bengal Gram Dal 2 Dry Red Chillies 1 teaspoon Fennel seeds Salt Sunflower Oil Onion finely chopped Tomato Green 7 cloves Garlic teaspoons Coriander Powder Chilli powder Cinnamon Stick Bay leaf Cardamom Pods Seeds sprig Curry leaves Leaves tablespoon tablespoons Fresh coconut Poppy 5 Cashew nuts Roasted Pottukadalai', 'pos': 'quantity unit ingredient ingredient ingredient ingredient ingredient quantity ingredient ingredient ingredient quantity unit ingredient ingredient ingredient ingredient ingredient ingredient ingredient ingredient ingredient ingredient quantity ingredient ingredient unit ingredient ingredient ingredient ingredient ingredient ingredient ingredient ingredient ingredient ingredient ingredient unit ingredient ingredient ingredient unit unit ingredient ingredient ingredient quantity ingredient ingredient ingredient ingredient'}, {'input': '1 cup yogurt banana fried 1/4 pomegranate teaspoon red chili powder sugar 1/2 cumin Dijon mustard salt', 'pos': 'quantity unit ingredient ingredient ingredient quantity ingredient unit ingredient ingredient ingredient ingredient quantity ingredient ingredient ingredient ingredient'}, {'input': '500 grams Baby Potatoes 1/2 teaspoon Cumin powder Jeera Black pepper Garam masala 2 teaspoons Lemon juice Sesame seeds Til 1 tablespoon Ghee or clarified butter Rock Salt cup Coriander Dhania Leaves roughly chopped inch Ginger Green Chilli', 'pos': 'quantity unit ingredient ingredient quantity unit ingredient ingredient ingredient ingredient ingredient ingredient ingredient quantity unit ingredient ingredient ingredient ingredient ingredient quantity unit ingredient ingredient ingredient ingredient ingredient ingredient unit ingredient ingredient ingredient ingredient ingredient unit ingredient ingredient ingredient'}, {'input': '4 Raw Banana par boiled and grated thick 1 teaspoon Mustard seeds 1/2 White Urad Dal (Split) sprig Curry leaves Onion finely chopped Green Chilli Ginger cup Fresh coconut tablespoon Sunflower Oil Salt', 'pos': 'quantity ingredient ingredient ingredient ingredient ingredient ingredient ingredient quantity unit ingredient ingredient quantity ingredient ingredient ingredient ingredient unit ingredient ingredient ingredient ingredient ingredient ingredient ingredient ingredient unit ingredient ingredient unit ingredient ingredient ingredient'}, {'input': '1 Potato Aloo 4 Green Chilli 50 gram Spaghetti Pasta 2 inch Ginger 10 sprigs Coriander Dhania Leaves 3/4 cup Fried Bread Cubes Croutons teaspoon Extra Virgin Olive Oil Salt and Pepper', 'pos': 'quantity ingredient ingredient quantity ingredient ingredient quantity unit ingredient ingredient quantity unit ingredient quantity unit ingredient ingredient ingredient quantity unit ingredient ingredient ingredient ingredient unit ingredient ingredient ingredient ingredient ingredient ingredient ingredient'}, {'input': '1 teaspoon cumin seeds 1/2 asafoetida onion finely chopped 2 green chillies little 1-1/2 cup gram flour coriander red chilli powder turmeric salt', 'pos': 'quantity unit ingredient ingredient quantity ingredient ingredient ingredient ingredient quantity ingredient ingredient ingredient quantity unit ingredient ingredient ingredient ingredient ingredient ingredient ingredient ingredient'}, {'input': '6 Bhindi Lady Finger Okra 2 Tomato roughly chopped Pearl onions Sambar Onions quartered 4 Garlic 1 cup Tamarind Water teaspoon Red Chilli powder 1/2 Turmeric Haldi 1/4 Asafoetida hing Coriander Powder Dhania Sugar Salt Ghee Mustard seeds Cumin Jeera Methi Seeds Fenugreek sprig Curry leaves Dry broken into half', 'pos': 'quantity ingredient ingredient ingredient ingredient quantity ingredient ingredient ingredient ingredient ingredient ingredient ingredient ingredient quantity ingredient quantity unit ingredient ingredient unit ingredient ingredient ingredient quantity ingredient ingredient quantity ingredient ingredient ingredient ingredient ingredient ingredient ingredient ingredient ingredient ingredient ingredient ingredient ingredient ingredient ingredient unit ingredient ingredient ingredient ingredient ingredient ingredient'}, {'input': '2 cups Cooked rice 1 Coriander Dhania Leaves teaspoons Whole Black Peppercorns crushed tablespoons Lemon juice Rajma Large Kidney Beans Homemade tomato puree Onion chopped 3 cloves Garlic teaspoon Cumin seeds Jeera roasted Chipotle Chillies Peppers Sunflower Oil Red Bell pepper Capsicum sliced Green Pepper Yellow Dried oregano 1/2 Chilli flakes Extra Virgin Olive Del Monte Corn Kernels fire Tomato 3/4 cup Cheddar cheese Lettuce leaves shredded 1/4 olives Guacamole recipes', 'pos': 'quantity unit ingredient ingredient quantity ingredient ingredient ingredient unit ingredient ingredient ingredient ingredient unit ingredient ingredient ingredient ingredient ingredient ingredient ingredient ingredient ingredient ingredient ingredient quantity unit ingredient unit ingredient ingredient ingredient ingredient ingredient ingredient ingredient ingredient ingredient ingredient ingredient ingredient ingredient ingredient ingredient ingredient ingredient ingredient ingredient quantity ingredient ingredient ingredient ingredient ingredient ingredient ingredient ingredient ingredient ingredient ingredient quantity unit ingredient ingredient ingredient ingredient ingredient quantity ingredient ingredient ingredient'}, {'input': '200 grams Bhindi Lady Finger Okra 1 Onion finely chopped inch Ginger grated cup Curd Dahi Yogurt 2 tablespoons Gram flour besan teaspoon Garam masala powder 1/2 Turmeric Haldi Red Chilli Salt tablespoon Caramelized onions Sunflower Oil Ghee Cumin seeds Jeera Dry Chillies Coriander Dhania Leaves a small bunch', 'pos': 'quantity unit ingredient ingredient ingredient ingredient quantity ingredient ingredient ingredient unit ingredient ingredient unit ingredient ingredient ingredient quantity unit ingredient ingredient ingredient unit ingredient ingredient ingredient quantity ingredient ingredient ingredient ingredient ingredient unit ingredient ingredient ingredient ingredient ingredient ingredient ingredient ingredient ingredient ingredient ingredient ingredient ingredient quantity ingredient ingredient'}, {'input': '200 grams cheese 50 spinach 2 green chillies 1 onion tomato cloves garlic 1/2 small Teaspoon cumin tsp red chilli powder garam masala mango tbsp butter salt oil', 'pos': 'quantity unit ingredient quantity ingredient quantity ingredient ingredient quantity ingredient ingredient unit ingredient quantity unit unit ingredient unit ingredient ingredient ingredient ingredient ingredient ingredient unit ingredient ingredient ingredient'}, {'input': '1 cup almonds 1/2 ghee 3/4 milk tablespoon wheat flour sugar 2 saffron almond silver coating', 'pos': 'quantity unit ingredient quantity ingredient quantity ingredient unit ingredient ingredient ingredient quantity ingredient ingredient ingredient ingredient'}, {'input': '1 Carrot Gajjar 1/4 cup Green beans French Beans 200 grams Tofu 1/2 Red Bell pepper Capsicum Pepper 2 inch Ginger 3 cloves Garlic Dry Chillies tablespoons Soy sauce teaspoon Chilli vinegar teaspoons Sugar 1-1/2 cups Vegetable stock Corn flour water tablespoon Sunflower Oil Salt and', 'pos': 'quantity ingredient ingredient quantity unit ingredient ingredient ingredient ingredient quantity unit ingredient quantity ingredient ingredient ingredient ingredient ingredient quantity unit ingredient quantity unit ingredient ingredient ingredient unit ingredient ingredient unit ingredient ingredient unit ingredient quantity unit ingredient ingredient ingredient ingredient ingredient unit ingredient ingredient ingredient ingredient'}, {'input': '1 cup Badam Almond 1/2 Ghee 3/4 Milk tablespoon Whole Wheat Flour Sugar 3 Saffron strands tablespoons Slivered Almonds', 'pos': 'quantity unit ingredient ingredient quantity ingredient quantity ingredient unit ingredient ingredient ingredient ingredient quantity ingredient ingredient unit ingredient ingredient'}, {'input': '1/2 cup Tender coconut water 1 Fresh cream 1/4 Sugar granulated meat Little extra Condensed Milk Honey for glazing Optional Ice cone', 'pos': 'quantity unit ingredient ingredient ingredient quantity ingredient ingredient quantity ingredient ingredient ingredient quantity ingredient ingredient ingredient ingredient quantity ingredient ingredient ingredient ingredient'}, {'input': '1 1/2 liter Milk 2 tablespoons White vinegar cup Sugar Powder Condensed 4 Cardamom Pods Seeds 3 Ghee tablespoon Pistachios chopped 1/8 teaspoon Saffron strands or Yellow food colour', 'pos': 'quantity quantity unit ingredient quantity unit ingredient ingredient unit ingredient ingredient ingredient quantity ingredient ingredient ingredient quantity ingredient unit ingredient ingredient quantity unit ingredient ingredient ingredient ingredient ingredient ingredient'}, {'input': '200 grams Curd Dahi Yogurt 1 Carrot Gajjar Orange 5 Walnuts 6 Cashew nuts Salt sugar 1/4 Cumin powder Jeera pinch Raita masala', 'pos': 'quantity unit ingredient ingredient ingredient quantity ingredient ingredient ingredient quantity ingredient quantity ingredient ingredient ingredient ingredient quantity ingredient ingredient ingredient unit ingredient ingredient'}, {'input': '150 grams Heavy whipping cream 1 tablespoon Instant Coffee Powder 200 Dark chocolate 50 Butter (unsalted) 7-8 tablespoons Cocoa', 'pos': 'quantity unit ingredient ingredient ingredient quantity unit ingredient ingredient ingredient quantity ingredient ingredient quantity ingredient ingredient quantity unit ingredient'}, {'input': '1 cup Ragi Flour Finger Millet Nagli Water Salt teaspoon Sunflower Oil Ghee Rice flour', 'pos': 'quantity unit ingredient ingredient ingredient ingredient ingredient ingredient ingredient unit ingredient ingredient ingredient ingredient ingredient'}, {'input': '3-4 cups Malabar Spinach Leaves stalks 1 cup Kaddu Parangikai Pumpkin 1/2 Mooli Mullangi Radish Potato Aloo Brinjal Baingan Eggplant teaspoon Panch Phoran Masala 2-3 Dry Red Chillies 2 tablespoons Mustard oil vegetable Cumin powder Salt Sugar Turmeric Haldi', 'pos': 'quantity unit ingredient ingredient ingredient ingredient quantity unit ingredient ingredient ingredient quantity ingredient ingredient ingredient ingredient ingredient ingredient ingredient ingredient unit ingredient ingredient ingredient quantity ingredient ingredient ingredient quantity unit ingredient ingredient ingredient ingredient ingredient ingredient ingredient ingredient ingredient'}, {'input': '5-6 Potato Aloo 1 Onion 2 cloves Garlic Whole Egg 1/4 cup yogurt All Purpose Flour Maida 1/2 Wheat Bread crumbs Parsley leaves 3-4 sprig Chives finely chopped any other herb Salt and Pepper Peanut oil for pan frying', 'pos': 'quantity ingredient ingredient quantity ingredient quantity unit ingredient ingredient ingredient quantity unit ingredient ingredient ingredient ingredient ingredient quantity ingredient ingredient ingredient ingredient ingredient quantity unit ingredient ingredient ingredient ingredient ingredient ingredient ingredient ingredient ingredient ingredient ingredient ingredient ingredient ingredient'}, {'input': '2 cups Bamboo shoots 6 Button mushrooms 4 Spring Onion Bulb Greens 1 cup Red Yellow Green Bell Peppers Capsicum tablespoon Extra Virgin Olive Oil 1-1/2 teaspoon Chilli flakes Salt', 'pos': 'quantity unit ingredient ingredient quantity ingredient ingredient quantity ingredient ingredient ingredient ingredient quantity unit ingredient ingredient ingredient ingredient ingredient ingredient unit ingredient ingredient ingredient ingredient quantity unit ingredient ingredient ingredient'}, {'input': '3 cups Red matta rice 1 Fresh coconut grated 2-1/4 Water Salt', 'pos': 'quantity unit ingredient ingredient ingredient quantity ingredient ingredient ingredient quantity ingredient ingredient'}, {'input': '1 tablespoon Sunflower Oil 3 Potato Aloo Ginger paste Green Chilli chopped 1-1/12 tablespoons Sesame seeds Til teaspoon Red powder Cumin Jeera Coriander Powder Dhania 1/2 Garam masala 2 Sweet Chutney Date Tamarind Leaves few', 'pos': 'quantity unit ingredient ingredient quantity ingredient ingredient ingredient ingredient ingredient ingredient ingredient quantity unit ingredient ingredient ingredient unit ingredient ingredient ingredient ingredient ingredient ingredient ingredient quantity ingredient ingredient quantity ingredient ingredient ingredient ingredient ingredient ingredient'}, {'input': '2 cups Idli Dosa Batter Rice parboiled 1/4 Poha Flattened rice thick 3 Buttermilk sour 1 teaspoon Cooking soda Butter loni white Beetroot peeled 5 to 7 Curry leaves 1/2 tablespoon Green Chilli Paste Salt Sesame Gingelly Oil', 'pos': 'quantity unit ingredient ingredient ingredient ingredient ingredient quantity ingredient ingredient ingredient ingredient quantity ingredient ingredient quantity unit ingredient ingredient ingredient ingredient ingredient ingredient ingredient quantity ingredient quantity ingredient ingredient quantity unit ingredient ingredient ingredient ingredient ingredient ingredient ingredient'}, {'input': '200 grams Paneer Homemade Cottage Cheese cut into 1 inch cubes 2 Green Chilli finely chopped teaspoon Ginger tablespoon Raisins 6 Cashew nuts Badam Almond Pistachios 1/4 Turmeric powder teaspoons Gram flour Cardamom Powder Sunflower Oil Bay leaf tej patta 2-3 Pods Seeds Cinnamon Stick Dalchini Cloves Laung Mace Javitri Star anise cup tomato puree 3 cloves Garlic Onion roughly Coriander Dhania 1/2 Red 10 soaked and grind to a smooth paste tablespoons Curd Dahi Yogurt Kasuri Methi Dried Fenugreek Leaves Honey Fresh cream', 'pos': 'quantity unit ingredient ingredient ingredient ingredient ingredient ingredient quantity unit ingredient quantity ingredient ingredient ingredient ingredient unit ingredient unit ingredient quantity ingredient ingredient ingredient ingredient ingredient quantity ingredient ingredient unit ingredient ingredient ingredient ingredient ingredient ingredient ingredient ingredient ingredient ingredient quantity ingredient ingredient ingredient ingredient ingredient ingredient ingredient ingredient ingredient ingredient ingredient unit ingredient ingredient quantity ingredient ingredient ingredient ingredient ingredient ingredient quantity ingredient quantity ingredient ingredient ingredient ingredient ingredient ingredient ingredient unit ingredient ingredient ingredient ingredient ingredient ingredient ingredient ingredient ingredient ingredient ingredient'}, {'input': '1 cup All Purpose Flour Maida tablespoon Sunflower Oil Cabbage Patta Gobi Muttaikose shredded 1/2 Green peas Matar 2 sprig Spring Onion Bulb Greens chopped Soy sauce Red Chilli teaspoon Honey Salt 4 Sesame Gingelly seeds Til 5 1/3 Water tablespoons Brown Sugar Demerara inch Cinnamon Stick Dalchini Star anise Ginger', 'pos': 'quantity unit ingredient ingredient ingredient ingredient unit ingredient ingredient ingredient ingredient ingredient ingredient ingredient quantity ingredient ingredient ingredient quantity unit ingredient ingredient ingredient ingredient ingredient ingredient ingredient ingredient ingredient unit ingredient ingredient quantity ingredient ingredient ingredient ingredient quantity quantity ingredient unit ingredient ingredient ingredient unit ingredient ingredient ingredient ingredient ingredient ingredient'}, {'input': '12 Baby Potatoes 1 Dry Red Chilli teaspoon Cumin seeds sprig Curry leaves Coriander Powder 1/2 Turmeric powder Garam masala Amchur Mango Lemon juice 3 tablespoons Leaves chopped', 'pos': 'quantity ingredient ingredient quantity ingredient ingredient ingredient unit ingredient ingredient unit ingredient ingredient ingredient ingredient quantity ingredient ingredient ingredient ingredient ingredient ingredient ingredient ingredient quantity unit ingredient ingredient'}, {'input': '1 cup Whole Wheat Flour 3/4 Barley Butter (unsalted) caster Sugar 4 Eggs 1-1/2 teaspoons Baking powder pinch Salt 2 Instant Coffee Powder tablespoons Lukewarm Water', 'pos': 'quantity unit ingredient ingredient ingredient quantity ingredient ingredient ingredient ingredient ingredient quantity ingredient quantity unit ingredient ingredient unit ingredient quantity ingredient ingredient ingredient unit ingredient ingredient'}, {'input': '500 grams Chicken 1 Onion Tomato 2 sprig Curry leaves tablespoon Ginger Garlic Paste 1/2 teaspoon Turmeric powder Haldi Cumin Jeera roasted Fennel Powder Coriander Dhania 2-1/2 Black pepper Salt Sunflower Oil Water Leaves', 'pos': 'quantity unit ingredient quantity ingredient ingredient quantity unit ingredient ingredient unit ingredient ingredient ingredient quantity unit ingredient ingredient ingredient ingredient ingredient ingredient ingredient ingredient ingredient ingredient quantity ingredient ingredient ingredient ingredient ingredient ingredient ingredient'}, {'input': '1/2 cup Arhar dal Split Toor Yellow Moong Dal 1 Spinach Leaves Palak Pearl onions Sambar Onions 2 Green Chillies slit teaspoon Turmeric powder Haldi Tamarind Water Salt Mustard seeds 4 cloves Garlic coarsely pound sprig Curry leaves Dry Red Sunflower Oil', 'pos': 'quantity unit ingredient ingredient ingredient ingredient ingredient ingredient ingredient quantity ingredient ingredient ingredient ingredient ingredient ingredient ingredient quantity ingredient ingredient ingredient unit ingredient ingredient ingredient ingredient ingredient ingredient ingredient ingredient quantity unit ingredient ingredient ingredient unit ingredient ingredient ingredient ingredient ingredient ingredient'}, {'input': '160 grams Dark chocolate 1 teaspoon Sprig Extract of Natural Bourbon Vanilla 3 Egg yolks whites 1/2 cup Caster Sugar Tablespoons 1/4 Fresh cream chilled and strained from water', 'pos': 'quantity unit ingredient ingredient quantity unit ingredient ingredient ingredient ingredient ingredient ingredient quantity ingredient ingredient ingredient quantity unit ingredient ingredient unit quantity ingredient ingredient ingredient ingredient ingredient ingredient ingredient'}, {'input': '1 cup tamarind paste 1/2 jaggery teaspoon rasam powder red chili tablespoon oil fenugreek seeds 10 curry leaves mustard asafoetida Pinch 4 to 5 green chillies thin and straight cut', 'pos': 'quantity unit ingredient ingredient quantity ingredient unit ingredient ingredient ingredient ingredient unit ingredient ingredient ingredient quantity ingredient ingredient ingredient ingredient unit quantity ingredient quantity ingredient ingredient ingredient ingredient ingredient unit'}, {'input': '1 tablespoon Green Coffee beans Cardamom Elaichi Pods Seeds 2.5 cups Water 1/8 teaspoon Saffron strands Rose water', 'pos': 'quantity unit ingredient ingredient ingredient ingredient ingredient ingredient ingredient quantity unit ingredient quantity unit ingredient ingredient ingredient ingredient'}, {'input': '1 cup Barley seeds Broccoli florets 1/4 Green peas Matar Sweet corn beans French Beans 1/2 Carrots Gajjar Rocket leaves 2 Tomatoes chopped Onion 4 cloves Garlic minced tablespoon Extra Virgin Olive Oil teaspoon Basil Fresh Thyme Red Chilli flakes teaspoons Corn flour Water Sour cream', 'pos': 'quantity unit ingredient ingredient ingredient ingredient quantity ingredient ingredient ingredient ingredient ingredient ingredient ingredient ingredient quantity ingredient ingredient ingredient ingredient quantity ingredient ingredient ingredient quantity unit ingredient ingredient unit ingredient ingredient ingredient ingredient unit ingredient ingredient ingredient ingredient ingredient ingredient unit ingredient ingredient ingredient ingredient ingredient'}, {'input': '1 cup Basil leaves 1/2 Mint Leaves Pudina tablespoon Spirulina Badam Almond blanched 4 cloves Garlic Tofu teaspoon Black pepper powder 2 Salt 1/4 Extra Virgin Olive Oil Pasta chopped Green zucchini diced Yellow Bell Pepper Capsicum Tomato Red Chilli flakes Dried oregano', 'pos': 'quantity unit ingredient ingredient quantity ingredient ingredient ingredient unit ingredient ingredient ingredient ingredient quantity unit ingredient ingredient unit ingredient ingredient ingredient quantity ingredient quantity ingredient ingredient ingredient ingredient ingredient ingredient ingredient ingredient ingredient ingredient ingredient ingredient ingredient ingredient ingredient ingredient ingredient ingredient ingredient'}, {'input': '1 1/2 cup Red matta rice 3 4 Basmati White Urad Dal Split Coconut milk tablespoon Sugar teaspoon Active dry yeast Salt Fresh coconut Grated Jaggery Cardamom Elaichi Pods/Seeds', 'pos': 'quantity quantity unit ingredient ingredient ingredient quantity quantity ingredient ingredient ingredient ingredient ingredient ingredient ingredient unit ingredient unit ingredient ingredient ingredient ingredient ingredient ingredient ingredient ingredient ingredient ingredient ingredient'}, {'input': '400 grams Tindora Dondakaya Kovakkai sliced roundels 2 teaspoons Sunflower Oil 1/2 Mustard seeds Dry Red Chillies sprig Curry leaves tablespoons Raw Peanuts Moongphali coarsely ground Sesame Til roasted Chilli powder 1 teaspoon Coriander Powder Dhania pinch Turmeric Haldi Salt', 'pos': 'quantity unit ingredient ingredient ingredient ingredient ingredient quantity unit ingredient ingredient quantity ingredient ingredient ingredient ingredient ingredient unit ingredient ingredient unit ingredient ingredient ingredient ingredient ingredient ingredient ingredient ingredient ingredient ingredient quantity unit ingredient ingredient ingredient unit ingredient ingredient ingredient'}, {'input': '1/2 Chicken Thighs Wings 2 Tablespoon Soy sauce 1.5 Honey Vinegar 1 teaspoon Garlic Minced Ginger Grated Sesame Gingelly Oil Olive Black pepper powder seeds Til', 'pos': 'quantity ingredient ingredient ingredient quantity unit ingredient ingredient quantity ingredient ingredient quantity unit ingredient ingredient ingredient ingredient ingredient ingredient ingredient ingredient ingredient ingredient ingredient ingredient ingredient'}, {'input': '1/2 cup Cauliflower gobi broken into small florets 1/4 Green beans French cut one-inch pieces Carrots Gajjar inch long 2 Potatoes Aloo cubes 1 Onion sliced teaspoons Sunflower Oil teaspoon Mustard seeds sprig Curry leaves Fresh coconut grated Dry Red Chillies Cumin Jeera Fennel Saunf', 'pos': 'quantity unit ingredient ingredient ingredient ingredient ingredient ingredient quantity ingredient ingredient ingredient ingredient ingredient ingredient ingredient ingredient ingredient ingredient quantity ingredient ingredient ingredient quantity ingredient ingredient unit ingredient ingredient unit ingredient ingredient unit ingredient ingredient ingredient ingredient ingredient ingredient ingredient ingredient ingredient ingredient ingredient ingredient'}, {'input': '300 ml Pomegranate juice freshly squeezed 1/4 cup Fresh orange 1 2 Lemon 10 to 12 Ice cubes Fruit Kernels for garnish Salt rimming the glass Margarita 400 1/3 Tequila 1/8 Triple sec', 'pos': 'quantity unit ingredient ingredient ingredient ingredient quantity unit ingredient ingredient quantity quantity ingredient quantity quantity quantity ingredient ingredient ingredient ingredient ingredient ingredient ingredient ingredient ingredient ingredient ingredient quantity quantity ingredient quantity ingredient ingredient'}, {'input': '2 cups Brown Rice 80 grams Rolled Oats Or Instant 3 Whole Eggs Spring Onion Greens finely chopped Carrots Gajjar 12 Green beans French Beans 1 cup Cabbage Patta Gobi Muttaikose teaspoon Sunflower Oil Salt and Pepper', 'pos': 'quantity unit ingredient ingredient quantity unit ingredient ingredient ingredient ingredient quantity ingredient ingredient ingredient ingredient ingredient ingredient ingredient ingredient ingredient quantity ingredient ingredient ingredient ingredient quantity unit ingredient ingredient ingredient ingredient unit ingredient ingredient ingredient ingredient ingredient'}, {'input': '1 cup green peas gram flour 1/2 cheese tsp ginger 2 chillies turmeric powder cumin teaspoon salt oil', 'pos': 'quantity unit ingredient ingredient ingredient ingredient quantity ingredient unit ingredient quantity ingredient ingredient ingredient ingredient unit ingredient ingredient'}, {'input': '4 Phulka 2 cup Potato Aloo mashed 2-3 Green Chillies finely chopped 1 Carrot Gajjar grated 1/2 Sweet corn Onion teaspoon Red Chilli powder tablespoon Amchur Dry Mango Powder Black pepper flakes Lemon juice Whole Wheat Bread crumbs Corn flour', 'pos': 'quantity ingredient quantity unit ingredient ingredient ingredient quantity ingredient ingredient ingredient ingredient quantity ingredient ingredient ingredient quantity ingredient ingredient ingredient unit ingredient ingredient ingredient unit ingredient ingredient ingredient ingredient ingredient ingredient ingredient ingredient ingredient ingredient ingredient ingredient ingredient ingredient ingredient'}, {'input': '3 Oranges 2 tablespoons Orange Zest Sugar 6 Whole Eggs 175 grams Caster 150 Almond Meal Badam Powder 100 Hazelnut 1 teaspoon Baking powder 200 Britannia Cream Cheese Heavy whipping cream Fresh orange juice 75 Icing', 'pos': 'quantity ingredient quantity unit ingredient ingredient ingredient quantity ingredient ingredient quantity unit ingredient quantity ingredient ingredient ingredient ingredient quantity ingredient quantity unit ingredient ingredient quantity ingredient ingredient ingredient ingredient ingredient ingredient ingredient ingredient ingredient quantity ingredient'}, {'input': '1 tablespoon Sunflower Oil teaspoon Ginger grated Green Chilli finely chopped Onion Tomato 1/4 Turmeric powder Haldi Red 2 cups Paneer Homemade Cottage Cheese crumpled Coriander Dhania Leaves 4 Pav buns roasted in butter', 'pos': 'quantity unit ingredient ingredient unit ingredient ingredient ingredient ingredient ingredient ingredient ingredient ingredient quantity ingredient ingredient ingredient ingredient quantity unit ingredient ingredient ingredient ingredient ingredient ingredient ingredient ingredient quantity ingredient ingredient ingredient ingredient ingredient'}, {'input': '15  Baby corn cut into length wise 250 grams Tofu or paneer 1/2 cup Water 1/4 Corn flour Rice 1 Red Yellow and Green Bell Peppers Capsicum sliced 2 teaspoon Light soy sauce Garlic paste 1.5 Fresh Chilli Vinegar Honey Salt tablespoon Sunflower Oil Onion minced 1/3 Raw Peanuts Moongphali salted powdered 1-1/4 orange juice 1-1/2 tablespoons Orange marmalade jam Paprika powder Spring Bulb Greens finely chopped teaspoons Sesame seeds Til roasted', 'pos': 'quantity ingredient ingredient unit ingredient ingredient ingredient quantity unit ingredient ingredient ingredient quantity unit ingredient quantity ingredient ingredient ingredient quantity ingredient ingredient ingredient ingredient ingredient ingredient ingredient ingredient quantity unit ingredient ingredient ingredient ingredient ingredient quantity ingredient ingredient ingredient ingredient ingredient unit ingredient ingredient ingredient ingredient quantity ingredient ingredient ingredient ingredient ingredient quantity ingredient ingredient quantity unit ingredient ingredient ingredient ingredient ingredient ingredient ingredient ingredient ingredient ingredient unit ingredient ingredient ingredient ingredient'}, {'input': '4 cups Papaya peeled grated 1 cup Carrot Gajjar 1/2 Sugar 3/4 Milk teaspoon Cardamom Powder Elaichi 2 Saffron strands tablespoons Badam Almond 1/4 Ghee', 'pos': 'quantity unit ingredient ingredient ingredient quantity unit ingredient ingredient quantity ingredient quantity ingredient unit ingredient ingredient ingredient quantity ingredient ingredient unit ingredient ingredient quantity ingredient'}, {'input': '1/4 cup lentils green peas 1 onion finely chopped tomato 1/2 inch ginger grated 2 cloves garlic chillies Cut teaspoon turmeric powder salt mustard fenugreek seeds cumin aniseed Kalonji garam masala teaspoons oil asafetida a pinch', 'pos': 'quantity unit ingredient ingredient ingredient quantity ingredient ingredient ingredient ingredient quantity unit ingredient ingredient quantity unit ingredient ingredient ingredient unit ingredient ingredient ingredient ingredient ingredient ingredient ingredient ingredient ingredient ingredient ingredient unit ingredient ingredient ingredient ingredient'}, {'input': '1/2 cup Jowar Flour Sorghum Bajra Pearl Millet 3/4 Whole Wheat 1 Sunflower Oil Homemade Hummus tablespoon Butter Broccoli cut into small florets Cherry tomatoes slit half Onion sliced 4 cloves Garlic finely chopped teaspoon Sugar Black pepper powder Cumin Jeera', 'pos': 'quantity unit ingredient ingredient ingredient ingredient ingredient ingredient quantity ingredient ingredient quantity ingredient ingredient ingredient ingredient unit ingredient ingredient ingredient ingredient ingredient ingredient ingredient ingredient ingredient ingredient ingredient ingredient quantity unit ingredient ingredient ingredient unit ingredient ingredient ingredient ingredient ingredient ingredient'}, {'input': '1/2 cup Gram flour besan 2 tablespoon Rice 1/4 Green Moong Sprouts 1 Onion Coriander Dhania Leaves Chillies teaspoon Ginger grated Powder Garam masala powder Lemon juice Salt Red Chilli Sunflower Oil to deep fry', 'pos': 'quantity unit ingredient ingredient ingredient quantity unit ingredient quantity ingredient ingredient ingredient quantity ingredient ingredient ingredient ingredient ingredient unit ingredient ingredient ingredient ingredient ingredient ingredient ingredient ingredient ingredient ingredient ingredient ingredient ingredient quantity ingredient ingredient'}, {'input': '1 cup Black Eyed Beans Lobia Onion chopped 3 cloves Garlic minced Red Yellow Green Bell Pepper Capsicum finely 2 Tomatoes blanched inch Ginger julienned tablespoon Extra Virgin Olive Oil teaspoon Cumin powder Jeera Chilli or red chilli flakes 4 sprig Coriander Dhania Leaves Lemon juice adjustable', 'pos': 'quantity unit ingredient ingredient ingredient ingredient ingredient ingredient quantity unit ingredient ingredient ingredient ingredient ingredient ingredient ingredient ingredient ingredient quantity ingredient ingredient unit ingredient unit unit ingredient ingredient ingredient ingredient unit ingredient ingredient ingredient ingredient ingredient ingredient ingredient ingredient quantity unit ingredient ingredient ingredient ingredient ingredient ingredient'}, {'input': '250 grams Gawar Phali Ajwain SSP Asafoetida Onion Tomatoes cloves Garlic Ginger Turmeric Red Chilli Coriander Powder Jaggery Raw Peanuts Salt Water Mustard oil Leaves', 'pos': 'quantity unit ingredient ingredient ingredient ingredient ingredient ingredient ingredient quantity ingredient ingredient ingredient ingredient ingredient ingredient ingredient ingredient ingredient ingredient ingredient ingredient ingredient ingredient ingredient'}, {'input': '2 cups All Purpose Flour Maida 1/4 Ghee melted teaspoon Ajwain Carom seeds Green Peas Matar 1 cup Sweet corn Chillies finely chopped inch Ginger grated teaspoons Fennel Saunf Garam masala powder 1/2 Chaat Masala Powder Coriander Dhania Leaves small bunch', 'pos': 'quantity unit ingredient ingredient ingredient ingredient quantity ingredient ingredient unit ingredient ingredient ingredient ingredient ingredient ingredient quantity unit ingredient ingredient ingredient ingredient ingredient unit ingredient ingredient unit ingredient ingredient ingredient ingredient ingredient quantity ingredient ingredient ingredient ingredient ingredient ingredient ingredient ingredient'}, {'input': '2 Onions cut into thin rings 1 Lemon juice extracted Black Salt Kala Namak 1/2 teaspoon Red Chilli powder Chaat Masala Powder', 'pos': 'quantity ingredient ingredient ingredient ingredient ingredient quantity ingredient ingredient ingredient ingredient ingredient ingredient ingredient quantity unit ingredient ingredient ingredient ingredient ingredient ingredient'}, {'input': '1 kg Boneless chicken cut into bite sized pieces 2 teaspoon Red Chilli powder Coriander Powder (Dhania) 1/2 Turmeric (Haldi) Garam masala tablespoon Ginger Garlic Paste cup Leaves chopped Salt cups Corn flakes made to a coarse Whole Eggs beaten Sunflower Oil fry', 'pos': 'quantity unit ingredient ingredient ingredient ingredient ingredient ingredient ingredient quantity unit ingredient ingredient ingredient ingredient ingredient ingredient quantity ingredient ingredient ingredient ingredient unit ingredient ingredient ingredient unit ingredient ingredient ingredient unit ingredient ingredient ingredient ingredient ingredient ingredient ingredient ingredient ingredient ingredient ingredient ingredient'}, {'input': '300 grams Tofu crumbled 1 Onion chopped Red Bell pepper Capsicum Tomato Green Chilli teaspoon Cumin seeds Jeera 2 powder Black Turmeric Haldi 4 sprig Coriander Dhania Leaves Salt Sunflower Oil', 'pos': 'quantity unit ingredient ingredient quantity ingredient ingredient ingredient ingredient ingredient ingredient ingredient ingredient ingredient unit ingredient ingredient ingredient quantity ingredient ingredient ingredient ingredient quantity unit ingredient ingredient ingredient ingredient ingredient ingredient'}, {'input': '6 Whole Wheat Brown Bread 1/2 Green zucchini 1 Carrot Gajjar Red Bell pepper Capsicum cup Spinach Leaves Palak Button mushrooms Onion 3 cloves Garlic 2 teaspoon Extra Virgin Olive Oil 4 tablespoon Dijon Mustard sprig Fresh Thyme leaves Black powder crushed or red chilli flakes cups Milk Eggs lightly whisked Cheddar cheese grated and for topping Butter greasing the baking dish Salt', 'pos': 'quantity ingredient ingredient ingredient ingredient quantity ingredient ingredient quantity ingredient ingredient ingredient ingredient ingredient ingredient unit ingredient ingredient ingredient ingredient ingredient ingredient quantity unit ingredient quantity unit ingredient ingredient ingredient ingredient quantity unit ingredient ingredient unit ingredient ingredient ingredient ingredient ingredient ingredient ingredient ingredient ingredient ingredient unit ingredient ingredient ingredient ingredient ingredient ingredient ingredient ingredient ingredient ingredient ingredient ingredient ingredient ingredient ingredient ingredient'}, {'input': '2 Mooli Mullangi Radish 200 grams Paneer Homemade Cottage Cheese 1 Green Chilli 4 cloves Garlic inch Ginger teaspoon Cumin powder Sunflower Oil Salt 1/4 Turmeric Haldi cup Whole Wheat Flour Ghee', 'pos': 'quantity ingredient ingredient ingredient quantity unit ingredient ingredient ingredient ingredient quantity ingredient ingredient quantity unit ingredient unit ingredient unit ingredient ingredient ingredient ingredient ingredient quantity ingredient ingredient unit ingredient ingredient ingredient ingredient'}, {'input': '2 cups Fresh orange juice teaspoons Ginger grated tablespoons Tea Monk Seiki Peppermint Green 4 Chilled water', 'pos': 'quantity unit ingredient ingredient ingredient unit ingredient ingredient unit ingredient ingredient ingredient ingredient ingredient quantity ingredient ingredient'}, {'input': '3 Potatoes Aloo 2 Green zucchini 1 tablespoon Red Chilli flakes Dried oregano Thyme Leaves Black pepper powder 1/4 cup Cheddar cheese grated 1/2 Whole Wheat Bread crumbs Salt', 'pos': 'quantity ingredient ingredient quantity ingredient ingredient quantity unit ingredient ingredient ingredient ingredient ingredient ingredient ingredient ingredient ingredient ingredient quantity unit ingredient ingredient ingredient quantity ingredient ingredient ingredient ingredient ingredient'}, {'input': '1 cup Pink Masoor Dal 200 grams Drumstick Leaves Moringa Murungai Keerai 1/4 teaspoon Asafoetida hing Cumin seeds Jeera inch Ginger finely chopped Dry Red Chilli Tomato Green slit 2 teaspoons Coriander Powder Dhania 1/2 Turmeric powder Haldi Salt tablespoon Ghee Lemon juice extracted', 'pos': 'quantity unit ingredient ingredient ingredient quantity unit ingredient ingredient ingredient ingredient ingredient quantity unit ingredient ingredient ingredient ingredient ingredient unit ingredient ingredient ingredient ingredient ingredient ingredient ingredient ingredient ingredient quantity unit ingredient ingredient ingredient quantity ingredient ingredient ingredient ingredient unit ingredient ingredient ingredient ingredient'}, {'input': '1/2 cup Bajra Flour Jowar Whole Wheat 2 cups Methi Leaves inch Ginger 3 Green Chillies 1 tablespoon Sesame seeds teaspoons Red Chilli powder Turmeric 1/4 teaspoon Asafoetida 5 tablespoons Curd Sugar Sunflower Oil', 'pos': 'quantity unit ingredient ingredient ingredient ingredient ingredient quantity unit ingredient ingredient unit ingredient quantity ingredient ingredient quantity unit ingredient ingredient unit ingredient ingredient ingredient ingredient quantity unit ingredient quantity unit ingredient ingredient ingredient ingredient'}]\n"
          ]
        }
      ]
    },
    {
      "cell_type": "markdown",
      "source": [
        "##### **2.1.3** **Describe the dataframe** <font color = red>[3 marks]</font> <br>\n",
        "\n",
        "Print first five rows of dataframe along with dimensions. Display the information of dataframe"
      ],
      "metadata": {
        "id": "_1VkDbev3UHP"
      }
    },
    {
      "cell_type": "code",
      "source": [
        "# display first five rows of the dataframe - df\n",
        "df = pd.DataFrame(df)\n",
        "df.head()\n"
      ],
      "metadata": {
        "id": "yZFj2skZxgpl",
        "colab": {
          "base_uri": "https://localhost:8080/",
          "height": 408
        },
        "outputId": "b8fde1dd-ba48-4cfd-e2a8-cb82ea87a4b0"
      },
      "execution_count": 7,
      "outputs": [
        {
          "output_type": "execute_result",
          "data": {
            "text/plain": [
              "                                                                                                                                                                                                                                                                                            input                                                                                                                                                                                                                                                                                                                                                                                                                                                                      pos\n",
              "0                                                                                                 6 Karela Bitter Gourd Pavakkai Salt 1 Onion 3 tablespoon Gram flour besan 2 teaspoons Turmeric powder Haldi Red Chilli Cumin seeds Jeera Coriander Powder Dhania Amchur Dry Mango Sunflower Oil                                                                                                                                         quantity ingredient ingredient ingredient ingredient ingredient quantity ingredient quantity unit ingredient ingredient ingredient quantity unit ingredient ingredient ingredient ingredient ingredient ingredient ingredient ingredient ingredient ingredient ingredient ingredient ingredient ingredient ingredient ingredient\n",
              "1                                                                                    2-1/2 cups rice cooked 3 tomatoes teaspoons BC Belle Bhat powder 1 teaspoon chickpea lentils 1/2 cumin seeds white urad dal mustard green chilli dry red 2 cashew or peanuts 1-1/2 tablespoon oil asafoetida                                                                                                                        quantity unit ingredient ingredient quantity ingredient unit ingredient ingredient ingredient ingredient quantity unit ingredient ingredient quantity ingredient ingredient ingredient ingredient ingredient ingredient ingredient ingredient ingredient ingredient quantity ingredient ingredient ingredient quantity unit ingredient ingredient\n",
              "2                                                                  1-1/2 cups Rice Vermicelli Noodles Thin 1 Onion sliced 1/2 cup Carrots Gajjar chopped 1/3 Green peas Matar 2 Chillies 1/4 teaspoon Asafoetida hing Mustard seeds White Urad Dal Split Ghee sprig Curry leaves Salt Lemon juice                                                                                       quantity unit ingredient ingredient ingredient ingredient quantity ingredient ingredient quantity unit ingredient ingredient ingredient quantity ingredient ingredient ingredient quantity ingredient quantity unit ingredient ingredient ingredient ingredient ingredient ingredient ingredient ingredient ingredient unit ingredient ingredient ingredient ingredient ingredient\n",
              "3  500 grams Chicken 2 Onion chopped 1 Tomato 4 Green Chillies slit inch Ginger finely 6 cloves Garlic 1/2 teaspoon Turmeric powder Haldi Garam masala tablespoon Sesame Gingelly Oil 1/4 Methi Seeds Fenugreek Coriander Dhania Dry Red Fennel seeds Saunf cups Sorrel Leaves Gongura picked and  quantity unit ingredient quantity ingredient ingredient quantity ingredient quantity ingredient ingredient ingredient unit ingredient ingredient quantity unit ingredient quantity unit ingredient ingredient ingredient ingredient ingredient unit ingredient ingredient ingredient quantity ingredient ingredient ingredient ingredient ingredient ingredient ingredient ingredient ingredient ingredient unit ingredient ingredient ingredient ingredient ingredient\n",
              "4                                                                                                                                                           1 tablespoon chana dal white urad 2 red chillies coriander seeds 3 inches ginger onion tomato Teaspoon mustard asafoetida sprig curry                                                                                                                                                                                                                                                                 quantity unit ingredient ingredient ingredient ingredient quantity ingredient ingredient ingredient ingredient quantity unit ingredient ingredient ingredient unit ingredient ingredient unit ingredient"
            ],
            "text/html": [
              "\n",
              "  <div id=\"df-911ce53d-282e-48a6-8306-bf227b599bfc\" class=\"colab-df-container\">\n",
              "    <div>\n",
              "<style scoped>\n",
              "    .dataframe tbody tr th:only-of-type {\n",
              "        vertical-align: middle;\n",
              "    }\n",
              "\n",
              "    .dataframe tbody tr th {\n",
              "        vertical-align: top;\n",
              "    }\n",
              "\n",
              "    .dataframe thead th {\n",
              "        text-align: right;\n",
              "    }\n",
              "</style>\n",
              "<table border=\"1\" class=\"dataframe\">\n",
              "  <thead>\n",
              "    <tr style=\"text-align: right;\">\n",
              "      <th></th>\n",
              "      <th>input</th>\n",
              "      <th>pos</th>\n",
              "    </tr>\n",
              "  </thead>\n",
              "  <tbody>\n",
              "    <tr>\n",
              "      <th>0</th>\n",
              "      <td>6 Karela Bitter Gourd Pavakkai Salt 1 Onion 3 tablespoon Gram flour besan 2 teaspoons Turmeric powder Haldi Red Chilli Cumin seeds Jeera Coriander Powder Dhania Amchur Dry Mango Sunflower Oil</td>\n",
              "      <td>quantity ingredient ingredient ingredient ingredient ingredient quantity ingredient quantity unit ingredient ingredient ingredient quantity unit ingredient ingredient ingredient ingredient ingredient ingredient ingredient ingredient ingredient ingredient ingredient ingredient ingredient ingredient ingredient ingredient</td>\n",
              "    </tr>\n",
              "    <tr>\n",
              "      <th>1</th>\n",
              "      <td>2-1/2 cups rice cooked 3 tomatoes teaspoons BC Belle Bhat powder 1 teaspoon chickpea lentils 1/2 cumin seeds white urad dal mustard green chilli dry red 2 cashew or peanuts 1-1/2 tablespoon oil asafoetida</td>\n",
              "      <td>quantity unit ingredient ingredient quantity ingredient unit ingredient ingredient ingredient ingredient quantity unit ingredient ingredient quantity ingredient ingredient ingredient ingredient ingredient ingredient ingredient ingredient ingredient ingredient quantity ingredient ingredient ingredient quantity unit ingredient ingredient</td>\n",
              "    </tr>\n",
              "    <tr>\n",
              "      <th>2</th>\n",
              "      <td>1-1/2 cups Rice Vermicelli Noodles Thin 1 Onion sliced 1/2 cup Carrots Gajjar chopped 1/3 Green peas Matar 2 Chillies 1/4 teaspoon Asafoetida hing Mustard seeds White Urad Dal Split Ghee sprig Curry leaves Salt Lemon juice</td>\n",
              "      <td>quantity unit ingredient ingredient ingredient ingredient quantity ingredient ingredient quantity unit ingredient ingredient ingredient quantity ingredient ingredient ingredient quantity ingredient quantity unit ingredient ingredient ingredient ingredient ingredient ingredient ingredient ingredient ingredient unit ingredient ingredient ingredient ingredient ingredient</td>\n",
              "    </tr>\n",
              "    <tr>\n",
              "      <th>3</th>\n",
              "      <td>500 grams Chicken 2 Onion chopped 1 Tomato 4 Green Chillies slit inch Ginger finely 6 cloves Garlic 1/2 teaspoon Turmeric powder Haldi Garam masala tablespoon Sesame Gingelly Oil 1/4 Methi Seeds Fenugreek Coriander Dhania Dry Red Fennel seeds Saunf cups Sorrel Leaves Gongura picked and</td>\n",
              "      <td>quantity unit ingredient quantity ingredient ingredient quantity ingredient quantity ingredient ingredient ingredient unit ingredient ingredient quantity unit ingredient quantity unit ingredient ingredient ingredient ingredient ingredient unit ingredient ingredient ingredient quantity ingredient ingredient ingredient ingredient ingredient ingredient ingredient ingredient ingredient ingredient unit ingredient ingredient ingredient ingredient ingredient</td>\n",
              "    </tr>\n",
              "    <tr>\n",
              "      <th>4</th>\n",
              "      <td>1 tablespoon chana dal white urad 2 red chillies coriander seeds 3 inches ginger onion tomato Teaspoon mustard asafoetida sprig curry</td>\n",
              "      <td>quantity unit ingredient ingredient ingredient ingredient quantity ingredient ingredient ingredient ingredient quantity unit ingredient ingredient ingredient unit ingredient ingredient unit ingredient</td>\n",
              "    </tr>\n",
              "  </tbody>\n",
              "</table>\n",
              "</div>\n",
              "    <div class=\"colab-df-buttons\">\n",
              "\n",
              "  <div class=\"colab-df-container\">\n",
              "    <button class=\"colab-df-convert\" onclick=\"convertToInteractive('df-911ce53d-282e-48a6-8306-bf227b599bfc')\"\n",
              "            title=\"Convert this dataframe to an interactive table.\"\n",
              "            style=\"display:none;\">\n",
              "\n",
              "  <svg xmlns=\"http://www.w3.org/2000/svg\" height=\"24px\" viewBox=\"0 -960 960 960\">\n",
              "    <path d=\"M120-120v-720h720v720H120Zm60-500h600v-160H180v160Zm220 220h160v-160H400v160Zm0 220h160v-160H400v160ZM180-400h160v-160H180v160Zm440 0h160v-160H620v160ZM180-180h160v-160H180v160Zm440 0h160v-160H620v160Z\"/>\n",
              "  </svg>\n",
              "    </button>\n",
              "\n",
              "  <style>\n",
              "    .colab-df-container {\n",
              "      display:flex;\n",
              "      gap: 12px;\n",
              "    }\n",
              "\n",
              "    .colab-df-convert {\n",
              "      background-color: #E8F0FE;\n",
              "      border: none;\n",
              "      border-radius: 50%;\n",
              "      cursor: pointer;\n",
              "      display: none;\n",
              "      fill: #1967D2;\n",
              "      height: 32px;\n",
              "      padding: 0 0 0 0;\n",
              "      width: 32px;\n",
              "    }\n",
              "\n",
              "    .colab-df-convert:hover {\n",
              "      background-color: #E2EBFA;\n",
              "      box-shadow: 0px 1px 2px rgba(60, 64, 67, 0.3), 0px 1px 3px 1px rgba(60, 64, 67, 0.15);\n",
              "      fill: #174EA6;\n",
              "    }\n",
              "\n",
              "    .colab-df-buttons div {\n",
              "      margin-bottom: 4px;\n",
              "    }\n",
              "\n",
              "    [theme=dark] .colab-df-convert {\n",
              "      background-color: #3B4455;\n",
              "      fill: #D2E3FC;\n",
              "    }\n",
              "\n",
              "    [theme=dark] .colab-df-convert:hover {\n",
              "      background-color: #434B5C;\n",
              "      box-shadow: 0px 1px 3px 1px rgba(0, 0, 0, 0.15);\n",
              "      filter: drop-shadow(0px 1px 2px rgba(0, 0, 0, 0.3));\n",
              "      fill: #FFFFFF;\n",
              "    }\n",
              "  </style>\n",
              "\n",
              "    <script>\n",
              "      const buttonEl =\n",
              "        document.querySelector('#df-911ce53d-282e-48a6-8306-bf227b599bfc button.colab-df-convert');\n",
              "      buttonEl.style.display =\n",
              "        google.colab.kernel.accessAllowed ? 'block' : 'none';\n",
              "\n",
              "      async function convertToInteractive(key) {\n",
              "        const element = document.querySelector('#df-911ce53d-282e-48a6-8306-bf227b599bfc');\n",
              "        const dataTable =\n",
              "          await google.colab.kernel.invokeFunction('convertToInteractive',\n",
              "                                                    [key], {});\n",
              "        if (!dataTable) return;\n",
              "\n",
              "        const docLinkHtml = 'Like what you see? Visit the ' +\n",
              "          '<a target=\"_blank\" href=https://colab.research.google.com/notebooks/data_table.ipynb>data table notebook</a>'\n",
              "          + ' to learn more about interactive tables.';\n",
              "        element.innerHTML = '';\n",
              "        dataTable['output_type'] = 'display_data';\n",
              "        await google.colab.output.renderOutput(dataTable, element);\n",
              "        const docLink = document.createElement('div');\n",
              "        docLink.innerHTML = docLinkHtml;\n",
              "        element.appendChild(docLink);\n",
              "      }\n",
              "    </script>\n",
              "  </div>\n",
              "\n",
              "\n",
              "    <div id=\"df-cbcdc084-9f7c-4ca2-9e40-c22dd2eb5da1\">\n",
              "      <button class=\"colab-df-quickchart\" onclick=\"quickchart('df-cbcdc084-9f7c-4ca2-9e40-c22dd2eb5da1')\"\n",
              "                title=\"Suggest charts\"\n",
              "                style=\"display:none;\">\n",
              "\n",
              "<svg xmlns=\"http://www.w3.org/2000/svg\" height=\"24px\"viewBox=\"0 0 24 24\"\n",
              "     width=\"24px\">\n",
              "    <g>\n",
              "        <path d=\"M19 3H5c-1.1 0-2 .9-2 2v14c0 1.1.9 2 2 2h14c1.1 0 2-.9 2-2V5c0-1.1-.9-2-2-2zM9 17H7v-7h2v7zm4 0h-2V7h2v10zm4 0h-2v-4h2v4z\"/>\n",
              "    </g>\n",
              "</svg>\n",
              "      </button>\n",
              "\n",
              "<style>\n",
              "  .colab-df-quickchart {\n",
              "      --bg-color: #E8F0FE;\n",
              "      --fill-color: #1967D2;\n",
              "      --hover-bg-color: #E2EBFA;\n",
              "      --hover-fill-color: #174EA6;\n",
              "      --disabled-fill-color: #AAA;\n",
              "      --disabled-bg-color: #DDD;\n",
              "  }\n",
              "\n",
              "  [theme=dark] .colab-df-quickchart {\n",
              "      --bg-color: #3B4455;\n",
              "      --fill-color: #D2E3FC;\n",
              "      --hover-bg-color: #434B5C;\n",
              "      --hover-fill-color: #FFFFFF;\n",
              "      --disabled-bg-color: #3B4455;\n",
              "      --disabled-fill-color: #666;\n",
              "  }\n",
              "\n",
              "  .colab-df-quickchart {\n",
              "    background-color: var(--bg-color);\n",
              "    border: none;\n",
              "    border-radius: 50%;\n",
              "    cursor: pointer;\n",
              "    display: none;\n",
              "    fill: var(--fill-color);\n",
              "    height: 32px;\n",
              "    padding: 0;\n",
              "    width: 32px;\n",
              "  }\n",
              "\n",
              "  .colab-df-quickchart:hover {\n",
              "    background-color: var(--hover-bg-color);\n",
              "    box-shadow: 0 1px 2px rgba(60, 64, 67, 0.3), 0 1px 3px 1px rgba(60, 64, 67, 0.15);\n",
              "    fill: var(--button-hover-fill-color);\n",
              "  }\n",
              "\n",
              "  .colab-df-quickchart-complete:disabled,\n",
              "  .colab-df-quickchart-complete:disabled:hover {\n",
              "    background-color: var(--disabled-bg-color);\n",
              "    fill: var(--disabled-fill-color);\n",
              "    box-shadow: none;\n",
              "  }\n",
              "\n",
              "  .colab-df-spinner {\n",
              "    border: 2px solid var(--fill-color);\n",
              "    border-color: transparent;\n",
              "    border-bottom-color: var(--fill-color);\n",
              "    animation:\n",
              "      spin 1s steps(1) infinite;\n",
              "  }\n",
              "\n",
              "  @keyframes spin {\n",
              "    0% {\n",
              "      border-color: transparent;\n",
              "      border-bottom-color: var(--fill-color);\n",
              "      border-left-color: var(--fill-color);\n",
              "    }\n",
              "    20% {\n",
              "      border-color: transparent;\n",
              "      border-left-color: var(--fill-color);\n",
              "      border-top-color: var(--fill-color);\n",
              "    }\n",
              "    30% {\n",
              "      border-color: transparent;\n",
              "      border-left-color: var(--fill-color);\n",
              "      border-top-color: var(--fill-color);\n",
              "      border-right-color: var(--fill-color);\n",
              "    }\n",
              "    40% {\n",
              "      border-color: transparent;\n",
              "      border-right-color: var(--fill-color);\n",
              "      border-top-color: var(--fill-color);\n",
              "    }\n",
              "    60% {\n",
              "      border-color: transparent;\n",
              "      border-right-color: var(--fill-color);\n",
              "    }\n",
              "    80% {\n",
              "      border-color: transparent;\n",
              "      border-right-color: var(--fill-color);\n",
              "      border-bottom-color: var(--fill-color);\n",
              "    }\n",
              "    90% {\n",
              "      border-color: transparent;\n",
              "      border-bottom-color: var(--fill-color);\n",
              "    }\n",
              "  }\n",
              "</style>\n",
              "\n",
              "      <script>\n",
              "        async function quickchart(key) {\n",
              "          const quickchartButtonEl =\n",
              "            document.querySelector('#' + key + ' button');\n",
              "          quickchartButtonEl.disabled = true;  // To prevent multiple clicks.\n",
              "          quickchartButtonEl.classList.add('colab-df-spinner');\n",
              "          try {\n",
              "            const charts = await google.colab.kernel.invokeFunction(\n",
              "                'suggestCharts', [key], {});\n",
              "          } catch (error) {\n",
              "            console.error('Error during call to suggestCharts:', error);\n",
              "          }\n",
              "          quickchartButtonEl.classList.remove('colab-df-spinner');\n",
              "          quickchartButtonEl.classList.add('colab-df-quickchart-complete');\n",
              "        }\n",
              "        (() => {\n",
              "          let quickchartButtonEl =\n",
              "            document.querySelector('#df-cbcdc084-9f7c-4ca2-9e40-c22dd2eb5da1 button');\n",
              "          quickchartButtonEl.style.display =\n",
              "            google.colab.kernel.accessAllowed ? 'block' : 'none';\n",
              "        })();\n",
              "      </script>\n",
              "    </div>\n",
              "\n",
              "    </div>\n",
              "  </div>\n"
            ],
            "application/vnd.google.colaboratory.intrinsic+json": {
              "type": "dataframe",
              "variable_name": "df",
              "summary": "{\n  \"name\": \"df\",\n  \"rows\": 285,\n  \"fields\": [\n    {\n      \"column\": \"input\",\n      \"properties\": {\n        \"dtype\": \"string\",\n        \"num_unique_values\": 285,\n        \"samples\": [\n          \"1 cup cabbage leaves 3/4 tomatoes 18 grams tamarind 2 tablespoons white urad dal 4 red chillies 3 cloves garlic big Spoon oil teaspoon Rye 1/2 Cumin seeds sprig Curry\",\n          \"12 Baby Potatoes 1 Dry Red Chilli teaspoon Cumin seeds sprig Curry leaves Coriander Powder 1/2 Turmeric powder Garam masala Amchur Mango Lemon juice 3 tablespoons Leaves chopped\",\n          \"2 cups Brown Rice cooked tablespoons Garlic chopped 1 Green Chilli 1/2 cup Carrots (Gajjar) beans (French Beans) Bell Pepper (Capsicum) Onion Cabbage (Patta Gobi/ Muttaikose) tablespoon Roasted tomato pasta sauce - or store bought Red teaspoon Soy Ginger freshly grated Spring Greens Salt Vinegar Extra Virgin Olive Oil as required\"\n        ],\n        \"semantic_type\": \"\",\n        \"description\": \"\"\n      }\n    },\n    {\n      \"column\": \"pos\",\n      \"properties\": {\n        \"dtype\": \"string\",\n        \"num_unique_values\": 284,\n        \"samples\": [\n          \"quantity unit ingredient ingredient quantity ingredient quantity unit ingredient quantity unit ingredient ingredient ingredient quantity ingredient ingredient quantity ingredient ingredient ingredient unit ingredient unit ingredient quantity ingredient ingredient unit ingredient\",\n          \"quantity unit ingredient ingredient quantity ingredient unit ingredient ingredient ingredient ingredient unit ingredient ingredient ingredient quantity ingredient ingredient ingredient ingredient unit quantity ingredient quantity ingredient ingredient ingredient ingredient ingredient unit\",\n          \"quantity unit ingredient ingredient ingredient unit ingredient ingredient quantity ingredient ingredient quantity unit ingredient ingredient ingredient ingredient ingredient ingredient ingredient ingredient ingredient ingredient ingredient ingredient ingredient unit ingredient ingredient ingredient ingredient ingredient ingredient ingredient ingredient ingredient unit ingredient ingredient ingredient ingredient ingredient ingredient ingredient ingredient ingredient ingredient ingredient ingredient ingredient ingredient\"\n        ],\n        \"semantic_type\": \"\",\n        \"description\": \"\"\n      }\n    }\n  ]\n}"
            }
          },
          "metadata": {},
          "execution_count": 7
        }
      ]
    },
    {
      "cell_type": "code",
      "source": [
        "# print the dimensions of dataframe - df\n",
        "df.shape\n"
      ],
      "metadata": {
        "id": "Y7cA28XSx1I1",
        "colab": {
          "base_uri": "https://localhost:8080/"
        },
        "outputId": "51ba859b-ae3f-4796-ea4d-1f7fb24a5fce"
      },
      "execution_count": 8,
      "outputs": [
        {
          "output_type": "execute_result",
          "data": {
            "text/plain": [
              "(285, 2)"
            ]
          },
          "metadata": {},
          "execution_count": 8
        }
      ]
    },
    {
      "cell_type": "code",
      "source": [
        "# print the information of the dataframe\n",
        "df.info()\n"
      ],
      "metadata": {
        "id": "Q-gsbEhJx2rm",
        "colab": {
          "base_uri": "https://localhost:8080/"
        },
        "outputId": "9b5e20d4-99fe-4bdb-e6df-cf65912d018b"
      },
      "execution_count": 9,
      "outputs": [
        {
          "output_type": "stream",
          "name": "stdout",
          "text": [
            "<class 'pandas.core.frame.DataFrame'>\n",
            "RangeIndex: 285 entries, 0 to 284\n",
            "Data columns (total 2 columns):\n",
            " #   Column  Non-Null Count  Dtype \n",
            "---  ------  --------------  ----- \n",
            " 0   input   285 non-null    object\n",
            " 1   pos     285 non-null    object\n",
            "dtypes: object(2)\n",
            "memory usage: 4.6+ KB\n"
          ]
        }
      ]
    },
    {
      "cell_type": "markdown",
      "source": [
        "#### **2.2** *Recipe Data Manipulation* <font color = red>[13 marks]</font> <br>\n",
        "Create derived metrics in dataframe and provide insights of the dataframe"
      ],
      "metadata": {
        "id": "1y18LwoqyFpk"
      }
    },
    {
      "cell_type": "markdown",
      "source": [
        "##### **2.2.1** **Create input_tokens and pos_tokens columns by splitting the input and pos from the dataframe** <font color = red>[3 marks]</font> <br>\n",
        "Split the input and pos into input_tokens and pos_tokens in the dataframe and display it in the dataframe"
      ],
      "metadata": {
        "id": "bhNG_XC1r4Qw"
      }
    },
    {
      "cell_type": "code",
      "source": [
        "# split the input and pos into input_tokens and pos_tokens in the dataframe\n",
        "\n",
        "# Tokenize 'input' and 'pos' columns\n",
        "df['input_tokens'] = df['input'].apply(lambda x: x.split())\n",
        "df['pos_tokens'] = df['pos'].apply(lambda x: x.split())\n"
      ],
      "metadata": {
        "id": "nma6uJwmXUas"
      },
      "execution_count": 10,
      "outputs": []
    },
    {
      "cell_type": "code",
      "source": [
        "# display first five rows of the dataframe - df\n",
        "df.head(5)\n"
      ],
      "metadata": {
        "id": "9g-ajvFBzaaf",
        "colab": {
          "base_uri": "https://localhost:8080/",
          "height": 697
        },
        "outputId": "c0fbd35f-4db7-49c7-bb5f-2e8371147f79"
      },
      "execution_count": 11,
      "outputs": [
        {
          "output_type": "execute_result",
          "data": {
            "text/plain": [
              "                                                                                                                                                                                                                                                                                            input                                                                                                                                                                                                                                                                                                                                                                                                                                                                      pos                                                                                                                                                                                                                                                                                                                                   input_tokens                                                                                                                                                                                                                                                                                                                                                                                                                                                                                                              pos_tokens\n",
              "0                                                                                                 6 Karela Bitter Gourd Pavakkai Salt 1 Onion 3 tablespoon Gram flour besan 2 teaspoons Turmeric powder Haldi Red Chilli Cumin seeds Jeera Coriander Powder Dhania Amchur Dry Mango Sunflower Oil                                                                                                                                         quantity ingredient ingredient ingredient ingredient ingredient quantity ingredient quantity unit ingredient ingredient ingredient quantity unit ingredient ingredient ingredient ingredient ingredient ingredient ingredient ingredient ingredient ingredient ingredient ingredient ingredient ingredient ingredient ingredient                                                                                                                [6, Karela, Bitter, Gourd, Pavakkai, Salt, 1, Onion, 3, tablespoon, Gram, flour, besan, 2, teaspoons, Turmeric, powder, Haldi, Red, Chilli, Cumin, seeds, Jeera, Coriander, Powder, Dhania, Amchur, Dry, Mango, Sunflower, Oil]                                                                                                                                                        [quantity, ingredient, ingredient, ingredient, ingredient, ingredient, quantity, ingredient, quantity, unit, ingredient, ingredient, ingredient, quantity, unit, ingredient, ingredient, ingredient, ingredient, ingredient, ingredient, ingredient, ingredient, ingredient, ingredient, ingredient, ingredient, ingredient, ingredient, ingredient, ingredient]\n",
              "1                                                                                    2-1/2 cups rice cooked 3 tomatoes teaspoons BC Belle Bhat powder 1 teaspoon chickpea lentils 1/2 cumin seeds white urad dal mustard green chilli dry red 2 cashew or peanuts 1-1/2 tablespoon oil asafoetida                                                                                                                        quantity unit ingredient ingredient quantity ingredient unit ingredient ingredient ingredient ingredient quantity unit ingredient ingredient quantity ingredient ingredient ingredient ingredient ingredient ingredient ingredient ingredient ingredient ingredient quantity ingredient ingredient ingredient quantity unit ingredient ingredient                                                                                                [2-1/2, cups, rice, cooked, 3, tomatoes, teaspoons, BC, Belle, Bhat, powder, 1, teaspoon, chickpea, lentils, 1/2, cumin, seeds, white, urad, dal, mustard, green, chilli, dry, red, 2, cashew, or, peanuts, 1-1/2, tablespoon, oil, asafoetida]                                                                                                                                    [quantity, unit, ingredient, ingredient, quantity, ingredient, unit, ingredient, ingredient, ingredient, ingredient, quantity, unit, ingredient, ingredient, quantity, ingredient, ingredient, ingredient, ingredient, ingredient, ingredient, ingredient, ingredient, ingredient, ingredient, quantity, ingredient, ingredient, ingredient, quantity, unit, ingredient, ingredient]\n",
              "2                                                                  1-1/2 cups Rice Vermicelli Noodles Thin 1 Onion sliced 1/2 cup Carrots Gajjar chopped 1/3 Green peas Matar 2 Chillies 1/4 teaspoon Asafoetida hing Mustard seeds White Urad Dal Split Ghee sprig Curry leaves Salt Lemon juice                                                                                       quantity unit ingredient ingredient ingredient ingredient quantity ingredient ingredient quantity unit ingredient ingredient ingredient quantity ingredient ingredient ingredient quantity ingredient quantity unit ingredient ingredient ingredient ingredient ingredient ingredient ingredient ingredient ingredient unit ingredient ingredient ingredient ingredient ingredient                                                                           [1-1/2, cups, Rice, Vermicelli, Noodles, Thin, 1, Onion, sliced, 1/2, cup, Carrots, Gajjar, chopped, 1/3, Green, peas, Matar, 2, Chillies, 1/4, teaspoon, Asafoetida, hing, Mustard, seeds, White, Urad, Dal, Split, Ghee, sprig, Curry, leaves, Salt, Lemon, juice]                                                                                                [quantity, unit, ingredient, ingredient, ingredient, ingredient, quantity, ingredient, ingredient, quantity, unit, ingredient, ingredient, ingredient, quantity, ingredient, ingredient, ingredient, quantity, ingredient, quantity, unit, ingredient, ingredient, ingredient, ingredient, ingredient, ingredient, ingredient, ingredient, ingredient, unit, ingredient, ingredient, ingredient, ingredient, ingredient]\n",
              "3  500 grams Chicken 2 Onion chopped 1 Tomato 4 Green Chillies slit inch Ginger finely 6 cloves Garlic 1/2 teaspoon Turmeric powder Haldi Garam masala tablespoon Sesame Gingelly Oil 1/4 Methi Seeds Fenugreek Coriander Dhania Dry Red Fennel seeds Saunf cups Sorrel Leaves Gongura picked and  quantity unit ingredient quantity ingredient ingredient quantity ingredient quantity ingredient ingredient ingredient unit ingredient ingredient quantity unit ingredient quantity unit ingredient ingredient ingredient ingredient ingredient unit ingredient ingredient ingredient quantity ingredient ingredient ingredient ingredient ingredient ingredient ingredient ingredient ingredient ingredient unit ingredient ingredient ingredient ingredient ingredient  [500, grams, Chicken, 2, Onion, chopped, 1, Tomato, 4, Green, Chillies, slit, inch, Ginger, finely, 6, cloves, Garlic, 1/2, teaspoon, Turmeric, powder, Haldi, Garam, masala, tablespoon, Sesame, Gingelly, Oil, 1/4, Methi, Seeds, Fenugreek, Coriander, Dhania, Dry, Red, Fennel, seeds, Saunf, cups, Sorrel, Leaves, Gongura, picked, and]  [quantity, unit, ingredient, quantity, ingredient, ingredient, quantity, ingredient, quantity, ingredient, ingredient, ingredient, unit, ingredient, ingredient, quantity, unit, ingredient, quantity, unit, ingredient, ingredient, ingredient, ingredient, ingredient, unit, ingredient, ingredient, ingredient, quantity, ingredient, ingredient, ingredient, ingredient, ingredient, ingredient, ingredient, ingredient, ingredient, ingredient, unit, ingredient, ingredient, ingredient, ingredient, ingredient]\n",
              "4                                                                                                                                                           1 tablespoon chana dal white urad 2 red chillies coriander seeds 3 inches ginger onion tomato Teaspoon mustard asafoetida sprig curry                                                                                                                                                                                                                                                                 quantity unit ingredient ingredient ingredient ingredient quantity ingredient ingredient ingredient ingredient quantity unit ingredient ingredient ingredient unit ingredient ingredient unit ingredient                                                                                                                                                                                    [1, tablespoon, chana, dal, white, urad, 2, red, chillies, coriander, seeds, 3, inches, ginger, onion, tomato, Teaspoon, mustard, asafoetida, sprig, curry]                                                                                                                                                                                                                                                                                          [quantity, unit, ingredient, ingredient, ingredient, ingredient, quantity, ingredient, ingredient, ingredient, ingredient, quantity, unit, ingredient, ingredient, ingredient, unit, ingredient, ingredient, unit, ingredient]"
            ],
            "text/html": [
              "\n",
              "  <div id=\"df-4c51f227-2336-4062-b2b2-564efe2c7fb9\" class=\"colab-df-container\">\n",
              "    <div>\n",
              "<style scoped>\n",
              "    .dataframe tbody tr th:only-of-type {\n",
              "        vertical-align: middle;\n",
              "    }\n",
              "\n",
              "    .dataframe tbody tr th {\n",
              "        vertical-align: top;\n",
              "    }\n",
              "\n",
              "    .dataframe thead th {\n",
              "        text-align: right;\n",
              "    }\n",
              "</style>\n",
              "<table border=\"1\" class=\"dataframe\">\n",
              "  <thead>\n",
              "    <tr style=\"text-align: right;\">\n",
              "      <th></th>\n",
              "      <th>input</th>\n",
              "      <th>pos</th>\n",
              "      <th>input_tokens</th>\n",
              "      <th>pos_tokens</th>\n",
              "    </tr>\n",
              "  </thead>\n",
              "  <tbody>\n",
              "    <tr>\n",
              "      <th>0</th>\n",
              "      <td>6 Karela Bitter Gourd Pavakkai Salt 1 Onion 3 tablespoon Gram flour besan 2 teaspoons Turmeric powder Haldi Red Chilli Cumin seeds Jeera Coriander Powder Dhania Amchur Dry Mango Sunflower Oil</td>\n",
              "      <td>quantity ingredient ingredient ingredient ingredient ingredient quantity ingredient quantity unit ingredient ingredient ingredient quantity unit ingredient ingredient ingredient ingredient ingredient ingredient ingredient ingredient ingredient ingredient ingredient ingredient ingredient ingredient ingredient ingredient</td>\n",
              "      <td>[6, Karela, Bitter, Gourd, Pavakkai, Salt, 1, Onion, 3, tablespoon, Gram, flour, besan, 2, teaspoons, Turmeric, powder, Haldi, Red, Chilli, Cumin, seeds, Jeera, Coriander, Powder, Dhania, Amchur, Dry, Mango, Sunflower, Oil]</td>\n",
              "      <td>[quantity, ingredient, ingredient, ingredient, ingredient, ingredient, quantity, ingredient, quantity, unit, ingredient, ingredient, ingredient, quantity, unit, ingredient, ingredient, ingredient, ingredient, ingredient, ingredient, ingredient, ingredient, ingredient, ingredient, ingredient, ingredient, ingredient, ingredient, ingredient, ingredient]</td>\n",
              "    </tr>\n",
              "    <tr>\n",
              "      <th>1</th>\n",
              "      <td>2-1/2 cups rice cooked 3 tomatoes teaspoons BC Belle Bhat powder 1 teaspoon chickpea lentils 1/2 cumin seeds white urad dal mustard green chilli dry red 2 cashew or peanuts 1-1/2 tablespoon oil asafoetida</td>\n",
              "      <td>quantity unit ingredient ingredient quantity ingredient unit ingredient ingredient ingredient ingredient quantity unit ingredient ingredient quantity ingredient ingredient ingredient ingredient ingredient ingredient ingredient ingredient ingredient ingredient quantity ingredient ingredient ingredient quantity unit ingredient ingredient</td>\n",
              "      <td>[2-1/2, cups, rice, cooked, 3, tomatoes, teaspoons, BC, Belle, Bhat, powder, 1, teaspoon, chickpea, lentils, 1/2, cumin, seeds, white, urad, dal, mustard, green, chilli, dry, red, 2, cashew, or, peanuts, 1-1/2, tablespoon, oil, asafoetida]</td>\n",
              "      <td>[quantity, unit, ingredient, ingredient, quantity, ingredient, unit, ingredient, ingredient, ingredient, ingredient, quantity, unit, ingredient, ingredient, quantity, ingredient, ingredient, ingredient, ingredient, ingredient, ingredient, ingredient, ingredient, ingredient, ingredient, quantity, ingredient, ingredient, ingredient, quantity, unit, ingredient, ingredient]</td>\n",
              "    </tr>\n",
              "    <tr>\n",
              "      <th>2</th>\n",
              "      <td>1-1/2 cups Rice Vermicelli Noodles Thin 1 Onion sliced 1/2 cup Carrots Gajjar chopped 1/3 Green peas Matar 2 Chillies 1/4 teaspoon Asafoetida hing Mustard seeds White Urad Dal Split Ghee sprig Curry leaves Salt Lemon juice</td>\n",
              "      <td>quantity unit ingredient ingredient ingredient ingredient quantity ingredient ingredient quantity unit ingredient ingredient ingredient quantity ingredient ingredient ingredient quantity ingredient quantity unit ingredient ingredient ingredient ingredient ingredient ingredient ingredient ingredient ingredient unit ingredient ingredient ingredient ingredient ingredient</td>\n",
              "      <td>[1-1/2, cups, Rice, Vermicelli, Noodles, Thin, 1, Onion, sliced, 1/2, cup, Carrots, Gajjar, chopped, 1/3, Green, peas, Matar, 2, Chillies, 1/4, teaspoon, Asafoetida, hing, Mustard, seeds, White, Urad, Dal, Split, Ghee, sprig, Curry, leaves, Salt, Lemon, juice]</td>\n",
              "      <td>[quantity, unit, ingredient, ingredient, ingredient, ingredient, quantity, ingredient, ingredient, quantity, unit, ingredient, ingredient, ingredient, quantity, ingredient, ingredient, ingredient, quantity, ingredient, quantity, unit, ingredient, ingredient, ingredient, ingredient, ingredient, ingredient, ingredient, ingredient, ingredient, unit, ingredient, ingredient, ingredient, ingredient, ingredient]</td>\n",
              "    </tr>\n",
              "    <tr>\n",
              "      <th>3</th>\n",
              "      <td>500 grams Chicken 2 Onion chopped 1 Tomato 4 Green Chillies slit inch Ginger finely 6 cloves Garlic 1/2 teaspoon Turmeric powder Haldi Garam masala tablespoon Sesame Gingelly Oil 1/4 Methi Seeds Fenugreek Coriander Dhania Dry Red Fennel seeds Saunf cups Sorrel Leaves Gongura picked and</td>\n",
              "      <td>quantity unit ingredient quantity ingredient ingredient quantity ingredient quantity ingredient ingredient ingredient unit ingredient ingredient quantity unit ingredient quantity unit ingredient ingredient ingredient ingredient ingredient unit ingredient ingredient ingredient quantity ingredient ingredient ingredient ingredient ingredient ingredient ingredient ingredient ingredient ingredient unit ingredient ingredient ingredient ingredient ingredient</td>\n",
              "      <td>[500, grams, Chicken, 2, Onion, chopped, 1, Tomato, 4, Green, Chillies, slit, inch, Ginger, finely, 6, cloves, Garlic, 1/2, teaspoon, Turmeric, powder, Haldi, Garam, masala, tablespoon, Sesame, Gingelly, Oil, 1/4, Methi, Seeds, Fenugreek, Coriander, Dhania, Dry, Red, Fennel, seeds, Saunf, cups, Sorrel, Leaves, Gongura, picked, and]</td>\n",
              "      <td>[quantity, unit, ingredient, quantity, ingredient, ingredient, quantity, ingredient, quantity, ingredient, ingredient, ingredient, unit, ingredient, ingredient, quantity, unit, ingredient, quantity, unit, ingredient, ingredient, ingredient, ingredient, ingredient, unit, ingredient, ingredient, ingredient, quantity, ingredient, ingredient, ingredient, ingredient, ingredient, ingredient, ingredient, ingredient, ingredient, ingredient, unit, ingredient, ingredient, ingredient, ingredient, ingredient]</td>\n",
              "    </tr>\n",
              "    <tr>\n",
              "      <th>4</th>\n",
              "      <td>1 tablespoon chana dal white urad 2 red chillies coriander seeds 3 inches ginger onion tomato Teaspoon mustard asafoetida sprig curry</td>\n",
              "      <td>quantity unit ingredient ingredient ingredient ingredient quantity ingredient ingredient ingredient ingredient quantity unit ingredient ingredient ingredient unit ingredient ingredient unit ingredient</td>\n",
              "      <td>[1, tablespoon, chana, dal, white, urad, 2, red, chillies, coriander, seeds, 3, inches, ginger, onion, tomato, Teaspoon, mustard, asafoetida, sprig, curry]</td>\n",
              "      <td>[quantity, unit, ingredient, ingredient, ingredient, ingredient, quantity, ingredient, ingredient, ingredient, ingredient, quantity, unit, ingredient, ingredient, ingredient, unit, ingredient, ingredient, unit, ingredient]</td>\n",
              "    </tr>\n",
              "  </tbody>\n",
              "</table>\n",
              "</div>\n",
              "    <div class=\"colab-df-buttons\">\n",
              "\n",
              "  <div class=\"colab-df-container\">\n",
              "    <button class=\"colab-df-convert\" onclick=\"convertToInteractive('df-4c51f227-2336-4062-b2b2-564efe2c7fb9')\"\n",
              "            title=\"Convert this dataframe to an interactive table.\"\n",
              "            style=\"display:none;\">\n",
              "\n",
              "  <svg xmlns=\"http://www.w3.org/2000/svg\" height=\"24px\" viewBox=\"0 -960 960 960\">\n",
              "    <path d=\"M120-120v-720h720v720H120Zm60-500h600v-160H180v160Zm220 220h160v-160H400v160Zm0 220h160v-160H400v160ZM180-400h160v-160H180v160Zm440 0h160v-160H620v160ZM180-180h160v-160H180v160Zm440 0h160v-160H620v160Z\"/>\n",
              "  </svg>\n",
              "    </button>\n",
              "\n",
              "  <style>\n",
              "    .colab-df-container {\n",
              "      display:flex;\n",
              "      gap: 12px;\n",
              "    }\n",
              "\n",
              "    .colab-df-convert {\n",
              "      background-color: #E8F0FE;\n",
              "      border: none;\n",
              "      border-radius: 50%;\n",
              "      cursor: pointer;\n",
              "      display: none;\n",
              "      fill: #1967D2;\n",
              "      height: 32px;\n",
              "      padding: 0 0 0 0;\n",
              "      width: 32px;\n",
              "    }\n",
              "\n",
              "    .colab-df-convert:hover {\n",
              "      background-color: #E2EBFA;\n",
              "      box-shadow: 0px 1px 2px rgba(60, 64, 67, 0.3), 0px 1px 3px 1px rgba(60, 64, 67, 0.15);\n",
              "      fill: #174EA6;\n",
              "    }\n",
              "\n",
              "    .colab-df-buttons div {\n",
              "      margin-bottom: 4px;\n",
              "    }\n",
              "\n",
              "    [theme=dark] .colab-df-convert {\n",
              "      background-color: #3B4455;\n",
              "      fill: #D2E3FC;\n",
              "    }\n",
              "\n",
              "    [theme=dark] .colab-df-convert:hover {\n",
              "      background-color: #434B5C;\n",
              "      box-shadow: 0px 1px 3px 1px rgba(0, 0, 0, 0.15);\n",
              "      filter: drop-shadow(0px 1px 2px rgba(0, 0, 0, 0.3));\n",
              "      fill: #FFFFFF;\n",
              "    }\n",
              "  </style>\n",
              "\n",
              "    <script>\n",
              "      const buttonEl =\n",
              "        document.querySelector('#df-4c51f227-2336-4062-b2b2-564efe2c7fb9 button.colab-df-convert');\n",
              "      buttonEl.style.display =\n",
              "        google.colab.kernel.accessAllowed ? 'block' : 'none';\n",
              "\n",
              "      async function convertToInteractive(key) {\n",
              "        const element = document.querySelector('#df-4c51f227-2336-4062-b2b2-564efe2c7fb9');\n",
              "        const dataTable =\n",
              "          await google.colab.kernel.invokeFunction('convertToInteractive',\n",
              "                                                    [key], {});\n",
              "        if (!dataTable) return;\n",
              "\n",
              "        const docLinkHtml = 'Like what you see? Visit the ' +\n",
              "          '<a target=\"_blank\" href=https://colab.research.google.com/notebooks/data_table.ipynb>data table notebook</a>'\n",
              "          + ' to learn more about interactive tables.';\n",
              "        element.innerHTML = '';\n",
              "        dataTable['output_type'] = 'display_data';\n",
              "        await google.colab.output.renderOutput(dataTable, element);\n",
              "        const docLink = document.createElement('div');\n",
              "        docLink.innerHTML = docLinkHtml;\n",
              "        element.appendChild(docLink);\n",
              "      }\n",
              "    </script>\n",
              "  </div>\n",
              "\n",
              "\n",
              "    <div id=\"df-3cd221a4-a3bc-4c7f-9452-3d0256a72ed5\">\n",
              "      <button class=\"colab-df-quickchart\" onclick=\"quickchart('df-3cd221a4-a3bc-4c7f-9452-3d0256a72ed5')\"\n",
              "                title=\"Suggest charts\"\n",
              "                style=\"display:none;\">\n",
              "\n",
              "<svg xmlns=\"http://www.w3.org/2000/svg\" height=\"24px\"viewBox=\"0 0 24 24\"\n",
              "     width=\"24px\">\n",
              "    <g>\n",
              "        <path d=\"M19 3H5c-1.1 0-2 .9-2 2v14c0 1.1.9 2 2 2h14c1.1 0 2-.9 2-2V5c0-1.1-.9-2-2-2zM9 17H7v-7h2v7zm4 0h-2V7h2v10zm4 0h-2v-4h2v4z\"/>\n",
              "    </g>\n",
              "</svg>\n",
              "      </button>\n",
              "\n",
              "<style>\n",
              "  .colab-df-quickchart {\n",
              "      --bg-color: #E8F0FE;\n",
              "      --fill-color: #1967D2;\n",
              "      --hover-bg-color: #E2EBFA;\n",
              "      --hover-fill-color: #174EA6;\n",
              "      --disabled-fill-color: #AAA;\n",
              "      --disabled-bg-color: #DDD;\n",
              "  }\n",
              "\n",
              "  [theme=dark] .colab-df-quickchart {\n",
              "      --bg-color: #3B4455;\n",
              "      --fill-color: #D2E3FC;\n",
              "      --hover-bg-color: #434B5C;\n",
              "      --hover-fill-color: #FFFFFF;\n",
              "      --disabled-bg-color: #3B4455;\n",
              "      --disabled-fill-color: #666;\n",
              "  }\n",
              "\n",
              "  .colab-df-quickchart {\n",
              "    background-color: var(--bg-color);\n",
              "    border: none;\n",
              "    border-radius: 50%;\n",
              "    cursor: pointer;\n",
              "    display: none;\n",
              "    fill: var(--fill-color);\n",
              "    height: 32px;\n",
              "    padding: 0;\n",
              "    width: 32px;\n",
              "  }\n",
              "\n",
              "  .colab-df-quickchart:hover {\n",
              "    background-color: var(--hover-bg-color);\n",
              "    box-shadow: 0 1px 2px rgba(60, 64, 67, 0.3), 0 1px 3px 1px rgba(60, 64, 67, 0.15);\n",
              "    fill: var(--button-hover-fill-color);\n",
              "  }\n",
              "\n",
              "  .colab-df-quickchart-complete:disabled,\n",
              "  .colab-df-quickchart-complete:disabled:hover {\n",
              "    background-color: var(--disabled-bg-color);\n",
              "    fill: var(--disabled-fill-color);\n",
              "    box-shadow: none;\n",
              "  }\n",
              "\n",
              "  .colab-df-spinner {\n",
              "    border: 2px solid var(--fill-color);\n",
              "    border-color: transparent;\n",
              "    border-bottom-color: var(--fill-color);\n",
              "    animation:\n",
              "      spin 1s steps(1) infinite;\n",
              "  }\n",
              "\n",
              "  @keyframes spin {\n",
              "    0% {\n",
              "      border-color: transparent;\n",
              "      border-bottom-color: var(--fill-color);\n",
              "      border-left-color: var(--fill-color);\n",
              "    }\n",
              "    20% {\n",
              "      border-color: transparent;\n",
              "      border-left-color: var(--fill-color);\n",
              "      border-top-color: var(--fill-color);\n",
              "    }\n",
              "    30% {\n",
              "      border-color: transparent;\n",
              "      border-left-color: var(--fill-color);\n",
              "      border-top-color: var(--fill-color);\n",
              "      border-right-color: var(--fill-color);\n",
              "    }\n",
              "    40% {\n",
              "      border-color: transparent;\n",
              "      border-right-color: var(--fill-color);\n",
              "      border-top-color: var(--fill-color);\n",
              "    }\n",
              "    60% {\n",
              "      border-color: transparent;\n",
              "      border-right-color: var(--fill-color);\n",
              "    }\n",
              "    80% {\n",
              "      border-color: transparent;\n",
              "      border-right-color: var(--fill-color);\n",
              "      border-bottom-color: var(--fill-color);\n",
              "    }\n",
              "    90% {\n",
              "      border-color: transparent;\n",
              "      border-bottom-color: var(--fill-color);\n",
              "    }\n",
              "  }\n",
              "</style>\n",
              "\n",
              "      <script>\n",
              "        async function quickchart(key) {\n",
              "          const quickchartButtonEl =\n",
              "            document.querySelector('#' + key + ' button');\n",
              "          quickchartButtonEl.disabled = true;  // To prevent multiple clicks.\n",
              "          quickchartButtonEl.classList.add('colab-df-spinner');\n",
              "          try {\n",
              "            const charts = await google.colab.kernel.invokeFunction(\n",
              "                'suggestCharts', [key], {});\n",
              "          } catch (error) {\n",
              "            console.error('Error during call to suggestCharts:', error);\n",
              "          }\n",
              "          quickchartButtonEl.classList.remove('colab-df-spinner');\n",
              "          quickchartButtonEl.classList.add('colab-df-quickchart-complete');\n",
              "        }\n",
              "        (() => {\n",
              "          let quickchartButtonEl =\n",
              "            document.querySelector('#df-3cd221a4-a3bc-4c7f-9452-3d0256a72ed5 button');\n",
              "          quickchartButtonEl.style.display =\n",
              "            google.colab.kernel.accessAllowed ? 'block' : 'none';\n",
              "        })();\n",
              "      </script>\n",
              "    </div>\n",
              "\n",
              "    </div>\n",
              "  </div>\n"
            ],
            "application/vnd.google.colaboratory.intrinsic+json": {
              "type": "dataframe",
              "variable_name": "df",
              "summary": "{\n  \"name\": \"df\",\n  \"rows\": 285,\n  \"fields\": [\n    {\n      \"column\": \"input\",\n      \"properties\": {\n        \"dtype\": \"string\",\n        \"num_unique_values\": 285,\n        \"samples\": [\n          \"1 cup cabbage leaves 3/4 tomatoes 18 grams tamarind 2 tablespoons white urad dal 4 red chillies 3 cloves garlic big Spoon oil teaspoon Rye 1/2 Cumin seeds sprig Curry\",\n          \"12 Baby Potatoes 1 Dry Red Chilli teaspoon Cumin seeds sprig Curry leaves Coriander Powder 1/2 Turmeric powder Garam masala Amchur Mango Lemon juice 3 tablespoons Leaves chopped\",\n          \"2 cups Brown Rice cooked tablespoons Garlic chopped 1 Green Chilli 1/2 cup Carrots (Gajjar) beans (French Beans) Bell Pepper (Capsicum) Onion Cabbage (Patta Gobi/ Muttaikose) tablespoon Roasted tomato pasta sauce - or store bought Red teaspoon Soy Ginger freshly grated Spring Greens Salt Vinegar Extra Virgin Olive Oil as required\"\n        ],\n        \"semantic_type\": \"\",\n        \"description\": \"\"\n      }\n    },\n    {\n      \"column\": \"pos\",\n      \"properties\": {\n        \"dtype\": \"string\",\n        \"num_unique_values\": 284,\n        \"samples\": [\n          \"quantity unit ingredient ingredient quantity ingredient quantity unit ingredient quantity unit ingredient ingredient ingredient quantity ingredient ingredient quantity ingredient ingredient ingredient unit ingredient unit ingredient quantity ingredient ingredient unit ingredient\",\n          \"quantity unit ingredient ingredient quantity ingredient unit ingredient ingredient ingredient ingredient unit ingredient ingredient ingredient quantity ingredient ingredient ingredient ingredient unit quantity ingredient quantity ingredient ingredient ingredient ingredient ingredient unit\",\n          \"quantity unit ingredient ingredient ingredient unit ingredient ingredient quantity ingredient ingredient quantity unit ingredient ingredient ingredient ingredient ingredient ingredient ingredient ingredient ingredient ingredient ingredient ingredient ingredient unit ingredient ingredient ingredient ingredient ingredient ingredient ingredient ingredient ingredient unit ingredient ingredient ingredient ingredient ingredient ingredient ingredient ingredient ingredient ingredient ingredient ingredient ingredient ingredient\"\n        ],\n        \"semantic_type\": \"\",\n        \"description\": \"\"\n      }\n    },\n    {\n      \"column\": \"input_tokens\",\n      \"properties\": {\n        \"dtype\": \"object\",\n        \"semantic_type\": \"\",\n        \"description\": \"\"\n      }\n    },\n    {\n      \"column\": \"pos_tokens\",\n      \"properties\": {\n        \"dtype\": \"object\",\n        \"semantic_type\": \"\",\n        \"description\": \"\"\n      }\n    }\n  ]\n}"
            }
          },
          "metadata": {},
          "execution_count": 11
        }
      ]
    },
    {
      "cell_type": "markdown",
      "source": [
        "##### **2.2.2** **Provide the length for input_tokens and pos_tokens and validate their length** <font color = red>[2 marks]</font> <br>\n",
        "\n",
        "Create input_length and pos_length columns in the dataframe and validate both the lengths. Check for the rows that are unequal in input and pos length\n"
      ],
      "metadata": {
        "id": "-JtvsBYur-oV"
      }
    },
    {
      "cell_type": "code",
      "source": [
        "# create input_length and pos_length columns for the input_tokens and pos-tokens\n",
        "# Compute lengths of token lists\n",
        "df['input_length'] = df['input_tokens'].apply(len)\n",
        "df['pos_length'] = df['pos_tokens'].apply(len)\n",
        "\n"
      ],
      "metadata": {
        "id": "GeVRD2IK1Jrg"
      },
      "execution_count": 12,
      "outputs": []
    },
    {
      "cell_type": "code",
      "source": [
        "# check for the equality of input_length and pos_length in the dataframe\n",
        "df['lengths_match'] = df['input_length'] == df['pos_length']\n",
        "print(\"Matching rows:\", df['lengths_match'].sum())\n",
        "print(\"Mismatched rows:\", (~df['lengths_match']).sum())\n"
      ],
      "metadata": {
        "id": "BPMOlLnz1P1H",
        "colab": {
          "base_uri": "https://localhost:8080/"
        },
        "outputId": "c5e31654-aca4-4de7-c769-6d514b1f385e"
      },
      "execution_count": 13,
      "outputs": [
        {
          "output_type": "stream",
          "name": "stdout",
          "text": [
            "Matching rows: 280\n",
            "Mismatched rows: 5\n"
          ]
        }
      ]
    },
    {
      "cell_type": "markdown",
      "source": [
        "##### **2.2.3** **Define a unique_labels function and validate the labels in pos_tokens** <font color = red>[2 marks]</font> <br>\n",
        "\n",
        "Define a unique_labels function which checks for all the unique pos labels in the recipe & execute it.\n"
      ],
      "metadata": {
        "id": "dpJQu3JE_P7Z"
      }
    },
    {
      "cell_type": "code",
      "source": [
        "def unique_labels(df):\n",
        "    \"\"\"\n",
        "    Returns a set of all unique POS tags in the DataFrame.\n",
        "\n",
        "    Args:\n",
        "        df (pd.DataFrame): DataFrame containing a 'pos_tokens' column (list of POS tags).\n",
        "\n",
        "    Returns:\n",
        "        Set of unique POS tags.\n",
        "    \"\"\"\n",
        "    # Flatten the list of pos_tokens and get unique values\n",
        "    unique_pos = set(tag for tokens in df['pos_tokens'] for tag in tokens)\n",
        "    print(\"Unique POS labels in the dataset:\")\n",
        "    print(unique_pos)\n",
        "    return unique_pos\n",
        "\n",
        "unique_pos_tags = unique_labels(df)\n",
        "unique_pos_tags"
      ],
      "metadata": {
        "id": "-4aMFCxXO_GJ",
        "colab": {
          "base_uri": "https://localhost:8080/"
        },
        "outputId": "7afdc434-987c-4c1f-e4a6-676d285133a6"
      },
      "execution_count": 14,
      "outputs": [
        {
          "output_type": "stream",
          "name": "stdout",
          "text": [
            "Unique POS labels in the dataset:\n",
            "{'quantity', 'ingredient', 'unit'}\n"
          ]
        },
        {
          "output_type": "execute_result",
          "data": {
            "text/plain": [
              "{'ingredient', 'quantity', 'unit'}"
            ]
          },
          "metadata": {},
          "execution_count": 14
        }
      ]
    },
    {
      "cell_type": "markdown",
      "source": [
        "##### **2.2.3** **Provide the insights seen in the recipe data after validation** <font color = red>[1 marks]</font> <br>\n",
        "\n",
        "Provide the indexes that requires cleaning and formatting in the dataframe"
      ],
      "metadata": {
        "id": "JbriClEV9CW5"
      }
    },
    {
      "cell_type": "markdown",
      "source": [
        "\n",
        "\n",
        "```\n",
        "`# This is formatted as code`\n",
        "```\n",
        "\n",
        "<font color = red>[ The POS tags used in the dataset are: 'ingredient', 'quantity', and 'unit'.\n",
        "These tags are consistent across the dataset, which indicates a clear labeling structure.\n",
        "No unexpected POS tags were found, suggesting that the annotation schema is clean and well-defined.]</font> <br>\n"
      ],
      "metadata": {
        "id": "rrNQ4AtD9RPk"
      }
    },
    {
      "cell_type": "markdown",
      "source": [
        "##### **2.2.4** **Drop the rows that have invalid data provided in previous cell** <font color = red> [2 marks]</font> <br>"
      ],
      "metadata": {
        "id": "Qtqtij2-CD2m"
      }
    },
    {
      "cell_type": "code",
      "source": [
        "# drop the irrelevant recipe data\n",
        "# Keep only rows where lengths match\n",
        "df_cleaned = df[df['lengths_match']].reset_index(drop=True)\n",
        "df = df_cleaned\n"
      ],
      "metadata": {
        "id": "jaiy1pYWCFPA"
      },
      "execution_count": 15,
      "outputs": []
    },
    {
      "cell_type": "markdown",
      "source": [
        "##### **2.2.5** **Update the input_length & pos_length in dataframe**<font color = red> [2 marks]</font> <br>"
      ],
      "metadata": {
        "id": "_RJEStPSC9PB"
      }
    },
    {
      "cell_type": "code",
      "source": [
        "# update the input and pos length in input_length and pos_length\n",
        "# Recalculate lengths after cleaning\n",
        "df['input_length'] = df['input_tokens'].apply(len)\n",
        "df['pos_length'] = df['pos_tokens'].apply(len)\n"
      ],
      "metadata": {
        "id": "XjJd7gPI5_ca"
      },
      "execution_count": 16,
      "outputs": []
    },
    {
      "cell_type": "markdown",
      "source": [
        "##### **2.2.6** **Validate the input_length and pos_length by checking unequal rows** <font color = red> [1 marks]</font> <br>"
      ],
      "metadata": {
        "id": "qJdYJ2TEDBzd"
      }
    },
    {
      "cell_type": "code",
      "source": [
        "# validate the input length and pos length as input_length and pos_length\n",
        "# Check if input_length equals actual length of input_tokens\n",
        "input_length_valid = df['input_length'] == df['input_tokens'].apply(len)\n",
        "\n",
        "# Check if pos_length equals actual length of pos_tokens\n",
        "pos_length_valid = df['pos_length'] == df['pos_tokens'].apply(len)\n",
        "\n",
        "# Combine both validations\n",
        "lengths_valid = input_length_valid & pos_length_valid\n",
        "\n",
        "# Print result\n",
        "print(f\"All input lengths valid: {input_length_valid.all()}\")\n",
        "print(f\"All POS lengths valid: {pos_length_valid.all()}\")\n",
        "print(f\"All rows valid: {lengths_valid.all()}\")\n"
      ],
      "metadata": {
        "id": "fdSsdOPM8aXo",
        "colab": {
          "base_uri": "https://localhost:8080/"
        },
        "outputId": "565e6860-74c2-4298-c5ea-8710208d92cf"
      },
      "execution_count": 17,
      "outputs": [
        {
          "output_type": "stream",
          "name": "stdout",
          "text": [
            "All input lengths valid: True\n",
            "All POS lengths valid: True\n",
            "All rows valid: True\n"
          ]
        }
      ]
    },
    {
      "cell_type": "markdown",
      "source": [
        "## **3** Train Validation Split (70 train - 30 val) <font color = red>[6 marks]</font> <br>"
      ],
      "metadata": {
        "id": "TwKLW4em-qMu"
      }
    },
    {
      "cell_type": "markdown",
      "source": [
        "#### **3.1** *Perform train and validation split ratio* <font color = red>[6 marks]</font> <br>\n",
        "Split the dataset with the help of input_tokens and pos_tokens and make a ratio of 70:30 split for training and validation datasets."
      ],
      "metadata": {
        "id": "z_pJDTVO-71z"
      }
    },
    {
      "cell_type": "markdown",
      "source": [
        "###### **3.1.1** **Split the dataset into train_df and val_df into 70:30 ratio** <font color = red> [1 marks]</font> <br>"
      ],
      "metadata": {
        "id": "l-64gdDiIy9u"
      }
    },
    {
      "cell_type": "code",
      "source": [
        "# split the dataset into training and validation sets\n",
        "\n",
        "\n",
        "# Split the dataset (e.g., 80% training, 20% validation)\n",
        "train_df, val_df = train_test_split(df, test_size=0.2, random_state=42)\n",
        "\n",
        "# Check sizes\n",
        "print(f\"Training set size: {len(train_df)}\")\n",
        "print(f\"Validation set size: {len(val_df)}\")\n"
      ],
      "metadata": {
        "id": "W20A_-9E_WOv",
        "colab": {
          "base_uri": "https://localhost:8080/"
        },
        "outputId": "fec90899-7c52-4329-b0c0-491b2a6e2913"
      },
      "execution_count": 18,
      "outputs": [
        {
          "output_type": "stream",
          "name": "stdout",
          "text": [
            "Training set size: 224\n",
            "Validation set size: 56\n"
          ]
        }
      ]
    },
    {
      "cell_type": "markdown",
      "source": [
        "###### **3.1.2** **Print the first five rows of train_df and val_df** <font color = red> [1 marks]</font> <br>"
      ],
      "metadata": {
        "id": "PUA05_77JRAv"
      }
    },
    {
      "cell_type": "code",
      "source": [
        "# print the first five rows of train_df\n",
        "\n",
        "train_df.head(5)"
      ],
      "metadata": {
        "id": "pgMZfsbV_XhK",
        "colab": {
          "base_uri": "https://localhost:8080/",
          "height": 969
        },
        "outputId": "717acf96-f14e-4f66-9843-e1df8ac53278"
      },
      "execution_count": 19,
      "outputs": [
        {
          "output_type": "execute_result",
          "data": {
            "text/plain": [
              "                                                                                                                                                                                                                                                                                                                              input                                                                                                                                                                                                                                                                                                                                                                                                                                                                                                        pos                                                                                                                                                                                                                                                                                                                                                                     input_tokens                                                                                                                                                                                                                                                                                                                                                                                                                                                                                                                                                  pos_tokens  input_length  pos_length  lengths_match\n",
              "86                                                                                                                                                                     1/2 cup Sooji Semolina Rava teaspoon Ghee 3 cups Milk 3/4 Sugar 5 Saffron strands 1 Cardamom Elaichi Pods Seeds Cashew nuts Raisins Mixed dry fruits chopped                                                                                                                                                                                                                               quantity unit ingredient ingredient ingredient unit ingredient quantity unit ingredient quantity ingredient quantity ingredient ingredient quantity ingredient ingredient ingredient ingredient ingredient ingredient ingredient ingredient ingredient ingredient ingredient                                                                                                                                                                                         [1/2, cup, Sooji, Semolina, Rava, teaspoon, Ghee, 3, cups, Milk, 3/4, Sugar, 5, Saffron, strands, 1, Cardamom, Elaichi, Pods, Seeds, Cashew, nuts, Raisins, Mixed, dry, fruits, chopped]                                                                                                                                                                                                                                                    [quantity, unit, ingredient, ingredient, ingredient, unit, ingredient, quantity, unit, ingredient, quantity, ingredient, quantity, ingredient, ingredient, quantity, ingredient, ingredient, ingredient, ingredient, ingredient, ingredient, ingredient, ingredient, ingredient, ingredient, ingredient]            27          27           True\n",
              "137                                                                                                                                                                                                                                         50 grams Wheat Grass Powder 1/2 teaspoon Black pepper powder 1 Cumin Jeera Lemon juiced                                                                                                                                                                                                                                                                                                                                                         quantity unit ingredient ingredient ingredient quantity unit ingredient ingredient ingredient quantity ingredient ingredient ingredient ingredient                                                                                                                                                                                                                                                                          [50, grams, Wheat, Grass, Powder, 1/2, teaspoon, Black, pepper, powder, 1, Cumin, Jeera, Lemon, juiced]                                                                                                                                                                                                                                                                                                                                                                                          [quantity, unit, ingredient, ingredient, ingredient, quantity, unit, ingredient, ingredient, ingredient, quantity, ingredient, ingredient, ingredient, ingredient]            15          15           True\n",
              "184  2 cups Potatoes Aloo 1 Tomatoes finely chopped 1-1/2 tablespoon Ginger grated ground Green Chillies slit tablespoons Kasuri Methi Dried Fenugreek Leaves 1/2 teaspoon Fennel seeds Saunf Cumin Jeera Seeds Coriander Powder Dhania Red Chilli powder Turmeric Haldi Garam masala teaspoons Amchur Dry Mango Ghee Salt to taste  quantity unit ingredient ingredient quantity ingredient ingredient ingredient quantity unit ingredient ingredient ingredient ingredient ingredient ingredient unit ingredient ingredient ingredient ingredient ingredient quantity unit ingredient ingredient ingredient ingredient ingredient ingredient ingredient ingredient ingredient ingredient ingredient ingredient ingredient ingredient ingredient ingredient unit ingredient ingredient ingredient ingredient ingredient ingredient ingredient  [2, cups, Potatoes, Aloo, 1, Tomatoes, finely, chopped, 1-1/2, tablespoon, Ginger, grated, ground, Green, Chillies, slit, tablespoons, Kasuri, Methi, Dried, Fenugreek, Leaves, 1/2, teaspoon, Fennel, seeds, Saunf, Cumin, Jeera, Seeds, Coriander, Powder, Dhania, Red, Chilli, powder, Turmeric, Haldi, Garam, masala, teaspoons, Amchur, Dry, Mango, Ghee, Salt, to, taste]  [quantity, unit, ingredient, ingredient, quantity, ingredient, ingredient, ingredient, quantity, unit, ingredient, ingredient, ingredient, ingredient, ingredient, ingredient, unit, ingredient, ingredient, ingredient, ingredient, ingredient, quantity, unit, ingredient, ingredient, ingredient, ingredient, ingredient, ingredient, ingredient, ingredient, ingredient, ingredient, ingredient, ingredient, ingredient, ingredient, ingredient, ingredient, unit, ingredient, ingredient, ingredient, ingredient, ingredient, ingredient, ingredient]            48          48           True\n",
              "5                                                                           1 cup Rice 1/2 Yellow Moong Dal Mint Leaves 1/4 Coriander Dhania Green Chilli inch Ginger teaspoon Cumin seeds 5 cups Water Sunflower Oil Salt 2 tablespoons Ghee 8 Cashew nuts halved Whole Black Peppercorns sprig Curry leaves pinch Asafoetida hing                                                                                               quantity unit ingredient quantity ingredient ingredient ingredient ingredient ingredient quantity ingredient ingredient ingredient ingredient unit ingredient unit ingredient ingredient quantity unit ingredient ingredient ingredient ingredient quantity unit ingredient quantity ingredient ingredient ingredient ingredient ingredient ingredient unit ingredient ingredient unit ingredient ingredient                                                                                [1, cup, Rice, 1/2, Yellow, Moong, Dal, Mint, Leaves, 1/4, Coriander, Dhania, Green, Chilli, inch, Ginger, teaspoon, Cumin, seeds, 5, cups, Water, Sunflower, Oil, Salt, 2, tablespoons, Ghee, 8, Cashew, nuts, halved, Whole, Black, Peppercorns, sprig, Curry, leaves, pinch, Asafoetida, hing]                                                                                                      [quantity, unit, ingredient, quantity, ingredient, ingredient, ingredient, ingredient, ingredient, quantity, ingredient, ingredient, ingredient, ingredient, unit, ingredient, unit, ingredient, ingredient, quantity, unit, ingredient, ingredient, ingredient, ingredient, quantity, unit, ingredient, quantity, ingredient, ingredient, ingredient, ingredient, ingredient, ingredient, unit, ingredient, ingredient, unit, ingredient, ingredient]            41          41           True\n",
              "124                                                                                                                                      2 Sweet Potatoes medium 1 Onion 1/2 teaspoon Rasam Powder Turmeric powder Haldi a pinch Asafoetida hing Salt teaspoons Sunflower Oil Mustard seeds White Urad Dal Split sprig Curry leaves                                                                                                                                                                                                            quantity ingredient ingredient unit quantity ingredient quantity unit ingredient ingredient ingredient ingredient ingredient unit unit ingredient ingredient ingredient unit ingredient ingredient ingredient ingredient ingredient ingredient ingredient ingredient unit ingredient ingredient                                                                                                                                                        [2, Sweet, Potatoes, medium, 1, Onion, 1/2, teaspoon, Rasam, Powder, Turmeric, powder, Haldi, a, pinch, Asafoetida, hing, Salt, teaspoons, Sunflower, Oil, Mustard, seeds, White, Urad, Dal, Split, sprig, Curry, leaves]                                                                                                                                                                                                                              [quantity, ingredient, ingredient, unit, quantity, ingredient, quantity, unit, ingredient, ingredient, ingredient, ingredient, ingredient, unit, unit, ingredient, ingredient, ingredient, unit, ingredient, ingredient, ingredient, ingredient, ingredient, ingredient, ingredient, ingredient, unit, ingredient, ingredient]            30          30           True"
            ],
            "text/html": [
              "\n",
              "  <div id=\"df-65acdd0c-5600-4966-95d3-ed80350f0f22\" class=\"colab-df-container\">\n",
              "    <div>\n",
              "<style scoped>\n",
              "    .dataframe tbody tr th:only-of-type {\n",
              "        vertical-align: middle;\n",
              "    }\n",
              "\n",
              "    .dataframe tbody tr th {\n",
              "        vertical-align: top;\n",
              "    }\n",
              "\n",
              "    .dataframe thead th {\n",
              "        text-align: right;\n",
              "    }\n",
              "</style>\n",
              "<table border=\"1\" class=\"dataframe\">\n",
              "  <thead>\n",
              "    <tr style=\"text-align: right;\">\n",
              "      <th></th>\n",
              "      <th>input</th>\n",
              "      <th>pos</th>\n",
              "      <th>input_tokens</th>\n",
              "      <th>pos_tokens</th>\n",
              "      <th>input_length</th>\n",
              "      <th>pos_length</th>\n",
              "      <th>lengths_match</th>\n",
              "    </tr>\n",
              "  </thead>\n",
              "  <tbody>\n",
              "    <tr>\n",
              "      <th>86</th>\n",
              "      <td>1/2 cup Sooji Semolina Rava teaspoon Ghee 3 cups Milk 3/4 Sugar 5 Saffron strands 1 Cardamom Elaichi Pods Seeds Cashew nuts Raisins Mixed dry fruits chopped</td>\n",
              "      <td>quantity unit ingredient ingredient ingredient unit ingredient quantity unit ingredient quantity ingredient quantity ingredient ingredient quantity ingredient ingredient ingredient ingredient ingredient ingredient ingredient ingredient ingredient ingredient ingredient</td>\n",
              "      <td>[1/2, cup, Sooji, Semolina, Rava, teaspoon, Ghee, 3, cups, Milk, 3/4, Sugar, 5, Saffron, strands, 1, Cardamom, Elaichi, Pods, Seeds, Cashew, nuts, Raisins, Mixed, dry, fruits, chopped]</td>\n",
              "      <td>[quantity, unit, ingredient, ingredient, ingredient, unit, ingredient, quantity, unit, ingredient, quantity, ingredient, quantity, ingredient, ingredient, quantity, ingredient, ingredient, ingredient, ingredient, ingredient, ingredient, ingredient, ingredient, ingredient, ingredient, ingredient]</td>\n",
              "      <td>27</td>\n",
              "      <td>27</td>\n",
              "      <td>True</td>\n",
              "    </tr>\n",
              "    <tr>\n",
              "      <th>137</th>\n",
              "      <td>50 grams Wheat Grass Powder 1/2 teaspoon Black pepper powder 1 Cumin Jeera Lemon juiced</td>\n",
              "      <td>quantity unit ingredient ingredient ingredient quantity unit ingredient ingredient ingredient quantity ingredient ingredient ingredient ingredient</td>\n",
              "      <td>[50, grams, Wheat, Grass, Powder, 1/2, teaspoon, Black, pepper, powder, 1, Cumin, Jeera, Lemon, juiced]</td>\n",
              "      <td>[quantity, unit, ingredient, ingredient, ingredient, quantity, unit, ingredient, ingredient, ingredient, quantity, ingredient, ingredient, ingredient, ingredient]</td>\n",
              "      <td>15</td>\n",
              "      <td>15</td>\n",
              "      <td>True</td>\n",
              "    </tr>\n",
              "    <tr>\n",
              "      <th>184</th>\n",
              "      <td>2 cups Potatoes Aloo 1 Tomatoes finely chopped 1-1/2 tablespoon Ginger grated ground Green Chillies slit tablespoons Kasuri Methi Dried Fenugreek Leaves 1/2 teaspoon Fennel seeds Saunf Cumin Jeera Seeds Coriander Powder Dhania Red Chilli powder Turmeric Haldi Garam masala teaspoons Amchur Dry Mango Ghee Salt to taste</td>\n",
              "      <td>quantity unit ingredient ingredient quantity ingredient ingredient ingredient quantity unit ingredient ingredient ingredient ingredient ingredient ingredient unit ingredient ingredient ingredient ingredient ingredient quantity unit ingredient ingredient ingredient ingredient ingredient ingredient ingredient ingredient ingredient ingredient ingredient ingredient ingredient ingredient ingredient ingredient unit ingredient ingredient ingredient ingredient ingredient ingredient ingredient</td>\n",
              "      <td>[2, cups, Potatoes, Aloo, 1, Tomatoes, finely, chopped, 1-1/2, tablespoon, Ginger, grated, ground, Green, Chillies, slit, tablespoons, Kasuri, Methi, Dried, Fenugreek, Leaves, 1/2, teaspoon, Fennel, seeds, Saunf, Cumin, Jeera, Seeds, Coriander, Powder, Dhania, Red, Chilli, powder, Turmeric, Haldi, Garam, masala, teaspoons, Amchur, Dry, Mango, Ghee, Salt, to, taste]</td>\n",
              "      <td>[quantity, unit, ingredient, ingredient, quantity, ingredient, ingredient, ingredient, quantity, unit, ingredient, ingredient, ingredient, ingredient, ingredient, ingredient, unit, ingredient, ingredient, ingredient, ingredient, ingredient, quantity, unit, ingredient, ingredient, ingredient, ingredient, ingredient, ingredient, ingredient, ingredient, ingredient, ingredient, ingredient, ingredient, ingredient, ingredient, ingredient, ingredient, unit, ingredient, ingredient, ingredient, ingredient, ingredient, ingredient, ingredient]</td>\n",
              "      <td>48</td>\n",
              "      <td>48</td>\n",
              "      <td>True</td>\n",
              "    </tr>\n",
              "    <tr>\n",
              "      <th>5</th>\n",
              "      <td>1 cup Rice 1/2 Yellow Moong Dal Mint Leaves 1/4 Coriander Dhania Green Chilli inch Ginger teaspoon Cumin seeds 5 cups Water Sunflower Oil Salt 2 tablespoons Ghee 8 Cashew nuts halved Whole Black Peppercorns sprig Curry leaves pinch Asafoetida hing</td>\n",
              "      <td>quantity unit ingredient quantity ingredient ingredient ingredient ingredient ingredient quantity ingredient ingredient ingredient ingredient unit ingredient unit ingredient ingredient quantity unit ingredient ingredient ingredient ingredient quantity unit ingredient quantity ingredient ingredient ingredient ingredient ingredient ingredient unit ingredient ingredient unit ingredient ingredient</td>\n",
              "      <td>[1, cup, Rice, 1/2, Yellow, Moong, Dal, Mint, Leaves, 1/4, Coriander, Dhania, Green, Chilli, inch, Ginger, teaspoon, Cumin, seeds, 5, cups, Water, Sunflower, Oil, Salt, 2, tablespoons, Ghee, 8, Cashew, nuts, halved, Whole, Black, Peppercorns, sprig, Curry, leaves, pinch, Asafoetida, hing]</td>\n",
              "      <td>[quantity, unit, ingredient, quantity, ingredient, ingredient, ingredient, ingredient, ingredient, quantity, ingredient, ingredient, ingredient, ingredient, unit, ingredient, unit, ingredient, ingredient, quantity, unit, ingredient, ingredient, ingredient, ingredient, quantity, unit, ingredient, quantity, ingredient, ingredient, ingredient, ingredient, ingredient, ingredient, unit, ingredient, ingredient, unit, ingredient, ingredient]</td>\n",
              "      <td>41</td>\n",
              "      <td>41</td>\n",
              "      <td>True</td>\n",
              "    </tr>\n",
              "    <tr>\n",
              "      <th>124</th>\n",
              "      <td>2 Sweet Potatoes medium 1 Onion 1/2 teaspoon Rasam Powder Turmeric powder Haldi a pinch Asafoetida hing Salt teaspoons Sunflower Oil Mustard seeds White Urad Dal Split sprig Curry leaves</td>\n",
              "      <td>quantity ingredient ingredient unit quantity ingredient quantity unit ingredient ingredient ingredient ingredient ingredient unit unit ingredient ingredient ingredient unit ingredient ingredient ingredient ingredient ingredient ingredient ingredient ingredient unit ingredient ingredient</td>\n",
              "      <td>[2, Sweet, Potatoes, medium, 1, Onion, 1/2, teaspoon, Rasam, Powder, Turmeric, powder, Haldi, a, pinch, Asafoetida, hing, Salt, teaspoons, Sunflower, Oil, Mustard, seeds, White, Urad, Dal, Split, sprig, Curry, leaves]</td>\n",
              "      <td>[quantity, ingredient, ingredient, unit, quantity, ingredient, quantity, unit, ingredient, ingredient, ingredient, ingredient, ingredient, unit, unit, ingredient, ingredient, ingredient, unit, ingredient, ingredient, ingredient, ingredient, ingredient, ingredient, ingredient, ingredient, unit, ingredient, ingredient]</td>\n",
              "      <td>30</td>\n",
              "      <td>30</td>\n",
              "      <td>True</td>\n",
              "    </tr>\n",
              "  </tbody>\n",
              "</table>\n",
              "</div>\n",
              "    <div class=\"colab-df-buttons\">\n",
              "\n",
              "  <div class=\"colab-df-container\">\n",
              "    <button class=\"colab-df-convert\" onclick=\"convertToInteractive('df-65acdd0c-5600-4966-95d3-ed80350f0f22')\"\n",
              "            title=\"Convert this dataframe to an interactive table.\"\n",
              "            style=\"display:none;\">\n",
              "\n",
              "  <svg xmlns=\"http://www.w3.org/2000/svg\" height=\"24px\" viewBox=\"0 -960 960 960\">\n",
              "    <path d=\"M120-120v-720h720v720H120Zm60-500h600v-160H180v160Zm220 220h160v-160H400v160Zm0 220h160v-160H400v160ZM180-400h160v-160H180v160Zm440 0h160v-160H620v160ZM180-180h160v-160H180v160Zm440 0h160v-160H620v160Z\"/>\n",
              "  </svg>\n",
              "    </button>\n",
              "\n",
              "  <style>\n",
              "    .colab-df-container {\n",
              "      display:flex;\n",
              "      gap: 12px;\n",
              "    }\n",
              "\n",
              "    .colab-df-convert {\n",
              "      background-color: #E8F0FE;\n",
              "      border: none;\n",
              "      border-radius: 50%;\n",
              "      cursor: pointer;\n",
              "      display: none;\n",
              "      fill: #1967D2;\n",
              "      height: 32px;\n",
              "      padding: 0 0 0 0;\n",
              "      width: 32px;\n",
              "    }\n",
              "\n",
              "    .colab-df-convert:hover {\n",
              "      background-color: #E2EBFA;\n",
              "      box-shadow: 0px 1px 2px rgba(60, 64, 67, 0.3), 0px 1px 3px 1px rgba(60, 64, 67, 0.15);\n",
              "      fill: #174EA6;\n",
              "    }\n",
              "\n",
              "    .colab-df-buttons div {\n",
              "      margin-bottom: 4px;\n",
              "    }\n",
              "\n",
              "    [theme=dark] .colab-df-convert {\n",
              "      background-color: #3B4455;\n",
              "      fill: #D2E3FC;\n",
              "    }\n",
              "\n",
              "    [theme=dark] .colab-df-convert:hover {\n",
              "      background-color: #434B5C;\n",
              "      box-shadow: 0px 1px 3px 1px rgba(0, 0, 0, 0.15);\n",
              "      filter: drop-shadow(0px 1px 2px rgba(0, 0, 0, 0.3));\n",
              "      fill: #FFFFFF;\n",
              "    }\n",
              "  </style>\n",
              "\n",
              "    <script>\n",
              "      const buttonEl =\n",
              "        document.querySelector('#df-65acdd0c-5600-4966-95d3-ed80350f0f22 button.colab-df-convert');\n",
              "      buttonEl.style.display =\n",
              "        google.colab.kernel.accessAllowed ? 'block' : 'none';\n",
              "\n",
              "      async function convertToInteractive(key) {\n",
              "        const element = document.querySelector('#df-65acdd0c-5600-4966-95d3-ed80350f0f22');\n",
              "        const dataTable =\n",
              "          await google.colab.kernel.invokeFunction('convertToInteractive',\n",
              "                                                    [key], {});\n",
              "        if (!dataTable) return;\n",
              "\n",
              "        const docLinkHtml = 'Like what you see? Visit the ' +\n",
              "          '<a target=\"_blank\" href=https://colab.research.google.com/notebooks/data_table.ipynb>data table notebook</a>'\n",
              "          + ' to learn more about interactive tables.';\n",
              "        element.innerHTML = '';\n",
              "        dataTable['output_type'] = 'display_data';\n",
              "        await google.colab.output.renderOutput(dataTable, element);\n",
              "        const docLink = document.createElement('div');\n",
              "        docLink.innerHTML = docLinkHtml;\n",
              "        element.appendChild(docLink);\n",
              "      }\n",
              "    </script>\n",
              "  </div>\n",
              "\n",
              "\n",
              "    <div id=\"df-bdf1c4ad-e9e0-4314-8601-a2a57de976dd\">\n",
              "      <button class=\"colab-df-quickchart\" onclick=\"quickchart('df-bdf1c4ad-e9e0-4314-8601-a2a57de976dd')\"\n",
              "                title=\"Suggest charts\"\n",
              "                style=\"display:none;\">\n",
              "\n",
              "<svg xmlns=\"http://www.w3.org/2000/svg\" height=\"24px\"viewBox=\"0 0 24 24\"\n",
              "     width=\"24px\">\n",
              "    <g>\n",
              "        <path d=\"M19 3H5c-1.1 0-2 .9-2 2v14c0 1.1.9 2 2 2h14c1.1 0 2-.9 2-2V5c0-1.1-.9-2-2-2zM9 17H7v-7h2v7zm4 0h-2V7h2v10zm4 0h-2v-4h2v4z\"/>\n",
              "    </g>\n",
              "</svg>\n",
              "      </button>\n",
              "\n",
              "<style>\n",
              "  .colab-df-quickchart {\n",
              "      --bg-color: #E8F0FE;\n",
              "      --fill-color: #1967D2;\n",
              "      --hover-bg-color: #E2EBFA;\n",
              "      --hover-fill-color: #174EA6;\n",
              "      --disabled-fill-color: #AAA;\n",
              "      --disabled-bg-color: #DDD;\n",
              "  }\n",
              "\n",
              "  [theme=dark] .colab-df-quickchart {\n",
              "      --bg-color: #3B4455;\n",
              "      --fill-color: #D2E3FC;\n",
              "      --hover-bg-color: #434B5C;\n",
              "      --hover-fill-color: #FFFFFF;\n",
              "      --disabled-bg-color: #3B4455;\n",
              "      --disabled-fill-color: #666;\n",
              "  }\n",
              "\n",
              "  .colab-df-quickchart {\n",
              "    background-color: var(--bg-color);\n",
              "    border: none;\n",
              "    border-radius: 50%;\n",
              "    cursor: pointer;\n",
              "    display: none;\n",
              "    fill: var(--fill-color);\n",
              "    height: 32px;\n",
              "    padding: 0;\n",
              "    width: 32px;\n",
              "  }\n",
              "\n",
              "  .colab-df-quickchart:hover {\n",
              "    background-color: var(--hover-bg-color);\n",
              "    box-shadow: 0 1px 2px rgba(60, 64, 67, 0.3), 0 1px 3px 1px rgba(60, 64, 67, 0.15);\n",
              "    fill: var(--button-hover-fill-color);\n",
              "  }\n",
              "\n",
              "  .colab-df-quickchart-complete:disabled,\n",
              "  .colab-df-quickchart-complete:disabled:hover {\n",
              "    background-color: var(--disabled-bg-color);\n",
              "    fill: var(--disabled-fill-color);\n",
              "    box-shadow: none;\n",
              "  }\n",
              "\n",
              "  .colab-df-spinner {\n",
              "    border: 2px solid var(--fill-color);\n",
              "    border-color: transparent;\n",
              "    border-bottom-color: var(--fill-color);\n",
              "    animation:\n",
              "      spin 1s steps(1) infinite;\n",
              "  }\n",
              "\n",
              "  @keyframes spin {\n",
              "    0% {\n",
              "      border-color: transparent;\n",
              "      border-bottom-color: var(--fill-color);\n",
              "      border-left-color: var(--fill-color);\n",
              "    }\n",
              "    20% {\n",
              "      border-color: transparent;\n",
              "      border-left-color: var(--fill-color);\n",
              "      border-top-color: var(--fill-color);\n",
              "    }\n",
              "    30% {\n",
              "      border-color: transparent;\n",
              "      border-left-color: var(--fill-color);\n",
              "      border-top-color: var(--fill-color);\n",
              "      border-right-color: var(--fill-color);\n",
              "    }\n",
              "    40% {\n",
              "      border-color: transparent;\n",
              "      border-right-color: var(--fill-color);\n",
              "      border-top-color: var(--fill-color);\n",
              "    }\n",
              "    60% {\n",
              "      border-color: transparent;\n",
              "      border-right-color: var(--fill-color);\n",
              "    }\n",
              "    80% {\n",
              "      border-color: transparent;\n",
              "      border-right-color: var(--fill-color);\n",
              "      border-bottom-color: var(--fill-color);\n",
              "    }\n",
              "    90% {\n",
              "      border-color: transparent;\n",
              "      border-bottom-color: var(--fill-color);\n",
              "    }\n",
              "  }\n",
              "</style>\n",
              "\n",
              "      <script>\n",
              "        async function quickchart(key) {\n",
              "          const quickchartButtonEl =\n",
              "            document.querySelector('#' + key + ' button');\n",
              "          quickchartButtonEl.disabled = true;  // To prevent multiple clicks.\n",
              "          quickchartButtonEl.classList.add('colab-df-spinner');\n",
              "          try {\n",
              "            const charts = await google.colab.kernel.invokeFunction(\n",
              "                'suggestCharts', [key], {});\n",
              "          } catch (error) {\n",
              "            console.error('Error during call to suggestCharts:', error);\n",
              "          }\n",
              "          quickchartButtonEl.classList.remove('colab-df-spinner');\n",
              "          quickchartButtonEl.classList.add('colab-df-quickchart-complete');\n",
              "        }\n",
              "        (() => {\n",
              "          let quickchartButtonEl =\n",
              "            document.querySelector('#df-bdf1c4ad-e9e0-4314-8601-a2a57de976dd button');\n",
              "          quickchartButtonEl.style.display =\n",
              "            google.colab.kernel.accessAllowed ? 'block' : 'none';\n",
              "        })();\n",
              "      </script>\n",
              "    </div>\n",
              "\n",
              "    </div>\n",
              "  </div>\n"
            ],
            "application/vnd.google.colaboratory.intrinsic+json": {
              "type": "dataframe",
              "variable_name": "train_df",
              "summary": "{\n  \"name\": \"train_df\",\n  \"rows\": 224,\n  \"fields\": [\n    {\n      \"column\": \"input\",\n      \"properties\": {\n        \"dtype\": \"string\",\n        \"num_unique_values\": 224,\n        \"samples\": [\n          \"250 grams Dry beans 1 teaspoon Extra Virgin Olive Oil Onion finely chopped clove Garlic grated 500 Tomatoes pureed tablespoon Honey Cumin powder Jeera Dried oregano 1/4 Red Chilli cayenne pepper Salt and Pepper\",\n          \"2 cups Whole Wheat Flour Salt Ghee 1 tablespoon 200 grams Paneer Homemade Cottage Cheese 1/4 Hung Curd Greek Yogurt inch Ginger 4 cloves Garlic Kasuri Methi Dried Fenugreek Leaves 1/2 teaspoon Turmeric powder Chaat Masala Powder Garam masala Mint Pudina Coal Onion Lemon juice\",\n          \"10 prawns 1 tablespoon soy sauce teaspoon sesame gingelly oil cloves garlic finely chopped 2 green chillies coriander dhania leaves 1/2 whole black peppercorns crushed sunflower salt few drops lemon juice\"\n        ],\n        \"semantic_type\": \"\",\n        \"description\": \"\"\n      }\n    },\n    {\n      \"column\": \"pos\",\n      \"properties\": {\n        \"dtype\": \"string\",\n        \"num_unique_values\": 224,\n        \"samples\": [\n          \"quantity unit ingredient ingredient quantity unit ingredient ingredient ingredient ingredient ingredient ingredient ingredient unit ingredient ingredient quantity ingredient ingredient unit ingredient ingredient ingredient ingredient ingredient ingredient quantity ingredient ingredient ingredient ingredient ingredient ingredient ingredient\",\n          \"quantity unit ingredient ingredient ingredient ingredient ingredient quantity unit quantity unit ingredient ingredient ingredient ingredient quantity ingredient ingredient ingredient ingredient unit ingredient quantity unit ingredient ingredient ingredient ingredient ingredient ingredient quantity unit ingredient ingredient ingredient ingredient ingredient ingredient ingredient ingredient ingredient ingredient ingredient ingredient ingredient\",\n          \"quantity ingredient quantity unit ingredient ingredient unit ingredient ingredient ingredient ingredient ingredient ingredient ingredient quantity ingredient ingredient ingredient ingredient ingredient quantity ingredient ingredient ingredient ingredient ingredient ingredient quantity ingredient ingredient ingredient\"\n        ],\n        \"semantic_type\": \"\",\n        \"description\": \"\"\n      }\n    },\n    {\n      \"column\": \"input_tokens\",\n      \"properties\": {\n        \"dtype\": \"object\",\n        \"semantic_type\": \"\",\n        \"description\": \"\"\n      }\n    },\n    {\n      \"column\": \"pos_tokens\",\n      \"properties\": {\n        \"dtype\": \"object\",\n        \"semantic_type\": \"\",\n        \"description\": \"\"\n      }\n    },\n    {\n      \"column\": \"input_length\",\n      \"properties\": {\n        \"dtype\": \"number\",\n        \"std\": 13,\n        \"min\": 8,\n        \"max\": 93,\n        \"num_unique_values\": 58,\n        \"samples\": [\n          27,\n          19,\n          46\n        ],\n        \"semantic_type\": \"\",\n        \"description\": \"\"\n      }\n    },\n    {\n      \"column\": \"pos_length\",\n      \"properties\": {\n        \"dtype\": \"number\",\n        \"std\": 13,\n        \"min\": 8,\n        \"max\": 93,\n        \"num_unique_values\": 58,\n        \"samples\": [\n          27,\n          19,\n          46\n        ],\n        \"semantic_type\": \"\",\n        \"description\": \"\"\n      }\n    },\n    {\n      \"column\": \"lengths_match\",\n      \"properties\": {\n        \"dtype\": \"boolean\",\n        \"num_unique_values\": 1,\n        \"samples\": [\n          true\n        ],\n        \"semantic_type\": \"\",\n        \"description\": \"\"\n      }\n    }\n  ]\n}"
            }
          },
          "metadata": {},
          "execution_count": 19
        }
      ]
    },
    {
      "cell_type": "code",
      "source": [
        "# print the first five rows of the val_df\n",
        "val_df.head(5)"
      ],
      "metadata": {
        "id": "Kgtg5WE4_d7h",
        "colab": {
          "base_uri": "https://localhost:8080/",
          "height": 1000
        },
        "outputId": "cf91edb5-5735-4eae-9713-451bf89708ad"
      },
      "execution_count": 20,
      "outputs": [
        {
          "output_type": "execute_result",
          "data": {
            "text/plain": [
              "                                                                                                                                                                                                                                                                                                                                                                         input                                                                                                                                                                                                                                                                                                                                                                                                                                                                                                                                                                                      pos                                                                                                                                                                                                                                                                                                                                                                                                                        input_tokens                                                                                                                                                                                                                                                                                                                                                                                                                                                                                                                                                                                                                                        pos_tokens  input_length  pos_length  lengths_match\n",
              "33                                                                                                                                                                                                                                                                                       1 cup Ada 2 liter Milk 3/4 Sugar tablespoon Ghee 1/2 teaspoon Cardamom Powder Elaichi                                                                                                                                                                                                                                                                                                                                                                                                                                                     quantity unit ingredient quantity unit ingredient quantity ingredient unit ingredient quantity unit ingredient ingredient ingredient                                                                                                                                                                                                                                                                                                                               [1, cup, Ada, 2, liter, Milk, 3/4, Sugar, tablespoon, Ghee, 1/2, teaspoon, Cardamom, Powder, Elaichi]                                                                                                                                                                                                                                                                                                                                                                                                                                                                                              [quantity, unit, ingredient, quantity, unit, ingredient, quantity, ingredient, unit, ingredient, quantity, unit, ingredient, ingredient, ingredient]            15          15           True\n",
              "108  1 Carrot Gajjar chopped 7 Potatoes Aloo 2 cups Cauliflower gobi cut to small florets Onion tablespoon Ginger Garlic Paste Salt teaspoons Sunflower Oil 1/2 cup Fresh coconut grated teaspoon Whole Black Peppercorns Green Chillies Fennel seeds Saunf Poppy 6 Cashew nuts inch Cinnamon Stick Dalchini Star anise 3 Cloves Laung Cardamom Elaichi Pods/Seeds Cumin Jeera  quantity ingredient ingredient ingredient quantity ingredient ingredient quantity unit ingredient ingredient ingredient ingredient ingredient ingredient ingredient unit ingredient ingredient ingredient ingredient unit ingredient ingredient quantity unit ingredient ingredient ingredient unit ingredient ingredient ingredient ingredient ingredient ingredient ingredient ingredient ingredient quantity ingredient ingredient unit ingredient ingredient ingredient ingredient ingredient quantity ingredient ingredient ingredient ingredient ingredient ingredient ingredient  [1, Carrot, Gajjar, chopped, 7, Potatoes, Aloo, 2, cups, Cauliflower, gobi, cut, to, small, florets, Onion, tablespoon, Ginger, Garlic, Paste, Salt, teaspoons, Sunflower, Oil, 1/2, cup, Fresh, coconut, grated, teaspoon, Whole, Black, Peppercorns, Green, Chillies, Fennel, seeds, Saunf, Poppy, 6, Cashew, nuts, inch, Cinnamon, Stick, Dalchini, Star, anise, 3, Cloves, Laung, Cardamom, Elaichi, Pods/Seeds, Cumin, Jeera]  [quantity, ingredient, ingredient, ingredient, quantity, ingredient, ingredient, quantity, unit, ingredient, ingredient, ingredient, ingredient, ingredient, ingredient, ingredient, unit, ingredient, ingredient, ingredient, ingredient, unit, ingredient, ingredient, quantity, unit, ingredient, ingredient, ingredient, unit, ingredient, ingredient, ingredient, ingredient, ingredient, ingredient, ingredient, ingredient, ingredient, quantity, ingredient, ingredient, unit, ingredient, ingredient, ingredient, ingredient, ingredient, quantity, ingredient, ingredient, ingredient, ingredient, ingredient, ingredient, ingredient]            56          56           True\n",
              "240                                                                                                                                           1 tablespoon Sunflower Oil 3 Potato Aloo Ginger paste Green Chilli chopped 1-1/12 tablespoons Sesame seeds Til teaspoon Red powder Cumin Jeera Coriander Powder Dhania 1/2 Garam masala 2 Sweet Chutney Date Tamarind Leaves few                                                                                                                                                                                                                     quantity unit ingredient ingredient quantity ingredient ingredient ingredient ingredient ingredient ingredient ingredient quantity unit ingredient ingredient ingredient unit ingredient ingredient ingredient ingredient ingredient ingredient ingredient quantity ingredient ingredient quantity ingredient ingredient ingredient ingredient ingredient ingredient                                                                                                                                                                [1, tablespoon, Sunflower, Oil, 3, Potato, Aloo, Ginger, paste, Green, Chilli, chopped, 1-1/12, tablespoons, Sesame, seeds, Til, teaspoon, Red, powder, Cumin, Jeera, Coriander, Powder, Dhania, 1/2, Garam, masala, 2, Sweet, Chutney, Date, Tamarind, Leaves, few]                                                                                                                                                                                                                                          [quantity, unit, ingredient, ingredient, quantity, ingredient, ingredient, ingredient, ingredient, ingredient, ingredient, ingredient, quantity, unit, ingredient, ingredient, ingredient, unit, ingredient, ingredient, ingredient, ingredient, ingredient, ingredient, ingredient, quantity, ingredient, ingredient, quantity, ingredient, ingredient, ingredient, ingredient, ingredient, ingredient]            35          35           True\n",
              "259                                                                                                                                                                                                                                                                       1 cup green peas gram flour 1/2 cheese tsp ginger 2 chillies turmeric powder cumin teaspoon salt oil                                                                                                                                                                                                                                                                                                                                                                                                            quantity unit ingredient ingredient ingredient ingredient quantity ingredient unit ingredient quantity ingredient ingredient ingredient ingredient unit ingredient ingredient                                                                                                                                                                                                                                                                                                             [1, cup, green, peas, gram, flour, 1/2, cheese, tsp, ginger, 2, chillies, turmeric, powder, cumin, teaspoon, salt, oil]                                                                                                                                                                                                                                                                                                                                                                                                                                                  [quantity, unit, ingredient, ingredient, ingredient, ingredient, quantity, ingredient, unit, ingredient, quantity, ingredient, ingredient, ingredient, ingredient, unit, ingredient, ingredient]            18          18           True\n",
              "154                                2 cups Brown Rice cooked tablespoons Garlic chopped 1 Green Chilli 1/2 cup Carrots (Gajjar) beans (French Beans) Bell Pepper (Capsicum) Onion Cabbage (Patta Gobi/ Muttaikose) tablespoon Roasted tomato pasta sauce - or store bought Red teaspoon Soy Ginger freshly grated Spring Greens Salt Vinegar Extra Virgin Olive Oil as required                                             quantity unit ingredient ingredient ingredient unit ingredient ingredient quantity ingredient ingredient quantity unit ingredient ingredient ingredient ingredient ingredient ingredient ingredient ingredient ingredient ingredient ingredient ingredient ingredient unit ingredient ingredient ingredient ingredient ingredient ingredient ingredient ingredient ingredient unit ingredient ingredient ingredient ingredient ingredient ingredient ingredient ingredient ingredient ingredient ingredient ingredient ingredient ingredient                                     [2, cups, Brown, Rice, cooked, tablespoons, Garlic, chopped, 1, Green, Chilli, 1/2, cup, Carrots, (Gajjar), beans, (French, Beans), Bell, Pepper, (Capsicum), Onion, Cabbage, (Patta, Gobi/, Muttaikose), tablespoon, Roasted, tomato, pasta, sauce, -, or, store, bought, Red, teaspoon, Soy, Ginger, freshly, grated, Spring, Greens, Salt, Vinegar, Extra, Virgin, Olive, Oil, as, required]                                                  [quantity, unit, ingredient, ingredient, ingredient, unit, ingredient, ingredient, quantity, ingredient, ingredient, quantity, unit, ingredient, ingredient, ingredient, ingredient, ingredient, ingredient, ingredient, ingredient, ingredient, ingredient, ingredient, ingredient, ingredient, unit, ingredient, ingredient, ingredient, ingredient, ingredient, ingredient, ingredient, ingredient, ingredient, unit, ingredient, ingredient, ingredient, ingredient, ingredient, ingredient, ingredient, ingredient, ingredient, ingredient, ingredient, ingredient, ingredient, ingredient]            51          51           True"
            ],
            "text/html": [
              "\n",
              "  <div id=\"df-c03c0b4f-eb7e-4086-900e-0732580995eb\" class=\"colab-df-container\">\n",
              "    <div>\n",
              "<style scoped>\n",
              "    .dataframe tbody tr th:only-of-type {\n",
              "        vertical-align: middle;\n",
              "    }\n",
              "\n",
              "    .dataframe tbody tr th {\n",
              "        vertical-align: top;\n",
              "    }\n",
              "\n",
              "    .dataframe thead th {\n",
              "        text-align: right;\n",
              "    }\n",
              "</style>\n",
              "<table border=\"1\" class=\"dataframe\">\n",
              "  <thead>\n",
              "    <tr style=\"text-align: right;\">\n",
              "      <th></th>\n",
              "      <th>input</th>\n",
              "      <th>pos</th>\n",
              "      <th>input_tokens</th>\n",
              "      <th>pos_tokens</th>\n",
              "      <th>input_length</th>\n",
              "      <th>pos_length</th>\n",
              "      <th>lengths_match</th>\n",
              "    </tr>\n",
              "  </thead>\n",
              "  <tbody>\n",
              "    <tr>\n",
              "      <th>33</th>\n",
              "      <td>1 cup Ada 2 liter Milk 3/4 Sugar tablespoon Ghee 1/2 teaspoon Cardamom Powder Elaichi</td>\n",
              "      <td>quantity unit ingredient quantity unit ingredient quantity ingredient unit ingredient quantity unit ingredient ingredient ingredient</td>\n",
              "      <td>[1, cup, Ada, 2, liter, Milk, 3/4, Sugar, tablespoon, Ghee, 1/2, teaspoon, Cardamom, Powder, Elaichi]</td>\n",
              "      <td>[quantity, unit, ingredient, quantity, unit, ingredient, quantity, ingredient, unit, ingredient, quantity, unit, ingredient, ingredient, ingredient]</td>\n",
              "      <td>15</td>\n",
              "      <td>15</td>\n",
              "      <td>True</td>\n",
              "    </tr>\n",
              "    <tr>\n",
              "      <th>108</th>\n",
              "      <td>1 Carrot Gajjar chopped 7 Potatoes Aloo 2 cups Cauliflower gobi cut to small florets Onion tablespoon Ginger Garlic Paste Salt teaspoons Sunflower Oil 1/2 cup Fresh coconut grated teaspoon Whole Black Peppercorns Green Chillies Fennel seeds Saunf Poppy 6 Cashew nuts inch Cinnamon Stick Dalchini Star anise 3 Cloves Laung Cardamom Elaichi Pods/Seeds Cumin Jeera</td>\n",
              "      <td>quantity ingredient ingredient ingredient quantity ingredient ingredient quantity unit ingredient ingredient ingredient ingredient ingredient ingredient ingredient unit ingredient ingredient ingredient ingredient unit ingredient ingredient quantity unit ingredient ingredient ingredient unit ingredient ingredient ingredient ingredient ingredient ingredient ingredient ingredient ingredient quantity ingredient ingredient unit ingredient ingredient ingredient ingredient ingredient quantity ingredient ingredient ingredient ingredient ingredient ingredient ingredient</td>\n",
              "      <td>[1, Carrot, Gajjar, chopped, 7, Potatoes, Aloo, 2, cups, Cauliflower, gobi, cut, to, small, florets, Onion, tablespoon, Ginger, Garlic, Paste, Salt, teaspoons, Sunflower, Oil, 1/2, cup, Fresh, coconut, grated, teaspoon, Whole, Black, Peppercorns, Green, Chillies, Fennel, seeds, Saunf, Poppy, 6, Cashew, nuts, inch, Cinnamon, Stick, Dalchini, Star, anise, 3, Cloves, Laung, Cardamom, Elaichi, Pods/Seeds, Cumin, Jeera]</td>\n",
              "      <td>[quantity, ingredient, ingredient, ingredient, quantity, ingredient, ingredient, quantity, unit, ingredient, ingredient, ingredient, ingredient, ingredient, ingredient, ingredient, unit, ingredient, ingredient, ingredient, ingredient, unit, ingredient, ingredient, quantity, unit, ingredient, ingredient, ingredient, unit, ingredient, ingredient, ingredient, ingredient, ingredient, ingredient, ingredient, ingredient, ingredient, quantity, ingredient, ingredient, unit, ingredient, ingredient, ingredient, ingredient, ingredient, quantity, ingredient, ingredient, ingredient, ingredient, ingredient, ingredient, ingredient]</td>\n",
              "      <td>56</td>\n",
              "      <td>56</td>\n",
              "      <td>True</td>\n",
              "    </tr>\n",
              "    <tr>\n",
              "      <th>240</th>\n",
              "      <td>1 tablespoon Sunflower Oil 3 Potato Aloo Ginger paste Green Chilli chopped 1-1/12 tablespoons Sesame seeds Til teaspoon Red powder Cumin Jeera Coriander Powder Dhania 1/2 Garam masala 2 Sweet Chutney Date Tamarind Leaves few</td>\n",
              "      <td>quantity unit ingredient ingredient quantity ingredient ingredient ingredient ingredient ingredient ingredient ingredient quantity unit ingredient ingredient ingredient unit ingredient ingredient ingredient ingredient ingredient ingredient ingredient quantity ingredient ingredient quantity ingredient ingredient ingredient ingredient ingredient ingredient</td>\n",
              "      <td>[1, tablespoon, Sunflower, Oil, 3, Potato, Aloo, Ginger, paste, Green, Chilli, chopped, 1-1/12, tablespoons, Sesame, seeds, Til, teaspoon, Red, powder, Cumin, Jeera, Coriander, Powder, Dhania, 1/2, Garam, masala, 2, Sweet, Chutney, Date, Tamarind, Leaves, few]</td>\n",
              "      <td>[quantity, unit, ingredient, ingredient, quantity, ingredient, ingredient, ingredient, ingredient, ingredient, ingredient, ingredient, quantity, unit, ingredient, ingredient, ingredient, unit, ingredient, ingredient, ingredient, ingredient, ingredient, ingredient, ingredient, quantity, ingredient, ingredient, quantity, ingredient, ingredient, ingredient, ingredient, ingredient, ingredient]</td>\n",
              "      <td>35</td>\n",
              "      <td>35</td>\n",
              "      <td>True</td>\n",
              "    </tr>\n",
              "    <tr>\n",
              "      <th>259</th>\n",
              "      <td>1 cup green peas gram flour 1/2 cheese tsp ginger 2 chillies turmeric powder cumin teaspoon salt oil</td>\n",
              "      <td>quantity unit ingredient ingredient ingredient ingredient quantity ingredient unit ingredient quantity ingredient ingredient ingredient ingredient unit ingredient ingredient</td>\n",
              "      <td>[1, cup, green, peas, gram, flour, 1/2, cheese, tsp, ginger, 2, chillies, turmeric, powder, cumin, teaspoon, salt, oil]</td>\n",
              "      <td>[quantity, unit, ingredient, ingredient, ingredient, ingredient, quantity, ingredient, unit, ingredient, quantity, ingredient, ingredient, ingredient, ingredient, unit, ingredient, ingredient]</td>\n",
              "      <td>18</td>\n",
              "      <td>18</td>\n",
              "      <td>True</td>\n",
              "    </tr>\n",
              "    <tr>\n",
              "      <th>154</th>\n",
              "      <td>2 cups Brown Rice cooked tablespoons Garlic chopped 1 Green Chilli 1/2 cup Carrots (Gajjar) beans (French Beans) Bell Pepper (Capsicum) Onion Cabbage (Patta Gobi/ Muttaikose) tablespoon Roasted tomato pasta sauce - or store bought Red teaspoon Soy Ginger freshly grated Spring Greens Salt Vinegar Extra Virgin Olive Oil as required</td>\n",
              "      <td>quantity unit ingredient ingredient ingredient unit ingredient ingredient quantity ingredient ingredient quantity unit ingredient ingredient ingredient ingredient ingredient ingredient ingredient ingredient ingredient ingredient ingredient ingredient ingredient unit ingredient ingredient ingredient ingredient ingredient ingredient ingredient ingredient ingredient unit ingredient ingredient ingredient ingredient ingredient ingredient ingredient ingredient ingredient ingredient ingredient ingredient ingredient ingredient</td>\n",
              "      <td>[2, cups, Brown, Rice, cooked, tablespoons, Garlic, chopped, 1, Green, Chilli, 1/2, cup, Carrots, (Gajjar), beans, (French, Beans), Bell, Pepper, (Capsicum), Onion, Cabbage, (Patta, Gobi/, Muttaikose), tablespoon, Roasted, tomato, pasta, sauce, -, or, store, bought, Red, teaspoon, Soy, Ginger, freshly, grated, Spring, Greens, Salt, Vinegar, Extra, Virgin, Olive, Oil, as, required]</td>\n",
              "      <td>[quantity, unit, ingredient, ingredient, ingredient, unit, ingredient, ingredient, quantity, ingredient, ingredient, quantity, unit, ingredient, ingredient, ingredient, ingredient, ingredient, ingredient, ingredient, ingredient, ingredient, ingredient, ingredient, ingredient, ingredient, unit, ingredient, ingredient, ingredient, ingredient, ingredient, ingredient, ingredient, ingredient, ingredient, unit, ingredient, ingredient, ingredient, ingredient, ingredient, ingredient, ingredient, ingredient, ingredient, ingredient, ingredient, ingredient, ingredient, ingredient]</td>\n",
              "      <td>51</td>\n",
              "      <td>51</td>\n",
              "      <td>True</td>\n",
              "    </tr>\n",
              "  </tbody>\n",
              "</table>\n",
              "</div>\n",
              "    <div class=\"colab-df-buttons\">\n",
              "\n",
              "  <div class=\"colab-df-container\">\n",
              "    <button class=\"colab-df-convert\" onclick=\"convertToInteractive('df-c03c0b4f-eb7e-4086-900e-0732580995eb')\"\n",
              "            title=\"Convert this dataframe to an interactive table.\"\n",
              "            style=\"display:none;\">\n",
              "\n",
              "  <svg xmlns=\"http://www.w3.org/2000/svg\" height=\"24px\" viewBox=\"0 -960 960 960\">\n",
              "    <path d=\"M120-120v-720h720v720H120Zm60-500h600v-160H180v160Zm220 220h160v-160H400v160Zm0 220h160v-160H400v160ZM180-400h160v-160H180v160Zm440 0h160v-160H620v160ZM180-180h160v-160H180v160Zm440 0h160v-160H620v160Z\"/>\n",
              "  </svg>\n",
              "    </button>\n",
              "\n",
              "  <style>\n",
              "    .colab-df-container {\n",
              "      display:flex;\n",
              "      gap: 12px;\n",
              "    }\n",
              "\n",
              "    .colab-df-convert {\n",
              "      background-color: #E8F0FE;\n",
              "      border: none;\n",
              "      border-radius: 50%;\n",
              "      cursor: pointer;\n",
              "      display: none;\n",
              "      fill: #1967D2;\n",
              "      height: 32px;\n",
              "      padding: 0 0 0 0;\n",
              "      width: 32px;\n",
              "    }\n",
              "\n",
              "    .colab-df-convert:hover {\n",
              "      background-color: #E2EBFA;\n",
              "      box-shadow: 0px 1px 2px rgba(60, 64, 67, 0.3), 0px 1px 3px 1px rgba(60, 64, 67, 0.15);\n",
              "      fill: #174EA6;\n",
              "    }\n",
              "\n",
              "    .colab-df-buttons div {\n",
              "      margin-bottom: 4px;\n",
              "    }\n",
              "\n",
              "    [theme=dark] .colab-df-convert {\n",
              "      background-color: #3B4455;\n",
              "      fill: #D2E3FC;\n",
              "    }\n",
              "\n",
              "    [theme=dark] .colab-df-convert:hover {\n",
              "      background-color: #434B5C;\n",
              "      box-shadow: 0px 1px 3px 1px rgba(0, 0, 0, 0.15);\n",
              "      filter: drop-shadow(0px 1px 2px rgba(0, 0, 0, 0.3));\n",
              "      fill: #FFFFFF;\n",
              "    }\n",
              "  </style>\n",
              "\n",
              "    <script>\n",
              "      const buttonEl =\n",
              "        document.querySelector('#df-c03c0b4f-eb7e-4086-900e-0732580995eb button.colab-df-convert');\n",
              "      buttonEl.style.display =\n",
              "        google.colab.kernel.accessAllowed ? 'block' : 'none';\n",
              "\n",
              "      async function convertToInteractive(key) {\n",
              "        const element = document.querySelector('#df-c03c0b4f-eb7e-4086-900e-0732580995eb');\n",
              "        const dataTable =\n",
              "          await google.colab.kernel.invokeFunction('convertToInteractive',\n",
              "                                                    [key], {});\n",
              "        if (!dataTable) return;\n",
              "\n",
              "        const docLinkHtml = 'Like what you see? Visit the ' +\n",
              "          '<a target=\"_blank\" href=https://colab.research.google.com/notebooks/data_table.ipynb>data table notebook</a>'\n",
              "          + ' to learn more about interactive tables.';\n",
              "        element.innerHTML = '';\n",
              "        dataTable['output_type'] = 'display_data';\n",
              "        await google.colab.output.renderOutput(dataTable, element);\n",
              "        const docLink = document.createElement('div');\n",
              "        docLink.innerHTML = docLinkHtml;\n",
              "        element.appendChild(docLink);\n",
              "      }\n",
              "    </script>\n",
              "  </div>\n",
              "\n",
              "\n",
              "    <div id=\"df-0f133025-1031-4722-8e88-e33bb9a87daf\">\n",
              "      <button class=\"colab-df-quickchart\" onclick=\"quickchart('df-0f133025-1031-4722-8e88-e33bb9a87daf')\"\n",
              "                title=\"Suggest charts\"\n",
              "                style=\"display:none;\">\n",
              "\n",
              "<svg xmlns=\"http://www.w3.org/2000/svg\" height=\"24px\"viewBox=\"0 0 24 24\"\n",
              "     width=\"24px\">\n",
              "    <g>\n",
              "        <path d=\"M19 3H5c-1.1 0-2 .9-2 2v14c0 1.1.9 2 2 2h14c1.1 0 2-.9 2-2V5c0-1.1-.9-2-2-2zM9 17H7v-7h2v7zm4 0h-2V7h2v10zm4 0h-2v-4h2v4z\"/>\n",
              "    </g>\n",
              "</svg>\n",
              "      </button>\n",
              "\n",
              "<style>\n",
              "  .colab-df-quickchart {\n",
              "      --bg-color: #E8F0FE;\n",
              "      --fill-color: #1967D2;\n",
              "      --hover-bg-color: #E2EBFA;\n",
              "      --hover-fill-color: #174EA6;\n",
              "      --disabled-fill-color: #AAA;\n",
              "      --disabled-bg-color: #DDD;\n",
              "  }\n",
              "\n",
              "  [theme=dark] .colab-df-quickchart {\n",
              "      --bg-color: #3B4455;\n",
              "      --fill-color: #D2E3FC;\n",
              "      --hover-bg-color: #434B5C;\n",
              "      --hover-fill-color: #FFFFFF;\n",
              "      --disabled-bg-color: #3B4455;\n",
              "      --disabled-fill-color: #666;\n",
              "  }\n",
              "\n",
              "  .colab-df-quickchart {\n",
              "    background-color: var(--bg-color);\n",
              "    border: none;\n",
              "    border-radius: 50%;\n",
              "    cursor: pointer;\n",
              "    display: none;\n",
              "    fill: var(--fill-color);\n",
              "    height: 32px;\n",
              "    padding: 0;\n",
              "    width: 32px;\n",
              "  }\n",
              "\n",
              "  .colab-df-quickchart:hover {\n",
              "    background-color: var(--hover-bg-color);\n",
              "    box-shadow: 0 1px 2px rgba(60, 64, 67, 0.3), 0 1px 3px 1px rgba(60, 64, 67, 0.15);\n",
              "    fill: var(--button-hover-fill-color);\n",
              "  }\n",
              "\n",
              "  .colab-df-quickchart-complete:disabled,\n",
              "  .colab-df-quickchart-complete:disabled:hover {\n",
              "    background-color: var(--disabled-bg-color);\n",
              "    fill: var(--disabled-fill-color);\n",
              "    box-shadow: none;\n",
              "  }\n",
              "\n",
              "  .colab-df-spinner {\n",
              "    border: 2px solid var(--fill-color);\n",
              "    border-color: transparent;\n",
              "    border-bottom-color: var(--fill-color);\n",
              "    animation:\n",
              "      spin 1s steps(1) infinite;\n",
              "  }\n",
              "\n",
              "  @keyframes spin {\n",
              "    0% {\n",
              "      border-color: transparent;\n",
              "      border-bottom-color: var(--fill-color);\n",
              "      border-left-color: var(--fill-color);\n",
              "    }\n",
              "    20% {\n",
              "      border-color: transparent;\n",
              "      border-left-color: var(--fill-color);\n",
              "      border-top-color: var(--fill-color);\n",
              "    }\n",
              "    30% {\n",
              "      border-color: transparent;\n",
              "      border-left-color: var(--fill-color);\n",
              "      border-top-color: var(--fill-color);\n",
              "      border-right-color: var(--fill-color);\n",
              "    }\n",
              "    40% {\n",
              "      border-color: transparent;\n",
              "      border-right-color: var(--fill-color);\n",
              "      border-top-color: var(--fill-color);\n",
              "    }\n",
              "    60% {\n",
              "      border-color: transparent;\n",
              "      border-right-color: var(--fill-color);\n",
              "    }\n",
              "    80% {\n",
              "      border-color: transparent;\n",
              "      border-right-color: var(--fill-color);\n",
              "      border-bottom-color: var(--fill-color);\n",
              "    }\n",
              "    90% {\n",
              "      border-color: transparent;\n",
              "      border-bottom-color: var(--fill-color);\n",
              "    }\n",
              "  }\n",
              "</style>\n",
              "\n",
              "      <script>\n",
              "        async function quickchart(key) {\n",
              "          const quickchartButtonEl =\n",
              "            document.querySelector('#' + key + ' button');\n",
              "          quickchartButtonEl.disabled = true;  // To prevent multiple clicks.\n",
              "          quickchartButtonEl.classList.add('colab-df-spinner');\n",
              "          try {\n",
              "            const charts = await google.colab.kernel.invokeFunction(\n",
              "                'suggestCharts', [key], {});\n",
              "          } catch (error) {\n",
              "            console.error('Error during call to suggestCharts:', error);\n",
              "          }\n",
              "          quickchartButtonEl.classList.remove('colab-df-spinner');\n",
              "          quickchartButtonEl.classList.add('colab-df-quickchart-complete');\n",
              "        }\n",
              "        (() => {\n",
              "          let quickchartButtonEl =\n",
              "            document.querySelector('#df-0f133025-1031-4722-8e88-e33bb9a87daf button');\n",
              "          quickchartButtonEl.style.display =\n",
              "            google.colab.kernel.accessAllowed ? 'block' : 'none';\n",
              "        })();\n",
              "      </script>\n",
              "    </div>\n",
              "\n",
              "    </div>\n",
              "  </div>\n"
            ],
            "application/vnd.google.colaboratory.intrinsic+json": {
              "type": "dataframe",
              "variable_name": "val_df",
              "summary": "{\n  \"name\": \"val_df\",\n  \"rows\": 56,\n  \"fields\": [\n    {\n      \"column\": \"input\",\n      \"properties\": {\n        \"dtype\": \"string\",\n        \"num_unique_values\": 56,\n        \"samples\": [\n          \"1 cup Ada 2 liter Milk 3/4 Sugar tablespoon Ghee 1/2 teaspoon Cardamom Powder Elaichi\",\n          \"1 cup cabbage leaves 3/4 tomatoes 18 grams tamarind 2 tablespoons white urad dal 4 red chillies 3 cloves garlic big Spoon oil teaspoon Rye 1/2 Cumin seeds sprig Curry\",\n          \"1/4 cups Broken Wheat Dalia Godumai Rava cup Bajra seeds Jowar Seeds Chana dal Bengal Gram Dal Masoor Whole 1/2 Rice 4 cloves Garlic crushed 2 inch Ginger 2-3 Green Chilli sprigs Curry leaves Coriander Dhania Leaves 1 teaspoon Cumin powder Jeera teaspoons Red Turmeric Haldi 3 Garam masala Asafoetida hing Sunflower Oil cooking Onions finely chopped tablespoon Lemon juice Salt\"\n        ],\n        \"semantic_type\": \"\",\n        \"description\": \"\"\n      }\n    },\n    {\n      \"column\": \"pos\",\n      \"properties\": {\n        \"dtype\": \"string\",\n        \"num_unique_values\": 56,\n        \"samples\": [\n          \"quantity unit ingredient quantity unit ingredient quantity ingredient unit ingredient quantity unit ingredient ingredient ingredient\",\n          \"quantity unit ingredient ingredient quantity ingredient quantity unit ingredient quantity unit ingredient ingredient ingredient quantity ingredient ingredient quantity ingredient ingredient ingredient unit ingredient unit ingredient quantity ingredient ingredient unit ingredient\",\n          \"quantity unit ingredient ingredient ingredient ingredient ingredient unit ingredient ingredient ingredient ingredient ingredient ingredient ingredient ingredient ingredient ingredient ingredient quantity ingredient quantity unit ingredient ingredient quantity unit ingredient quantity ingredient ingredient unit ingredient ingredient ingredient ingredient ingredient quantity unit ingredient ingredient ingredient unit ingredient ingredient ingredient quantity ingredient ingredient ingredient ingredient ingredient ingredient ingredient ingredient ingredient ingredient unit ingredient ingredient ingredient\"\n        ],\n        \"semantic_type\": \"\",\n        \"description\": \"\"\n      }\n    },\n    {\n      \"column\": \"input_tokens\",\n      \"properties\": {\n        \"dtype\": \"object\",\n        \"semantic_type\": \"\",\n        \"description\": \"\"\n      }\n    },\n    {\n      \"column\": \"pos_tokens\",\n      \"properties\": {\n        \"dtype\": \"object\",\n        \"semantic_type\": \"\",\n        \"description\": \"\"\n      }\n    },\n    {\n      \"column\": \"input_length\",\n      \"properties\": {\n        \"dtype\": \"number\",\n        \"std\": 15,\n        \"min\": 7,\n        \"max\": 89,\n        \"num_unique_values\": 36,\n        \"samples\": [\n          48,\n          57,\n          67\n        ],\n        \"semantic_type\": \"\",\n        \"description\": \"\"\n      }\n    },\n    {\n      \"column\": \"pos_length\",\n      \"properties\": {\n        \"dtype\": \"number\",\n        \"std\": 15,\n        \"min\": 7,\n        \"max\": 89,\n        \"num_unique_values\": 36,\n        \"samples\": [\n          48,\n          57,\n          67\n        ],\n        \"semantic_type\": \"\",\n        \"description\": \"\"\n      }\n    },\n    {\n      \"column\": \"lengths_match\",\n      \"properties\": {\n        \"dtype\": \"boolean\",\n        \"num_unique_values\": 1,\n        \"samples\": [\n          true\n        ],\n        \"semantic_type\": \"\",\n        \"description\": \"\"\n      }\n    }\n  ]\n}"
            }
          },
          "metadata": {},
          "execution_count": 20
        }
      ]
    },
    {
      "cell_type": "markdown",
      "source": [
        "###### **3.1.3** **Extract the dataset into train_df and val_df into X_train, X_val, y_train and y_val and display their length** <font color = red> [2 marks]</font> <br>\n",
        "\n",
        "Extract X_train, X_val, y_train and y_val by extracting the list of input_tokens and pos_tokens from train_df and val_df and also display their length"
      ],
      "metadata": {
        "id": "7prEiaiqI_VZ"
      }
    },
    {
      "cell_type": "code",
      "source": [
        "# extract the training and validation sets by taking input_tokens and pos_tokens\n",
        "# Extract training data\n",
        "train_inputs = train_df['input_tokens'].tolist()\n",
        "train_labels = train_df['pos_tokens'].tolist()\n",
        "\n",
        "# Extract validation data\n",
        "val_inputs = val_df['input_tokens'].tolist()\n",
        "val_labels = val_df['pos_tokens'].tolist()\n"
      ],
      "metadata": {
        "id": "BFVnCD71IHXF"
      },
      "execution_count": 21,
      "outputs": []
    },
    {
      "cell_type": "code",
      "source": [
        "# validate the shape of training and validation samples\n",
        "# Check number of samples in each set\n",
        "print(f\"Training samples: {len(train_inputs)}, Training labels: {len(train_labels)}\")\n",
        "print(f\"Validation samples: {len(val_inputs)}, Validation labels: {len(val_labels)}\")\n",
        "\n",
        "# Optional: Check if each input-label pair is same length (token alignment)\n",
        "train_alignment_check = all(len(x) == len(y) for x, y in zip(train_inputs, train_labels))\n",
        "val_alignment_check = all(len(x) == len(y) for x, y in zip(val_inputs, val_labels))\n",
        "\n",
        "print(f\"All training samples aligned: {train_alignment_check}\")\n",
        "print(f\"All validation samples aligned: {val_alignment_check}\")\n"
      ],
      "metadata": {
        "id": "yQPOVz3J_fiq",
        "colab": {
          "base_uri": "https://localhost:8080/"
        },
        "outputId": "e27ef5b4-87eb-4bb4-d58f-b3140c1f9e52"
      },
      "execution_count": 22,
      "outputs": [
        {
          "output_type": "stream",
          "name": "stdout",
          "text": [
            "Training samples: 224, Training labels: 224\n",
            "Validation samples: 56, Validation labels: 56\n",
            "All training samples aligned: True\n",
            "All validation samples aligned: True\n"
          ]
        }
      ]
    },
    {
      "cell_type": "markdown",
      "source": [
        "###### **3.1.4** **Display the number of unique labels present in y_train** <font color = red> [2 marks]</font> <br>"
      ],
      "metadata": {
        "id": "8uicUYglLeiA"
      }
    },
    {
      "cell_type": "code",
      "source": [
        "# Display the number of unique labels present in y_train\n",
        "# Flatten list of label sequences into a single list of tags\n",
        "all_train_labels = [label for seq in train_labels for label in seq]\n",
        "\n",
        "# Get unique labels\n",
        "unique_labels = set(all_train_labels)\n",
        "\n",
        "print(f\"Number of unique POS labels in y_train: {len(unique_labels)}\")\n",
        "print(f\"Unique labels: {unique_labels}\")\n"
      ],
      "metadata": {
        "id": "hzWtzpdINt6X",
        "colab": {
          "base_uri": "https://localhost:8080/"
        },
        "outputId": "50e10cc1-781f-45e9-e999-0f0555593207"
      },
      "execution_count": 23,
      "outputs": [
        {
          "output_type": "stream",
          "name": "stdout",
          "text": [
            "Number of unique POS labels in y_train: 3\n",
            "Unique labels: {'quantity', 'ingredient', 'unit'}\n"
          ]
        }
      ]
    },
    {
      "cell_type": "markdown",
      "source": [
        "## **4** Exploratory Recipe Data Analysis on Training Dataset <font color = red>[16 marks]</font> <br>"
      ],
      "metadata": {
        "id": "QFm46QrB4gmj"
      }
    },
    {
      "cell_type": "markdown",
      "source": [
        "#### **4.1** *Flatten the lists for input_tokens & pos_tokens* <font color = red>[2 marks]</font> <br>\n",
        "\n",
        "Define a function **flatten_list** for flattening the structure for input_tokens and pos_tokens. The input parameter passed to this function is a nested list.\n",
        "\n",
        "Initialise the dataset_name with a value ***'Training'***\n",
        "\n",
        "\n"
      ],
      "metadata": {
        "id": "KUWIp0n_NeH6"
      }
    },
    {
      "cell_type": "code",
      "source": [
        "# flatten the list for nested_list (input_tokens, pos_tokens)\n",
        "# Helper to flatten a nested list (e.g., list of lists of tokens)\n",
        "def flatten_list(nested_list):\n",
        "    return [item for sublist in nested_list for item in sublist]\n"
      ],
      "metadata": {
        "id": "WzcY0gPiOe8o"
      },
      "execution_count": 24,
      "outputs": []
    },
    {
      "cell_type": "code",
      "source": [
        "# initialise the dataset_name\n",
        "dataset_name = 'Training'"
      ],
      "metadata": {
        "id": "DXRda29gNBH8"
      },
      "execution_count": 25,
      "outputs": []
    },
    {
      "cell_type": "markdown",
      "source": [
        "#### **4.2** *Extract and validate the tokens after using the flattening technique* <font color = red>[2 marks]</font> <br>\n",
        "\n",
        "Define a function named ***extract_and_validate_tokens*** with parameters dataframe and dataset_name (Training/Validation), validate the length of input_tokens and pos_tokens from dataframe and display first 10 records for both the input_tokens and pos_tokens. Execute this function\n",
        "\n",
        "\n"
      ],
      "metadata": {
        "id": "eGOqhd8OOr1E"
      }
    },
    {
      "cell_type": "code",
      "source": [
        "# define a extract_and_validate_tokens with parameters (df, dataset_name)\n",
        "# call the flatten_list and apply it on input_tokens and pos_tokens\n",
        "# validate their length and display first 10 records having input and pos tokens\n",
        "def extract_and_validate_tokens(df, dataset_name='Dataset'):\n",
        "    print(f\"\\n📦 Extracting from {dataset_name}...\")\n",
        "\n",
        "    # Flatten tokens and labels\n",
        "    tokens = flatten_list(df['input_tokens'].tolist())\n",
        "    pos_tags = flatten_list(df['pos_tokens'].tolist())\n",
        "\n",
        "    # Validate lengths\n",
        "    if len(tokens) != len(pos_tags):\n",
        "        print(f\"❌ Token and POS tag count mismatch: {len(tokens)} tokens vs {len(pos_tags)} tags\")\n",
        "    else:\n",
        "        print(f\"✅ Extracted {len(tokens)} tokens and POS tags\")\n",
        "\n",
        "    # Display first 10 token-tag pairs\n",
        "    print(\"\\n📝 First 10 token → tag mappings:\")\n",
        "    for token, tag in list(zip(tokens, pos_tags))[:10]:\n",
        "        print(f\"{token} → {tag}\")\n",
        "\n",
        "    return tokens, pos_tags\n"
      ],
      "metadata": {
        "id": "H3GMX83xP7ja"
      },
      "execution_count": 26,
      "outputs": []
    },
    {
      "cell_type": "code",
      "source": [
        "# extract the tokens and its pos tags\n",
        "dataset_name = 'Training'\n",
        "train_tokens, train_pos_tags = extract_and_validate_tokens(train_df, dataset_name)\n"
      ],
      "metadata": {
        "id": "ajdbYMgeLpf9",
        "colab": {
          "base_uri": "https://localhost:8080/"
        },
        "outputId": "33c24a16-88ba-4488-c17f-634d1a2f297f"
      },
      "execution_count": 27,
      "outputs": [
        {
          "output_type": "stream",
          "name": "stdout",
          "text": [
            "\n",
            "📦 Extracting from Training...\n",
            "✅ Extracted 8008 tokens and POS tags\n",
            "\n",
            "📝 First 10 token → tag mappings:\n",
            "1/2 → quantity\n",
            "cup → unit\n",
            "Sooji → ingredient\n",
            "Semolina → ingredient\n",
            "Rava → ingredient\n",
            "teaspoon → unit\n",
            "Ghee → ingredient\n",
            "3 → quantity\n",
            "cups → unit\n",
            "Milk → ingredient\n"
          ]
        }
      ]
    },
    {
      "cell_type": "markdown",
      "source": [
        "#### **4.3** *Categorise tokens into labels (unit, ingredient, quantity)* <font color = red>[2 marks]</font> <br>\n",
        "\n",
        "Define a function ***categorize_tokens*** to categorise tokens into ingredients, units and quantities by using extracted tokens in the previous code and return a list of ingredients, units and quantities. Execute this function to get the list.\n",
        "\n"
      ],
      "metadata": {
        "id": "htZVn5wcQSok"
      }
    },
    {
      "cell_type": "code",
      "source": [
        "# define a categorize_tokens function and provide the tokens and pos_tags as parameters and create ingredient, unit and quantity list and return it\n",
        "# validate the list that it comprised of these labels, if not return empty arrays\n",
        "def categorize_tokens(tokens, pos_tags):\n",
        "    if len(tokens) != len(pos_tags):\n",
        "        print(\"❌ Token and POS tag list lengths do not match.\")\n",
        "        return [], [], []\n",
        "\n",
        "    valid_labels = {'ingredient', 'unit', 'quantity'}\n",
        "    ingredient, unit, quantity = [], [], []\n",
        "\n",
        "    for token, tag in zip(tokens, pos_tags):\n",
        "        if tag not in valid_labels:\n",
        "            print(f\"⚠️ Unexpected POS tag '{tag}' found. Returning empty lists.\")\n",
        "            return [], [], []\n",
        "        if tag == 'ingredient':\n",
        "            ingredient.append(token)\n",
        "        elif tag == 'unit':\n",
        "            unit.append(token)\n",
        "        elif tag == 'quantity':\n",
        "            quantity.append(token)\n",
        "\n",
        "    return ingredient, unit, quantity\n",
        "\n"
      ],
      "metadata": {
        "id": "7xq0a4L7Quct"
      },
      "execution_count": 28,
      "outputs": []
    },
    {
      "cell_type": "code",
      "source": [
        "#  call the function to categorise the labels into respective list\n",
        "ingredient_list, unit_list, quantity_list = categorize_tokens(train_tokens, train_pos_tags)\n",
        "\n",
        "# Optionally display result summary\n",
        "print(f\"\\n✅ Categorized {len(ingredient_list)} ingredients, {len(unit_list)} units, {len(quantity_list)} quantities.\")\n"
      ],
      "metadata": {
        "id": "evcsigvUL7bM",
        "colab": {
          "base_uri": "https://localhost:8080/"
        },
        "outputId": "0e8eb9bc-e57b-440f-bdab-39090945e468"
      },
      "execution_count": 29,
      "outputs": [
        {
          "output_type": "stream",
          "name": "stdout",
          "text": [
            "\n",
            "✅ Categorized 5978 ingredients, 929 units, 1101 quantities.\n"
          ]
        }
      ]
    },
    {
      "cell_type": "markdown",
      "source": [
        "#### **4.4** *Top 10 Most Frequent Items* <font color = red>[3 marks]</font> <br>\n",
        "\n",
        "Define a function ***get_top_frequent_items*** to display top 10 most frequent items\n",
        "\n",
        "Here, item_list is used as a general parameter where you will call this function for ingredient and unit list\n",
        "\n",
        "Execute this function separately for top 10 most units and ingredients\n",
        "\n"
      ],
      "metadata": {
        "id": "QSGau4EgZCix"
      }
    },
    {
      "cell_type": "code",
      "source": [
        "# define a function get_top_frequent_items to get the top frequent items by using item_list, pos label and dataset_name(Training/Validation) and return top items\n",
        "\n",
        "from collections import Counter\n",
        "\n",
        "def get_top_frequent_items(item_list, pos_label, dataset_name='Training', top_n=10):\n",
        "\n",
        "    counter = Counter(item_list)\n",
        "    top_items = counter.most_common(top_n)\n",
        "\n",
        "    print(f\"\\n🔝 Top {top_n} {pos_label}s in {dataset_name} data:\")\n",
        "    for item, freq in top_items:\n",
        "        print(f\"{item}: {freq}\")\n",
        "\n",
        "    return top_items\n",
        "\n"
      ],
      "metadata": {
        "id": "kXc8h3H4ZOZ4"
      },
      "execution_count": 30,
      "outputs": []
    },
    {
      "cell_type": "code",
      "source": [
        "# get the top ingredients which are frequently seen in the recipe\n",
        "top_ingredients = get_top_frequent_items(\n",
        "    item_list=ingredient_list,\n",
        "    pos_label='ingredient',\n",
        "    dataset_name='Training'\n",
        ")\n",
        "\n"
      ],
      "metadata": {
        "id": "W2jZCCf2MEke",
        "colab": {
          "base_uri": "https://localhost:8080/"
        },
        "outputId": "e8d68ba8-22a8-42a5-9663-5a2d51e64049"
      },
      "execution_count": 31,
      "outputs": [
        {
          "output_type": "stream",
          "name": "stdout",
          "text": [
            "\n",
            "🔝 Top 10 ingredients in Training data:\n",
            "powder: 148\n",
            "Salt: 116\n",
            "seeds: 103\n",
            "Oil: 94\n",
            "chopped: 93\n",
            "Red: 93\n",
            "Green: 91\n",
            "Chilli: 89\n",
            "Coriander: 82\n",
            "Sunflower: 75\n"
          ]
        }
      ]
    },
    {
      "cell_type": "code",
      "source": [
        "# get the top units which are frequently seen in the recipe\n",
        "top_units = get_top_frequent_items(\n",
        "    item_list=unit_list,\n",
        "    pos_label='unit',\n",
        "    dataset_name='Training'\n",
        ")\n"
      ],
      "metadata": {
        "id": "wipghGXAMYQR",
        "colab": {
          "base_uri": "https://localhost:8080/"
        },
        "outputId": "9f4bc1f8-20c8-40de-cb89-9c50c3eff2d5"
      },
      "execution_count": 32,
      "outputs": [
        {
          "output_type": "stream",
          "name": "stdout",
          "text": [
            "\n",
            "🔝 Top 10 units in Training data:\n",
            "teaspoon: 182\n",
            "cup: 149\n",
            "tablespoon: 109\n",
            "grams: 75\n",
            "tablespoons: 70\n",
            "inch: 59\n",
            "cups: 56\n",
            "sprig: 48\n",
            "teaspoons: 45\n",
            "cloves: 45\n"
          ]
        }
      ]
    },
    {
      "cell_type": "markdown",
      "source": [
        "#### **4.5** *Plot Top 10 most frequent items* <font color = red>[2 marks]</font> <br>\n",
        "\n",
        "\n"
      ],
      "metadata": {
        "id": "9hldpjOHaPVZ"
      }
    },
    {
      "cell_type": "markdown",
      "source": [
        "Define a function ***plot_top_items*** to plot a bar graph on top 10 most frequent items for units and ingredients\n",
        "\n",
        "Here, item_list is used as a general parameter where you will call this function for ingredient and unit list"
      ],
      "metadata": {
        "id": "9ImpWstybDP_"
      }
    },
    {
      "cell_type": "code",
      "source": [
        "# define plot top items with parameters - top_item list, label to suggest whether its ingredient or unit, dataset_name\n",
        "\n",
        "import matplotlib.pyplot as plt\n",
        "\n",
        "def plot_top_items(top_items, label, dataset_name='Training'):\n",
        "\n",
        "    items, freqs = zip(*top_items)\n",
        "\n",
        "    plt.figure(figsize=(10, 5))\n",
        "    bars = plt.bar(items, freqs, color='mediumseagreen')\n",
        "    plt.title(f\"Top {label}s in {dataset_name} Data\")\n",
        "    plt.xlabel(f\"{label.title()}\")\n",
        "    plt.ylabel(\"Frequency\")\n",
        "    plt.xticks(rotation=45, ha='right')\n",
        "\n",
        "    # Add value labels to bars\n",
        "    for bar in bars:\n",
        "        height = bar.get_height()\n",
        "        plt.annotate(f'{height}',\n",
        "                     xy=(bar.get_x() + bar.get_width() / 2, height),\n",
        "                     xytext=(0, 3),  # vertical offset\n",
        "                     textcoords=\"offset points\",\n",
        "                     ha='center', va='bottom')\n",
        "\n",
        "    plt.tight_layout()\n",
        "    plt.show()\n",
        "\n"
      ],
      "metadata": {
        "id": "Gmsq0L1vaxfc"
      },
      "execution_count": 33,
      "outputs": []
    },
    {
      "cell_type": "markdown",
      "source": [
        "#### **4.6** *Perform EDA analysis* <font color = red>[5 marks]</font> <br>\n",
        "\n",
        "Plot the bar plots for ingredients and units and provide the insights for training dataset\n",
        "\n",
        "---\n",
        "\n"
      ],
      "metadata": {
        "id": "rHusCfkJ4suh"
      }
    },
    {
      "cell_type": "code",
      "source": [
        "# plot the top frequent ingredients in training data\n",
        "\n",
        "plot_top_items(top_ingredients, label='ingredient', dataset_name='Training')\n",
        "\n",
        "\n"
      ],
      "metadata": {
        "id": "8seIqFKyYFmn",
        "colab": {
          "base_uri": "https://localhost:8080/",
          "height": 507
        },
        "outputId": "1cbc7f07-f942-4162-dc5c-86743b8e9b2e"
      },
      "execution_count": 34,
      "outputs": [
        {
          "output_type": "display_data",
          "data": {
            "text/plain": [
              "<Figure size 1000x500 with 1 Axes>"
            ],
            "image/png": "[encoded data removed]"
          },
          "metadata": {}
        }
      ]
    },
    {
      "cell_type": "code",
      "source": [
        "# plot the top frequent units in training data\n",
        "plot_top_items(top_units, label='unit', dataset_name='Training')\n"
      ],
      "metadata": {
        "id": "fbXAwiUkMtqT",
        "colab": {
          "base_uri": "https://localhost:8080/",
          "height": 507
        },
        "outputId": "08fe1289-fee5-4b5f-b31c-3352d6ab59d7"
      },
      "execution_count": 35,
      "outputs": [
        {
          "output_type": "display_data",
          "data": {
            "text/plain": [
              "<Figure size 1000x500 with 1 Axes>"
            ],
            "image/png": "[encoded data removed]"
          },
          "metadata": {}
        }
      ]
    },
    {
      "cell_type": "markdown",
      "source": [
        "## **5** Exploratory Recipe Data Analysis on Validation Dataset (Optional)<font color = red> [0 marks]</font> <br>"
      ],
      "metadata": {
        "id": "vYh7zbJpCajJ"
      }
    },
    {
      "cell_type": "markdown",
      "source": [
        "#### **5.1** *Execute EDA on Validation Dataset with insights (Optional)* <font color = red> [0 marks]</font> <br>\n",
        "Initialise the dataset_name as ***Validation*** and call the ***plot_top_items*** for top 10 ingredients and units in the recipe data\n",
        "Provide the insights for the same.\n",
        "\n"
      ],
      "metadata": {
        "id": "K2wPIaOGCmk2"
      }
    },
    {
      "cell_type": "code",
      "source": [
        "# initialise the dataset_name\n"
      ],
      "metadata": {
        "id": "atSk0ChLPXHd"
      },
      "execution_count": 36,
      "outputs": []
    },
    {
      "cell_type": "code",
      "source": [
        "# use extract and validate tokens, categorise tokens, get top frequent items for ingredient list and unit list on validation dataframe\n"
      ],
      "metadata": {
        "id": "AFPxheIuj1o8"
      },
      "execution_count": null,
      "outputs": []
    },
    {
      "cell_type": "code",
      "source": [
        "# plot the top frequent ingredients in validation data\n"
      ],
      "metadata": {
        "id": "ikwox7ccMaU8"
      },
      "execution_count": null,
      "outputs": []
    },
    {
      "cell_type": "code",
      "source": [
        "# plot the top frequent units in training data\n"
      ],
      "metadata": {
        "id": "9QjVeMWpPwKO"
      },
      "execution_count": null,
      "outputs": []
    },
    {
      "cell_type": "markdown",
      "source": [
        "## **6** Feature Extraction For CRF Model <font color = red>[30 marks]</font> <br>"
      ],
      "metadata": {
        "id": "IvE92ait9GIS"
      }
    },
    {
      "cell_type": "markdown",
      "source": [
        "### **6.1** *Define a feature functions to take each token from recipe* <font color = red>[10 marks]</font>\n",
        "\n",
        "Define a function as ***word2features*** which takes a particular recipe and its index to work with all recipe input tokens and include custom key-value pairs.\n",
        "\n",
        "Also, use feature key-value pairs to mark the beginning and end of the sequence and to also check whether the word belongs to unit, quantity etc. Use keyword sets for unit and quantity for differentiating feature functions well. Also make use of relevant regex patterns on fractions, whole numbers etc."
      ],
      "metadata": {
        "id": "Gc5Q_Lj09GIT"
      }
    },
    {
      "cell_type": "markdown",
      "source": [
        "##### **6.1.1** **Define keywords for unit and quantity and create a quantity pattern to work on fractions, numbers and decimals** <font color = red>[3 marks]</font> <br>\n",
        "\n",
        "Create sets for **unit_keywords** and ***quantity_keywords*** and include all the words relevant for measuring the ingredients such as cup, tbsp, tsp etc. and in quantity keywords, include words such as half, quarter etc.\n",
        "\n",
        "Also suggested to use regex pattern as ***quantity_pattern*** to work with quantity in any format such as fractions, numbers and decimals.\n",
        "\n",
        "Then, load the spacy model and process the entire sentence"
      ],
      "metadata": {
        "id": "pyxmQ0PrhBra"
      }
    },
    {
      "cell_type": "code",
      "source": [
        "# define unit and quantity keywords along with quantity pattern\n",
        "\n",
        "# --- Keywords ---\n",
        "unit_keywords = {\n",
        "    'cup', 'cups', 'tsp', 'tbsp', 'teaspoon', 'teaspoons', 'tablespoon', 'tablespoons',\n",
        "    'gram', 'grams', 'kg', 'kilogram', 'ml', 'milliliter', 'oz', 'ounce',\n",
        "    'pound', 'pounds', 'clove', 'cloves', 'litre', 'litres'\n",
        "}\n",
        "\n",
        "quantity_keywords = {\n",
        "    'half', 'quarter', 'one', 'two', 'three', 'four', 'five', 'six', 'seven',\n",
        "    'eight', 'nine', 'ten', 'eleven', 'twelve', 'dozen', 'a', 'an'\n",
        "}\n",
        "\n",
        "# --- Quantity Patterns ---\n",
        "import re\n",
        "\n",
        "quantity_pattern = re.compile(r'^(\\d+(/\\d+)?|\\d+\\.\\d+|\\d+)$')  # e.g., 1, 1/2, 3.5\n",
        "fraction_pattern = re.compile(r'^\\d+/\\d+$')  # e.g., 1/2\n",
        "decimal_pattern = re.compile(r'^\\d+\\.\\d+$')  # e.g., 3.14\n"
      ],
      "metadata": {
        "id": "GhFUPxeth0KI"
      },
      "execution_count": 37,
      "outputs": []
    },
    {
      "cell_type": "code",
      "source": [
        "# load spaCy model\n",
        "import spacy\n",
        "\n",
        "# Load English tokenizer, POS tagger, dependency parser\n",
        "nlp = spacy.load(\"en_core_web_sm\")\n",
        "\n"
      ],
      "metadata": {
        "id": "9qmM8rw4VtJh"
      },
      "execution_count": 38,
      "outputs": []
    },
    {
      "cell_type": "markdown",
      "source": [
        "##### **6.1.2** **Define feature functions for CRF** <font color = red>[7 marks]</font> <br>\n",
        "\n",
        "Define ***word2features*** function and use the parameters such as sentence and its indexing as ***sent*** and ***i*** for extracting token level features for CRF Training.\n",
        "Build ***features*** dictionary, also mark the beginning and end of the sequence and use the ***unit_keywords***, ***quantity_keywords*** and ***quantity_pattern*** for knowing the presence of quantity or unit in the tokens"
      ],
      "metadata": {
        "id": "vrYD5tMNiFc-"
      }
    },
    {
      "cell_type": "markdown",
      "source": [
        "While building ***features*** dictionary, include\n",
        "- ***Core Features*** - The core features of a token should capture its lexical\n",
        "and grammatical properties. Include attributes like the raw token, its lemma, part-of-speech tag, dependency relation, and shape, as well as indicators for whether it's a stop word, digit, or punctuation. The details of the features are given below:\n",
        "\n",
        "    - `bias` - Constant feature with a fixed value of 1.0 to aid model learning.\n",
        "    - `token` - The lowercase form of the current token.\n",
        "    - `lemma` - The lowercase lemma (base form) of the token.\n",
        "    - `pos_tag` - Part-of-speech (POS) tag of the token.\n",
        "    - `tag` - Detailed POS tag of the token.\n",
        "    - `dep` - Dependency relation of the token in the sentence.\n",
        "    - `shape` - Shape of the token (e.g., \"Xxx\" for \"Milk\").\n",
        "    - `is_stop` - Boolean indicating if the token is a stopword.\n",
        "    - `is_digit` - Boolean indicating if the token consists of only digits.\n",
        "    - `has_digit` - Boolean indicating if the token contains at least one digit.\n",
        "    - `has_alpha` - Boolean indicating if the token contains at least one alphabetic character.\n",
        "    - `hyphenated` - Boolean indicating if the token contains a hyphen (-).\n",
        "    - `slash_present` - Boolean indicating if the token contains a slash (/).\n",
        "    - `is_title` - Boolean indicating if the token starts with an uppercase letter.\n",
        "    - `is_upper` - Boolean indicating if the token is fully uppercase.\n",
        "    - `is_punct` - Boolean indicating if the token is a punctuation mark.\n",
        "\n",
        "- ***Improved Quantity and Unit Detection*** - Use key-value pairs to mark the presence of quantities and units in the features dictionary. Utilise the unit_keywords, quantity_keywords, and quantity_pattern to identify and flag these elements. The details of the features are given below:\n",
        "\n",
        "    - `is_quantity` - Boolean indicating if the token matches a quantity pattern or keyword.\n",
        "    - `is_unit` - Boolean indicating if the token is a known measurement unit.\n",
        "    - `is_numeric` - Boolean indicating if the token matches a numeric pattern.\n",
        "    - `is_fraction` - Boolean indicating if the token represents a fraction (e.g., 1/2).\n",
        "    - `is_decimal` - Boolean indicating if the token represents a decimal number (e.g., 3.14).\n",
        "    - `preceding_word` - The previous token in the sentence, if available.\n",
        "    - `following_word` - The next token in the sentence, if available.\n",
        "\n",
        "- ***Contextual Features*** - Incorporate contextual information by adding features for the preceding and following tokens. Include indicators like BOS and EOS to mark the beginning and end of the sequence, and utilise unit_keywords, quantity_keywords, and quantity_pattern to identify the types of neighboring tokens. The features are given below:\n",
        "\n",
        "    - `prev_token` - The lowercase form of the previous token.\n",
        "    - `prev_is_quantity` - Boolean indicating if the previous token is a quantity.\n",
        "    - `prev_is_digit` - Boolean indicating if the previous token is a digit.\n",
        "    - `BOS` - Boolean indicating if the token is at the beginning of the sentence.\n",
        "    - `next_token` - The lowercase form of the next token.\n",
        "    - `next_is_unit` - Boolean indicating if the next token is a unit.\n",
        "    - `next_is_ingredient` - Boolean indicating if the next token is not a unit or quantity.\n",
        "    - `EOS` - Boolean indicating if the token is at the end of the sentence.\n",
        "\n"
      ],
      "metadata": {
        "id": "yAjf6j-dQtpr"
      }
    },
    {
      "cell_type": "code",
      "source": [
        "# define word2features for processing each token in the sentence sent by using index i.\n",
        "# use your own feature functions\n",
        "\n",
        "    # Process the entire sentence with spaCy\n",
        "\n",
        "    # --- Core Features ---\n",
        "\n",
        "    # --- Improved Quantity & Unit Detection ---\n",
        "\n",
        "    # --- Contextual Features ---\n",
        "\n",
        "\n",
        "import re\n",
        "\n",
        "def word2features(sent, i):\n",
        "\n",
        "    token = sent[i]\n",
        "    features = {\n",
        "        # --- Core Features ---\n",
        "        'bias': 1.0,\n",
        "        'token': token.text.lower(),\n",
        "        'lemma': token.lemma_.lower(),\n",
        "        'pos_tag': token.pos_,\n",
        "        'tag': token.tag_,\n",
        "        'dep': token.dep_,\n",
        "        'shape': token.shape_,\n",
        "        'is_stop': token.is_stop,\n",
        "        'is_digit': token.is_digit,\n",
        "        'has_digit': any(char.isdigit() for char in token.text),\n",
        "        'has_alpha': any(char.isalpha() for char in token.text),\n",
        "        'hyphenated': '-' in token.text,\n",
        "        'slash_present': '/' in token.text,\n",
        "        'is_title': token.is_title,\n",
        "        'is_upper': token.is_upper,\n",
        "        'is_punct': token.is_punct,\n",
        "\n",
        "        # --- Quantity & Unit Detection ---\n",
        "        'is_quantity': token.text.lower() in quantity_keywords or quantity_pattern.match(token.text),\n",
        "        'is_unit': token.text.lower() in unit_keywords,\n",
        "        'is_numeric': token.text.isnumeric(),\n",
        "        'is_fraction': bool(fraction_pattern.match(token.text)),\n",
        "        'is_decimal': bool(decimal_pattern.match(token.text)),\n",
        "\n",
        "        # Preceding and Following Words\n",
        "        'preceding_word': sent[i-1].text if i > 0 else '',\n",
        "        'following_word': sent[i+1].text if i < len(sent)-1 else '',\n",
        "    }\n",
        "\n",
        "    # --- Contextual Features ---\n",
        "    if i > 0:\n",
        "        token_prev = sent[i-1]\n",
        "        features.update({\n",
        "            'prev_token': token_prev.text.lower(),\n",
        "            'prev_is_quantity': token_prev.text.lower() in quantity_keywords or quantity_pattern.match(token_prev.text),\n",
        "            'prev_is_digit': token_prev.is_digit,\n",
        "        })\n",
        "    else:\n",
        "        features['BOS'] = True  # Beginning of Sentence\n",
        "\n",
        "    if i < len(sent) - 1:\n",
        "        token_next = sent[i+1]\n",
        "        features.update({\n",
        "            'next_token': token_next.text.lower(),\n",
        "            'next_is_unit': token_next.text.lower() in unit_keywords,\n",
        "            'next_is_ingredient': token_next.text.lower() not in unit_keywords and token_next.text.lower() not in quantity_keywords,\n",
        "        })\n",
        "    else:\n",
        "        features['EOS'] = True  # End of Sentence\n",
        "\n",
        "    return features\n"
      ],
      "metadata": {
        "id": "pRU7efTF9GIW"
      },
      "execution_count": 39,
      "outputs": []
    },
    {
      "cell_type": "markdown",
      "source": [
        "### **6.2** *Preparation of Recipe level features* <font color = red>[2 marks]</font>\n"
      ],
      "metadata": {
        "id": "hJm2nUw0998s"
      }
    },
    {
      "cell_type": "markdown",
      "source": [
        "##### **6.2.1** **Define function to work on all the recipes and call word2features for each recipe** <font color = red>[2 marks]</font> <br>\n",
        "\n",
        "Define ***sent2features*** function and inputs ***sent*** as a parameter and correctly generate feature functions for each token present in the sentence"
      ],
      "metadata": {
        "id": "KL19ooQejA5z"
      }
    },
    {
      "cell_type": "code",
      "source": [
        "# define sent2features by working on each token in the sentence and correctly generate dictionaries for features\n",
        "def sent2features(sent_tokens):\n",
        "\n",
        "    doc = nlp(\" \".join(sent_tokens))  # spaCy tokenizes sentence\n",
        "    return [word2features(doc, i) for i in range(len(doc))]\n"
      ],
      "metadata": {
        "id": "NlQEifz-9GIW"
      },
      "execution_count": null,
      "outputs": []
    },
    {
      "cell_type": "markdown",
      "source": [
        "### **6.3** *Convert X_train, X_val, y_train and y_val into train and validation feature sets and labels* <font color = red>[6 marks]</font>\n",
        "\n"
      ],
      "metadata": {
        "id": "FOK0t3c6-RiV"
      }
    },
    {
      "cell_type": "markdown",
      "source": [
        "##### **6.3.1** **Convert recipe into feature functions by using X_train and X_val** <font color = red>[2 marks]</font> <br>\n",
        "\n",
        "Create ***X_train_features*** and ***X_val_features*** as list to include the feature functions for each recipe present in training and validation sets"
      ],
      "metadata": {
        "id": "7tsd50b_nX0J"
      }
    },
    {
      "cell_type": "code",
      "source": [
        "# Convert tokenized inputs into features using sent2features\n",
        "def sent2features(sent_tokens):\n",
        "\n",
        "    doc = nlp(\" \".join(sent_tokens))  # spaCy tokenizes sentence\n",
        "    return [word2features(doc, i) for i in range(len(doc))]\n"
      ],
      "metadata": {
        "id": "hW-EYW7EZ-bs"
      },
      "execution_count": 42,
      "outputs": []
    },
    {
      "cell_type": "code",
      "source": [
        "# Convert input sentences into feature sets by taking training and validation dataset as X_train_features and X_val_features\n",
        "\n",
        "# Generate feature sets from tokenized input\n",
        "X_train_features = [sent2features(sent) for sent in train_inputs]\n",
        "X_val_features = [sent2features(sent) for sent in val_inputs]\n",
        "\n",
        "# Convert labels if not already assigned\n",
        "y_train_labels = train_labels\n",
        "y_val_labels = val_labels\n",
        "\n",
        "# Print lengths to verify\n",
        "print(\"Length of training features:\", len(X_train_features))\n",
        "print(\"Length of training labels:\", len(y_train_labels))\n",
        "print(\"Length of validation features:\", len(X_val_features))\n",
        "print(\"Length of validation labels:\", len(y_val_labels))\n",
        "\n"
      ],
      "metadata": {
        "id": "-bVPGPa39GIW",
        "colab": {
          "base_uri": "https://localhost:8080/"
        },
        "outputId": "c2ababdf-e1df-43ce-f941-05f057d2cc50"
      },
      "execution_count": 45,
      "outputs": [
        {
          "output_type": "stream",
          "name": "stdout",
          "text": [
            "Length of training features: 224\n",
            "Length of training labels: 224\n",
            "Length of validation features: 56\n",
            "Length of validation labels: 56\n"
          ]
        }
      ]
    },
    {
      "cell_type": "markdown",
      "source": [
        "##### **6.3.2** **Convert lables of y_train and y_val into list** <font color = red>[2 marks]</font> <br>\n",
        "\n",
        "Create ***y_train_labels*** and ***y_val_labels*** by using the list of y_train and y_val"
      ],
      "metadata": {
        "id": "jcwmwXn-n6cs"
      }
    },
    {
      "cell_type": "code",
      "source": [
        "# Convert labels into list as y_train_labels and y_val_labels\n",
        "\n",
        "y_train_labels = train_labels\n",
        "y_val_labels = val_labels\n",
        "\n"
      ],
      "metadata": {
        "id": "TiGgP3O6nfPg"
      },
      "execution_count": 46,
      "outputs": []
    },
    {
      "cell_type": "markdown",
      "source": [
        "##### **6.3.3** **Print the length of val and train features and labels** <font color = red>[2 marks]</font> <br>\n",
        "\n"
      ],
      "metadata": {
        "id": "4c-kjqtaoZvb"
      }
    },
    {
      "cell_type": "code",
      "source": [
        "# print the length of train features and labels\n",
        "\n",
        "print(f\"Training features: {len(X_train_features)}, Training labels: {len(y_train_labels)}\")\n",
        "\n",
        "\n"
      ],
      "metadata": {
        "id": "mWId2Nn0okMV",
        "colab": {
          "base_uri": "https://localhost:8080/"
        },
        "outputId": "93dc7fa5-ddc7-4762-fe22-ce3bf00643ab"
      },
      "execution_count": 47,
      "outputs": [
        {
          "output_type": "stream",
          "name": "stdout",
          "text": [
            "Training features: 224, Training labels: 224\n"
          ]
        }
      ]
    },
    {
      "cell_type": "code",
      "source": [
        "# print the length of validation features and labels\n",
        "print(f\"Validation features: {len(X_val_features)}, Validation labels: {len(y_val_labels)}\")\n"
      ],
      "metadata": {
        "id": "LAt_m_LubRvn",
        "colab": {
          "base_uri": "https://localhost:8080/"
        },
        "outputId": "3b4e126d-aee9-433b-c1b7-9f0cae17044d"
      },
      "execution_count": 48,
      "outputs": [
        {
          "output_type": "stream",
          "name": "stdout",
          "text": [
            "Validation features: 56, Validation labels: 56\n"
          ]
        }
      ]
    },
    {
      "cell_type": "markdown",
      "source": [
        "### **6.4** *Applying weights to feature sets* <font color = red>[12 marks]</font> <br>\n",
        "\n",
        "\n"
      ],
      "metadata": {
        "id": "dZffFBH-pVhx"
      }
    },
    {
      "cell_type": "markdown",
      "source": [
        "##### **6.4.1** **Flatten the labels of y_train** <font color = red>[2 marks]</font> <br>\n",
        "\n",
        "Create ***y_train_flat*** to flatten the structure of nested y_train"
      ],
      "metadata": {
        "id": "Goh_fX-6pqhN"
      }
    },
    {
      "cell_type": "code",
      "source": [
        "# Flatten labels in y_train\n",
        "from collections import Counter\n",
        "\n",
        "# Flatten all labels\n",
        "flat_y_train = [label for seq in y_train_labels for label in seq]\n",
        "\n",
        "# Count label frequencies\n",
        "label_counts = Counter(flat_y_train)\n",
        "total_samples = sum(label_counts.values())\n",
        "\n",
        "# Compute class weights: inverse frequency\n",
        "class_weights = {label: total_samples / count for label, count in label_counts.items()}\n",
        "\n",
        "print(\"\\nClass Weights:\")\n",
        "for label, weight in class_weights.items():\n",
        "    print(f\"{label}: {weight:.2f}\")\n"
      ],
      "metadata": {
        "id": "adLWfYn_p3gM",
        "colab": {
          "base_uri": "https://localhost:8080/"
        },
        "outputId": "5a72182a-fae0-47c7-9fa2-b1687b65e9d4"
      },
      "execution_count": 49,
      "outputs": [
        {
          "output_type": "stream",
          "name": "stdout",
          "text": [
            "\n",
            "Class Weights:\n",
            "quantity: 7.27\n",
            "unit: 8.62\n",
            "ingredient: 1.34\n"
          ]
        }
      ]
    },
    {
      "cell_type": "markdown",
      "source": [
        "##### **6.4.2** **Count the labels present in training target dataset** <font color = red>[2 marks]</font> <br>\n",
        "\n",
        "Create ***label_counts*** to count the frequencies of labels present in y_train_flat and retrieve the total samples by using the values of label_counts as ***total_samples***"
      ],
      "metadata": {
        "id": "qk9UMBrbp9dp"
      }
    },
    {
      "cell_type": "code",
      "source": [
        "from collections import Counter\n",
        "\n",
        "# Flatten the training labels\n",
        "flat_y_train = [label for seq in y_train_labels for label in seq]\n",
        "\n",
        "# Count label frequencies\n",
        "label_counts = Counter(flat_y_train)\n",
        "total_samples = sum(label_counts.values())\n",
        "\n",
        "# Compute inverse frequency class weights\n",
        "class_weights = {label: total_samples / count for label, count in label_counts.items()}\n",
        "\n",
        "# Penalize or emphasize the 'ingredient' label\n",
        "class_weights['ingredient'] *= 1.5  # You can change this multiplier\n",
        "\n",
        "# Optional: Print\n",
        "print(\"Class Weights:\")\n",
        "for label, weight in class_weights.items():\n",
        "    print(f\"{label}: {weight:.2f}\")\n"
      ],
      "metadata": {
        "id": "6Kiu8jckqZSH",
        "colab": {
          "base_uri": "https://localhost:8080/"
        },
        "outputId": "664f07e3-204a-4921-8117-02a57f922cf3"
      },
      "execution_count": 50,
      "outputs": [
        {
          "output_type": "stream",
          "name": "stdout",
          "text": [
            "Class Weights:\n",
            "quantity: 7.27\n",
            "unit: 8.62\n",
            "ingredient: 2.01\n"
          ]
        }
      ]
    },
    {
      "cell_type": "markdown",
      "source": [
        "##### **6.4.3** **Compute weight_dict by using inverse frequency method for label weights** <font color = red>[2 marks]</font> <br>\n",
        "\n",
        "- Create ***weight_dict*** as dictionary with label and its inverse frequency count in ***label_counts***\n",
        "\n",
        "- Penalise ingredient label in the dictionary"
      ],
      "metadata": {
        "id": "4aCmDsZYqYA-"
      }
    },
    {
      "cell_type": "code",
      "source": [
        "# Compute class weights (inverse frequency method) by considering total_samples and label_counts\n",
        "\n",
        "from collections import Counter\n",
        "\n",
        "# Flatten training labels\n",
        "flat_y_train = [label for seq in y_train_labels for label in seq]\n",
        "\n",
        "# Count labels\n",
        "label_counts = Counter(flat_y_train)\n",
        "total_samples = sum(label_counts.values())\n",
        "\n",
        "# Inverse frequency method\n",
        "class_weights = {label: total_samples / count for label, count in label_counts.items()}\n"
      ],
      "metadata": {
        "id": "FpbEAZ3zqxEo"
      },
      "execution_count": 51,
      "outputs": []
    },
    {
      "cell_type": "code",
      "source": [
        "# penalise ingredient label\n",
        "class_weights['ingredient'] *= 1.5  # increase its importance\n",
        "\n"
      ],
      "metadata": {
        "id": "hns3HbujXESs"
      },
      "execution_count": 52,
      "outputs": []
    },
    {
      "cell_type": "markdown",
      "source": [
        "##### **6.4.4** **Extract features along with class weights** <font color = red>[4 marks]</font> <br>\n",
        "\n",
        "Define a function ***extract_features_with_class_weights*** to work with training and validation datasets and extract features by applying class weights\n",
        "\n",
        "\n",
        "\n"
      ],
      "metadata": {
        "id": "V8TdHMlPrhh8"
      }
    },
    {
      "cell_type": "code",
      "source": [
        "# Assign labels (these were previously called train_labels and val_labels)\n",
        "y_train_labels = train_labels\n",
        "y_val_labels = val_labels\n"
      ],
      "metadata": {
        "id": "iNEAZWE7Js0I"
      },
      "execution_count": 53,
      "outputs": []
    },
    {
      "cell_type": "code",
      "source": [
        "# Apply weights to feature extraction in extract_features_with_class_weights by using parameters such as X (input tokens), y(labels) and weight_dict (Class weights)\n",
        "def extract_features_with_class_weights(X, y, weight_dict):\n",
        "\n",
        "    features_with_weights = []\n",
        "\n",
        "    for sent_tokens, sent_labels in zip(X, y):\n",
        "        if len(sent_tokens) != len(sent_labels):\n",
        "            print(f\"⚠️ Skipping sentence due to mismatch: {sent_tokens} vs {sent_labels}\")\n",
        "            continue\n",
        "\n",
        "        sent_features = []\n",
        "        for i in range(len(sent_tokens)):\n",
        "            token = sent_tokens[i]\n",
        "            doc = [spacy.tokens.Token(nlp.vocab, token)]  # manually create spaCy token object\n",
        "            base_features = word2features(doc, 0)         # index is 0 since it's single token\n",
        "            tag = sent_labels[i]\n",
        "            base_features['class_weight'] = weight_dict.get(tag, 1.0)\n",
        "            sent_features.append(base_features)\n",
        "\n",
        "        features_with_weights.append(sent_features)\n",
        "\n",
        "    return features_with_weights\n",
        "\n",
        "\n",
        "  # Apply manually computed class weights\n",
        "X_train_features = extract_features_with_class_weights(train_inputs, y_train_labels, class_weights)\n",
        "X_val_features = extract_features_with_class_weights(val_inputs, y_val_labels, class_weights)\n",
        "\n",
        "\n"
      ],
      "metadata": {
        "id": "1km6GR4TjXPX",
        "colab": {
          "base_uri": "https://localhost:8080/",
          "height": 265
        },
        "outputId": "5e55f7db-a14a-4a76-9796-4157768c97ba"
      },
      "execution_count": 54,
      "outputs": [
        {
          "output_type": "error",
          "ename": "TypeError",
          "evalue": "__cinit__() takes exactly 3 positional arguments (2 given)",
          "traceback": [
            "\u001b[0;31m---------------------------------------------------------------------------\u001b[0m",
            "\u001b[0;31mTypeError\u001b[0m                                 Traceback (most recent call last)",
            "\u001b[0;32m/tmp/ipython-input-54-1245513088.py\u001b[0m in \u001b[0;36m<cell line: 0>\u001b[0;34m()\u001b[0m\n\u001b[1;32m     24\u001b[0m \u001b[0;34m\u001b[0m\u001b[0m\n\u001b[1;32m     25\u001b[0m   \u001b[0;31m# Apply manually computed class weights\u001b[0m\u001b[0;34m\u001b[0m\u001b[0;34m\u001b[0m\u001b[0m\n\u001b[0;32m---> 26\u001b[0;31m \u001b[0mX_train_features\u001b[0m \u001b[0;34m=\u001b[0m \u001b[0mextract_features_with_class_weights\u001b[0m\u001b[0;34m(\u001b[0m\u001b[0mtrain_inputs\u001b[0m\u001b[0;34m,\u001b[0m \u001b[0my_train_labels\u001b[0m\u001b[0;34m,\u001b[0m \u001b[0mclass_weights\u001b[0m\u001b[0;34m)\u001b[0m\u001b[0;34m\u001b[0m\u001b[0;34m\u001b[0m\u001b[0m\n\u001b[0m\u001b[1;32m     27\u001b[0m \u001b[0mX_val_features\u001b[0m \u001b[0;34m=\u001b[0m \u001b[0mextract_features_with_class_weights\u001b[0m\u001b[0;34m(\u001b[0m\u001b[0mval_inputs\u001b[0m\u001b[0;34m,\u001b[0m \u001b[0my_val_labels\u001b[0m\u001b[0;34m,\u001b[0m \u001b[0mclass_weights\u001b[0m\u001b[0;34m)\u001b[0m\u001b[0;34m\u001b[0m\u001b[0;34m\u001b[0m\u001b[0m\n\u001b[1;32m     28\u001b[0m \u001b[0;34m\u001b[0m\u001b[0m\n",
            "\u001b[0;32m/tmp/ipython-input-54-1245513088.py\u001b[0m in \u001b[0;36mextract_features_with_class_weights\u001b[0;34m(X, y, weight_dict)\u001b[0m\n\u001b[1;32m     12\u001b[0m         \u001b[0;32mfor\u001b[0m \u001b[0mi\u001b[0m \u001b[0;32min\u001b[0m \u001b[0mrange\u001b[0m\u001b[0;34m(\u001b[0m\u001b[0mlen\u001b[0m\u001b[0;34m(\u001b[0m\u001b[0msent_tokens\u001b[0m\u001b[0;34m)\u001b[0m\u001b[0;34m)\u001b[0m\u001b[0;34m:\u001b[0m\u001b[0;34m\u001b[0m\u001b[0;34m\u001b[0m\u001b[0m\n\u001b[1;32m     13\u001b[0m             \u001b[0mtoken\u001b[0m \u001b[0;34m=\u001b[0m \u001b[0msent_tokens\u001b[0m\u001b[0;34m[\u001b[0m\u001b[0mi\u001b[0m\u001b[0;34m]\u001b[0m\u001b[0;34m\u001b[0m\u001b[0;34m\u001b[0m\u001b[0m\n\u001b[0;32m---> 14\u001b[0;31m             \u001b[0mdoc\u001b[0m \u001b[0;34m=\u001b[0m \u001b[0;34m[\u001b[0m\u001b[0mspacy\u001b[0m\u001b[0;34m.\u001b[0m\u001b[0mtokens\u001b[0m\u001b[0;34m.\u001b[0m\u001b[0mToken\u001b[0m\u001b[0;34m(\u001b[0m\u001b[0mnlp\u001b[0m\u001b[0;34m.\u001b[0m\u001b[0mvocab\u001b[0m\u001b[0;34m,\u001b[0m \u001b[0mtoken\u001b[0m\u001b[0;34m)\u001b[0m\u001b[0;34m]\u001b[0m  \u001b[0;31m# manually create spaCy token object\u001b[0m\u001b[0;34m\u001b[0m\u001b[0;34m\u001b[0m\u001b[0m\n\u001b[0m\u001b[1;32m     15\u001b[0m             \u001b[0mbase_features\u001b[0m \u001b[0;34m=\u001b[0m \u001b[0mword2features\u001b[0m\u001b[0;34m(\u001b[0m\u001b[0mdoc\u001b[0m\u001b[0;34m,\u001b[0m \u001b[0;36m0\u001b[0m\u001b[0;34m)\u001b[0m         \u001b[0;31m# index is 0 since it's single token\u001b[0m\u001b[0;34m\u001b[0m\u001b[0;34m\u001b[0m\u001b[0m\n\u001b[1;32m     16\u001b[0m             \u001b[0mtag\u001b[0m \u001b[0;34m=\u001b[0m \u001b[0msent_labels\u001b[0m\u001b[0;34m[\u001b[0m\u001b[0mi\u001b[0m\u001b[0;34m]\u001b[0m\u001b[0;34m\u001b[0m\u001b[0;34m\u001b[0m\u001b[0m\n",
            "\u001b[0;32m/usr/local/lib/python3.11/dist-packages/spacy/tokens/token.pyx\u001b[0m in \u001b[0;36mspacy.tokens.token.Token.__cinit__\u001b[0;34m()\u001b[0m\n",
            "\u001b[0;31mTypeError\u001b[0m: __cinit__() takes exactly 3 positional arguments (2 given)"
          ]
        }
      ]
    },
    {
      "cell_type": "markdown",
      "source": [
        "##### **6.4.5** **Execute extract_features_with_class_weights on training and validation datasets** <font color = red>[2 marks]</font> <br>\n",
        "\n",
        "Create ***X_train_weighted_features*** and ***X_val_weighted_features*** for extracting training and validation features along with their weights by calling ***extract_features_with_class_weights*** on the datasets"
      ],
      "metadata": {
        "id": "51ABmKwKsaiz"
      }
    },
    {
      "cell_type": "code",
      "source": [],
      "metadata": {
        "colab": {
          "base_uri": "https://localhost:8080/",
          "height": 275
        },
        "id": "KNyavUmeLKhk",
        "outputId": "93e25f92-f2af-4ce1-eba0-a80484858dfb"
      },
      "execution_count": null,
      "outputs": [
        {
          "output_type": "error",
          "ename": "IndexError",
          "evalue": "list index out of range",
          "traceback": [
            "\u001b[0;31m---------------------------------------------------------------------------\u001b[0m",
            "\u001b[0;31mIndexError\u001b[0m                                Traceback (most recent call last)",
            "\u001b[0;32m/tmp/ipython-input-80-7045706.py\u001b[0m in \u001b[0;36m<cell line: 0>\u001b[0;34m()\u001b[0m\n\u001b[0;32m----> 1\u001b[0;31m \u001b[0mX_train_features\u001b[0m \u001b[0;34m=\u001b[0m \u001b[0mextract_features_with_class_weights\u001b[0m\u001b[0;34m(\u001b[0m\u001b[0mtrain_inputs\u001b[0m\u001b[0;34m,\u001b[0m \u001b[0my_train_labels\u001b[0m\u001b[0;34m,\u001b[0m \u001b[0mclass_weights\u001b[0m\u001b[0;34m)\u001b[0m\u001b[0;34m\u001b[0m\u001b[0;34m\u001b[0m\u001b[0m\n\u001b[0m\u001b[1;32m      2\u001b[0m \u001b[0mX_val_features\u001b[0m \u001b[0;34m=\u001b[0m \u001b[0mextract_features_with_class_weights\u001b[0m\u001b[0;34m(\u001b[0m\u001b[0mval_inputs\u001b[0m\u001b[0;34m,\u001b[0m \u001b[0my_val_labels\u001b[0m\u001b[0;34m,\u001b[0m \u001b[0mclass_weights\u001b[0m\u001b[0;34m)\u001b[0m\u001b[0;34m\u001b[0m\u001b[0;34m\u001b[0m\u001b[0m\n",
            "\u001b[0;32m/tmp/ipython-input-78-823129207.py\u001b[0m in \u001b[0;36mextract_features_with_class_weights\u001b[0;34m(X, y, weight_dict)\u001b[0m\n\u001b[1;32m     11\u001b[0m         \u001b[0;32mfor\u001b[0m \u001b[0mi\u001b[0m\u001b[0;34m,\u001b[0m \u001b[0mtoken\u001b[0m \u001b[0;32min\u001b[0m \u001b[0menumerate\u001b[0m\u001b[0;34m(\u001b[0m\u001b[0mdoc\u001b[0m\u001b[0;34m)\u001b[0m\u001b[0;34m:\u001b[0m\u001b[0;34m\u001b[0m\u001b[0;34m\u001b[0m\u001b[0m\n\u001b[1;32m     12\u001b[0m             \u001b[0mbase_features\u001b[0m \u001b[0;34m=\u001b[0m \u001b[0mword2features\u001b[0m\u001b[0;34m(\u001b[0m\u001b[0mdoc\u001b[0m\u001b[0;34m,\u001b[0m \u001b[0mi\u001b[0m\u001b[0;34m)\u001b[0m\u001b[0;34m\u001b[0m\u001b[0;34m\u001b[0m\u001b[0m\n\u001b[0;32m---> 13\u001b[0;31m             \u001b[0mlabel\u001b[0m \u001b[0;34m=\u001b[0m \u001b[0msent_labels\u001b[0m\u001b[0;34m[\u001b[0m\u001b[0mi\u001b[0m\u001b[0;34m]\u001b[0m\u001b[0;34m\u001b[0m\u001b[0;34m\u001b[0m\u001b[0m\n\u001b[0m\u001b[1;32m     14\u001b[0m             \u001b[0mbase_features\u001b[0m\u001b[0;34m[\u001b[0m\u001b[0;34m'class_weight'\u001b[0m\u001b[0;34m]\u001b[0m \u001b[0;34m=\u001b[0m \u001b[0mweight_dict\u001b[0m\u001b[0;34m.\u001b[0m\u001b[0mget\u001b[0m\u001b[0;34m(\u001b[0m\u001b[0mlabel\u001b[0m\u001b[0;34m,\u001b[0m \u001b[0;36m1.0\u001b[0m\u001b[0;34m)\u001b[0m\u001b[0;34m\u001b[0m\u001b[0;34m\u001b[0m\u001b[0m\n\u001b[1;32m     15\u001b[0m             \u001b[0msent_features\u001b[0m\u001b[0;34m.\u001b[0m\u001b[0mappend\u001b[0m\u001b[0;34m(\u001b[0m\u001b[0mbase_features\u001b[0m\u001b[0;34m)\u001b[0m\u001b[0;34m\u001b[0m\u001b[0;34m\u001b[0m\u001b[0m\n",
            "\u001b[0;31mIndexError\u001b[0m: list index out of range"
          ]
        }
      ]
    },
    {
      "cell_type": "code",
      "source": [
        "# Apply manually computed class weights\n",
        "crf = sklearn_crfsuite.CRF(\n",
        "    algorithm='lbfgs',\n",
        "    c1=0.1,\n",
        "    c2=0.1,\n",
        "    max_iterations=100,\n",
        "    all_possible_transitions=True\n",
        ")\n",
        "\n",
        "# Train with weighted labels\n",
        "crf.fit(X_train_features, y_train_labels, class_weight=class_weights)\n"
      ],
      "metadata": {
        "id": "-XUFFnm5sYE6",
        "colab": {
          "base_uri": "https://localhost:8080/",
          "height": 173
        },
        "outputId": "0c53e6ba-4084-4320-c63a-fff3d989e409"
      },
      "execution_count": null,
      "outputs": [
        {
          "output_type": "error",
          "ename": "TypeError",
          "evalue": "CRF.fit() got an unexpected keyword argument 'class_weight'",
          "traceback": [
            "\u001b[0;31m---------------------------------------------------------------------------\u001b[0m",
            "\u001b[0;31mTypeError\u001b[0m                                 Traceback (most recent call last)",
            "\u001b[0;32m/tmp/ipython-input-79-3027711754.py\u001b[0m in \u001b[0;36m<cell line: 0>\u001b[0;34m()\u001b[0m\n\u001b[1;32m      9\u001b[0m \u001b[0;34m\u001b[0m\u001b[0m\n\u001b[1;32m     10\u001b[0m \u001b[0;31m# Train with weighted labels\u001b[0m\u001b[0;34m\u001b[0m\u001b[0;34m\u001b[0m\u001b[0m\n\u001b[0;32m---> 11\u001b[0;31m \u001b[0mcrf\u001b[0m\u001b[0;34m.\u001b[0m\u001b[0mfit\u001b[0m\u001b[0;34m(\u001b[0m\u001b[0mX_train_features\u001b[0m\u001b[0;34m,\u001b[0m \u001b[0my_train_labels\u001b[0m\u001b[0;34m,\u001b[0m \u001b[0mclass_weight\u001b[0m\u001b[0;34m=\u001b[0m\u001b[0mclass_weights\u001b[0m\u001b[0;34m)\u001b[0m\u001b[0;34m\u001b[0m\u001b[0;34m\u001b[0m\u001b[0m\n\u001b[0m",
            "\u001b[0;31mTypeError\u001b[0m: CRF.fit() got an unexpected keyword argument 'class_weight'"
          ]
        }
      ]
    },
    {
      "cell_type": "markdown",
      "source": [
        "## **7** Model Building and Training <font color = red>[10 marks]</font> <br>"
      ],
      "metadata": {
        "id": "Aah9bFDlAuzI"
      }
    },
    {
      "cell_type": "markdown",
      "source": [
        "### **7.1** *Initialise the CRF model and train it* <font color = red>[5 marks]</font>\n",
        "Train the CRF model with the specified hyperparameters such as\n",
        "\n",
        "### CRF Model Hyperparameters Explanation\n",
        "\n",
        "| Parameter                  | Description |\n",
        "|----------------------------|-------------|\n",
        "| **algorithm='lbfgs'**      | Optimisation algorithm used for training. `lbfgs` (Limited-memory Broyden–Fletcher–Goldfarb–Shanno) is a quasi-Newton optimisation method. |\n",
        "| **c1=0.5**                | L1 regularisation term to control sparsity in feature weights. Helps in feature selection. |\n",
        "| **c2=1.0**                | L2 regularisation term to prevent overfitting by penalising large weights. |\n",
        "| **max_iterations=100**     | Maximum number of iterations for model training. Higher values allow more convergence but increase computation time. |\n",
        "| **all_possible_transitions=True** | Ensures that all possible state transitions are considered in training, making the model more robust. |\n",
        "\n",
        "Use weight_dict for training CRF\n",
        "\n"
      ],
      "metadata": {
        "id": "axrvWR9TAuzJ"
      }
    },
    {
      "cell_type": "code",
      "source": [
        "# initialise CRF model with the specified hyperparameters and use weight_dict\n",
        "\n",
        "# train the CRF model with the weighted training data\n"
      ],
      "metadata": {
        "id": "jig2J_n1AuzM"
      },
      "execution_count": null,
      "outputs": []
    },
    {
      "cell_type": "markdown",
      "source": [
        "### **7.2** *Evaluation of Training Dataset using CRF model* <font color = red>[4 marks]</font>\n",
        "Evaluate on training dataset using CRF by using flat classification report and confusion matrix"
      ],
      "metadata": {
        "id": "sDLwvYqOF6m_"
      }
    },
    {
      "cell_type": "code",
      "source": [
        "# evaluate on the training dataset\n"
      ],
      "metadata": {
        "id": "Us57jWSQ6laL"
      },
      "execution_count": null,
      "outputs": []
    },
    {
      "cell_type": "code",
      "source": [
        "# specify the flat classification report by using training data for evaluation\n"
      ],
      "metadata": {
        "id": "gNGZnd-D6oq3"
      },
      "execution_count": null,
      "outputs": []
    },
    {
      "cell_type": "code",
      "source": [
        "# create a confusion matrix on training datset\n"
      ],
      "metadata": {
        "id": "GqP9WBvJ63qm"
      },
      "execution_count": null,
      "outputs": []
    },
    {
      "cell_type": "markdown",
      "source": [
        "### **7.3** *Save the CRF model* <font color = red>[1 marks]</font>\n",
        "Save the CRF model"
      ],
      "metadata": {
        "id": "Yps2-XscGuHc"
      }
    },
    {
      "cell_type": "code",
      "source": [
        "# dump the model using joblib as crf_model.pkl\n"
      ],
      "metadata": {
        "id": "iAYDLatcGzEN"
      },
      "execution_count": null,
      "outputs": []
    },
    {
      "cell_type": "markdown",
      "source": [
        "## **8** Prediction and Model Evaluation <font color = red>[3 marks]</font> <br>"
      ],
      "metadata": {
        "id": "agM32oUlBo1K"
      }
    },
    {
      "cell_type": "markdown",
      "source": [
        "### **8.1** *Predict and Evaluate the CRF model on validation set* <font color = red>[3 marks]</font>\n",
        "Evaluate the metrics for CRF model by using flat classification report and confusion matrix\n",
        "\n",
        "\n"
      ],
      "metadata": {
        "id": "b5BYmkTrBo1L"
      }
    },
    {
      "cell_type": "code",
      "source": [
        "# predict the crf model on validation dataset\n"
      ],
      "metadata": {
        "id": "qhH6Sp8tBo1M"
      },
      "execution_count": null,
      "outputs": []
    },
    {
      "cell_type": "code",
      "source": [
        "# specify flat classification report\n"
      ],
      "metadata": {
        "id": "SMktt_w1kovB"
      },
      "execution_count": null,
      "outputs": []
    },
    {
      "cell_type": "code",
      "source": [
        "# create a confusion matrix on validation dataset\n"
      ],
      "metadata": {
        "id": "eI2tUBRRk4jK"
      },
      "execution_count": null,
      "outputs": []
    },
    {
      "cell_type": "markdown",
      "source": [
        "## **9** Error Analysis on Validation Data <font color = red>[10 marks]</font> <br>\n",
        "Investigate misclassified samples in validation dataset and provide the insights\n"
      ],
      "metadata": {
        "id": "8pD6hD3NEV3q"
      }
    },
    {
      "cell_type": "markdown",
      "source": [
        "### **9.1** *Investigate misclassified samples in validation dataset* <font color = red>[8 marks]</font>\n",
        "\n"
      ],
      "metadata": {
        "id": "R9tUvjrzFjib"
      }
    },
    {
      "cell_type": "markdown",
      "source": [
        "##### **9.1.1** Flatten the labels of validation data and initialise error data <font color = red>[2 marks]</font> <br>\n",
        "\n",
        "\n",
        "\n",
        "Flatten the true and predicted labels and initialise the error data as ***error_data***"
      ],
      "metadata": {
        "id": "Lb15uObqxKe4"
      }
    },
    {
      "cell_type": "code",
      "source": [
        "# flatten Labels and Initialise Error Data\n"
      ],
      "metadata": {
        "id": "gbgYAjd-UzkI"
      },
      "execution_count": null,
      "outputs": []
    },
    {
      "cell_type": "markdown",
      "source": [
        "##### **9.1.2** Iterate the validation data and collect Error Information<font color = red> [2 marks]</font> <br>\n",
        "\n",
        "\n",
        "\n",
        "Iterate through validation data (X_val, y_val_labels, y_pred_val) and compare true vs. predicted labels. Collect error details, including surrounding context, previous/next tokens, and class weights, then store them in error_data"
      ],
      "metadata": {
        "id": "LS9foWfdXHOg"
      }
    },
    {
      "cell_type": "code",
      "source": [
        "# iterate and collect Error Information\n",
        "\n",
        "            # get previous and next tokens with handling for boundary cases\n"
      ],
      "metadata": {
        "id": "_VKLc1s0U0yY"
      },
      "execution_count": null,
      "outputs": []
    },
    {
      "cell_type": "markdown",
      "source": [
        "##### **9.1.3** Create dataframe from error_data and print overall accuracy <font color = red>[1 marks]</font> <br>\n",
        "\n",
        "\n",
        "\n",
        "Change error_data into dataframe and then use it to illustrate the overall accuracy of validation data"
      ],
      "metadata": {
        "id": "G_R8CCAFZSzF"
      }
    },
    {
      "cell_type": "code",
      "source": [
        "# Create DataFrame and Print Overall Accuracy\n"
      ],
      "metadata": {
        "id": "fUffRP7XU3YC"
      },
      "execution_count": null,
      "outputs": []
    },
    {
      "cell_type": "markdown",
      "source": [
        "##### **9.1.4** Analyse errors by label type<font color = red> [3 marks]</font> <br>\n",
        "Analyse errors found in the validation data by each label and display their class weights along with accuracy and also display the error dataframe with token,  previous token, next token, true label, predicted label and context"
      ],
      "metadata": {
        "id": "8OUYHFmgZhgJ"
      }
    },
    {
      "cell_type": "code",
      "source": [
        "# Analyse errors found in the validation data by each label\n",
        "# and display their class weights along with accuracy\n",
        "# and display the error dataframe with token, previous token, next token, true label, predicted label and context\n",
        "\n"
      ],
      "metadata": {
        "collapsed": true,
        "id": "zu8CtjU6WR9l"
      },
      "execution_count": null,
      "outputs": []
    },
    {
      "cell_type": "markdown",
      "source": [
        "### **9.2** *Provide insights from the validation dataset* <font color = red>[2 marks]</font>\n",
        "\n",
        "\n"
      ],
      "metadata": {
        "id": "Q3n74kVvEV3q"
      }
    },
    {
      "cell_type": "markdown",
      "source": [
        " <font color = red>[Write your answer]</font>"
      ],
      "metadata": {
        "id": "aWZdf1O_vWnD"
      }
    },
    {
      "cell_type": "markdown",
      "source": [
        "## **10** Conclusion (Optional) <font color = red>[0 marks]</font> <br>\n",
        "\n",
        "Write your findings and conclusion."
      ],
      "metadata": {
        "id": "qUjFPBMxH20n"
      }
    }
  ]
}